{
  "nbformat": 4,
  "nbformat_minor": 0,
  "metadata": {
    "colab": {
      "provenance": [],
      "toc_visible": true,
      "machine_shape": "hm",
      "gpuType": "T4",
      "mount_file_id": "13cQjcIYMElmVy6BgsZMBKtbWFvJgERHA",
      "authorship_tag": "ABX9TyN3tG8NXtu0XLqODV1ZPeuk",
      "include_colab_link": true
    },
    "kernelspec": {
      "name": "python3",
      "display_name": "Python 3"
    },
    "language_info": {
      "name": "python"
    },
    "accelerator": "GPU"
  },
  "cells": [
    {
      "cell_type": "markdown",
      "metadata": {
        "id": "view-in-github",
        "colab_type": "text"
      },
      "source": [
        "<a href=\"https://colab.research.google.com/github/Tuan-LeHoang/hira_kata_recognition/blob/main/Train.ipynb\" target=\"_parent\"><img src=\"https://colab.research.google.com/assets/colab-badge.svg\" alt=\"Open In Colab\"/></a>"
      ]
    },
    {
      "cell_type": "code",
      "execution_count": 2,
      "metadata": {
        "colab": {
          "base_uri": "https://localhost:8080/"
        },
        "id": "FJt8o5UlY-fv",
        "outputId": "4a6db94e-75c5-42cb-fe51-a489b055d112"
      },
      "outputs": [
        {
          "output_type": "stream",
          "name": "stdout",
          "text": [
            "/content/drive/MyDrive/2023_Project/OCR\n"
          ]
        }
      ],
      "source": [
        "%cd /content/drive/MyDrive/2023_Project/OCR"
      ]
    },
    {
      "cell_type": "code",
      "source": [
        "!ls"
      ],
      "metadata": {
        "colab": {
          "base_uri": "https://localhost:8080/"
        },
        "id": "cMuzR7IIZNOd",
        "outputId": "de7478c0-7bf5-4fe5-f757-26be4e48aa6d"
      },
      "execution_count": 3,
      "outputs": [
        {
          "output_type": "stream",
          "name": "stdout",
          "text": [
            "data\t\t      hira_better_quality      __MACOSX  Train.ipynb\n",
            "Data_Exploring.ipynb  hira_better_quality.zip  models\n"
          ]
        }
      ]
    },
    {
      "cell_type": "code",
      "source": [
        "# !pip install japanize_matplotlib\n",
        "# !pip install timm"
      ],
      "metadata": {
        "colab": {
          "base_uri": "https://localhost:8080/"
        },
        "id": "oJHhIoVdZc6r",
        "outputId": "4940d4d1-b1f4-4d88-f059-46c84b2acd22"
      },
      "execution_count": 4,
      "outputs": [
        {
          "output_type": "stream",
          "name": "stdout",
          "text": [
            "Requirement already satisfied: japanize_matplotlib in /usr/local/lib/python3.10/dist-packages (1.1.3)\n",
            "Requirement already satisfied: matplotlib in /usr/local/lib/python3.10/dist-packages (from japanize_matplotlib) (3.7.1)\n",
            "Requirement already satisfied: contourpy>=1.0.1 in /usr/local/lib/python3.10/dist-packages (from matplotlib->japanize_matplotlib) (1.1.0)\n",
            "Requirement already satisfied: cycler>=0.10 in /usr/local/lib/python3.10/dist-packages (from matplotlib->japanize_matplotlib) (0.11.0)\n",
            "Requirement already satisfied: fonttools>=4.22.0 in /usr/local/lib/python3.10/dist-packages (from matplotlib->japanize_matplotlib) (4.40.0)\n",
            "Requirement already satisfied: kiwisolver>=1.0.1 in /usr/local/lib/python3.10/dist-packages (from matplotlib->japanize_matplotlib) (1.4.4)\n",
            "Requirement already satisfied: numpy>=1.20 in /usr/local/lib/python3.10/dist-packages (from matplotlib->japanize_matplotlib) (1.22.4)\n",
            "Requirement already satisfied: packaging>=20.0 in /usr/local/lib/python3.10/dist-packages (from matplotlib->japanize_matplotlib) (23.1)\n",
            "Requirement already satisfied: pillow>=6.2.0 in /usr/local/lib/python3.10/dist-packages (from matplotlib->japanize_matplotlib) (8.4.0)\n",
            "Requirement already satisfied: pyparsing>=2.3.1 in /usr/local/lib/python3.10/dist-packages (from matplotlib->japanize_matplotlib) (3.1.0)\n",
            "Requirement already satisfied: python-dateutil>=2.7 in /usr/local/lib/python3.10/dist-packages (from matplotlib->japanize_matplotlib) (2.8.2)\n",
            "Requirement already satisfied: six>=1.5 in /usr/local/lib/python3.10/dist-packages (from python-dateutil>=2.7->matplotlib->japanize_matplotlib) (1.16.0)\n",
            "Requirement already satisfied: timm in /usr/local/lib/python3.10/dist-packages (0.9.2)\n",
            "Requirement already satisfied: torch>=1.7 in /usr/local/lib/python3.10/dist-packages (from timm) (2.0.1+cu118)\n",
            "Requirement already satisfied: torchvision in /usr/local/lib/python3.10/dist-packages (from timm) (0.15.2+cu118)\n",
            "Requirement already satisfied: pyyaml in /usr/local/lib/python3.10/dist-packages (from timm) (6.0)\n",
            "Requirement already satisfied: huggingface-hub in /usr/local/lib/python3.10/dist-packages (from timm) (0.15.1)\n",
            "Requirement already satisfied: safetensors in /usr/local/lib/python3.10/dist-packages (from timm) (0.3.1)\n",
            "Requirement already satisfied: filelock in /usr/local/lib/python3.10/dist-packages (from torch>=1.7->timm) (3.12.2)\n",
            "Requirement already satisfied: typing-extensions in /usr/local/lib/python3.10/dist-packages (from torch>=1.7->timm) (4.6.3)\n",
            "Requirement already satisfied: sympy in /usr/local/lib/python3.10/dist-packages (from torch>=1.7->timm) (1.11.1)\n",
            "Requirement already satisfied: networkx in /usr/local/lib/python3.10/dist-packages (from torch>=1.7->timm) (3.1)\n",
            "Requirement already satisfied: jinja2 in /usr/local/lib/python3.10/dist-packages (from torch>=1.7->timm) (3.1.2)\n",
            "Requirement already satisfied: triton==2.0.0 in /usr/local/lib/python3.10/dist-packages (from torch>=1.7->timm) (2.0.0)\n",
            "Requirement already satisfied: cmake in /usr/local/lib/python3.10/dist-packages (from triton==2.0.0->torch>=1.7->timm) (3.25.2)\n",
            "Requirement already satisfied: lit in /usr/local/lib/python3.10/dist-packages (from triton==2.0.0->torch>=1.7->timm) (16.0.6)\n",
            "Requirement already satisfied: fsspec in /usr/local/lib/python3.10/dist-packages (from huggingface-hub->timm) (2023.6.0)\n",
            "Requirement already satisfied: requests in /usr/local/lib/python3.10/dist-packages (from huggingface-hub->timm) (2.27.1)\n",
            "Requirement already satisfied: tqdm>=4.42.1 in /usr/local/lib/python3.10/dist-packages (from huggingface-hub->timm) (4.65.0)\n",
            "Requirement already satisfied: packaging>=20.9 in /usr/local/lib/python3.10/dist-packages (from huggingface-hub->timm) (23.1)\n",
            "Requirement already satisfied: numpy in /usr/local/lib/python3.10/dist-packages (from torchvision->timm) (1.22.4)\n",
            "Requirement already satisfied: pillow!=8.3.*,>=5.3.0 in /usr/local/lib/python3.10/dist-packages (from torchvision->timm) (8.4.0)\n",
            "Requirement already satisfied: MarkupSafe>=2.0 in /usr/local/lib/python3.10/dist-packages (from jinja2->torch>=1.7->timm) (2.1.3)\n",
            "Requirement already satisfied: urllib3<1.27,>=1.21.1 in /usr/local/lib/python3.10/dist-packages (from requests->huggingface-hub->timm) (1.26.16)\n",
            "Requirement already satisfied: certifi>=2017.4.17 in /usr/local/lib/python3.10/dist-packages (from requests->huggingface-hub->timm) (2023.5.7)\n",
            "Requirement already satisfied: charset-normalizer~=2.0.0 in /usr/local/lib/python3.10/dist-packages (from requests->huggingface-hub->timm) (2.0.12)\n",
            "Requirement already satisfied: idna<4,>=2.5 in /usr/local/lib/python3.10/dist-packages (from requests->huggingface-hub->timm) (3.4)\n",
            "Requirement already satisfied: mpmath>=0.19 in /usr/local/lib/python3.10/dist-packages (from sympy->torch>=1.7->timm) (1.3.0)\n"
          ]
        }
      ]
    },
    {
      "cell_type": "markdown",
      "source": [
        "#0. Import libs"
      ],
      "metadata": {
        "id": "FnTQIaXvZO83"
      }
    },
    {
      "cell_type": "code",
      "source": [
        "import torch\n",
        "import torch.nn as nn\n",
        "from torch.utils.data import Dataset, DataLoader\n",
        "\n",
        "import cv2\n",
        "\n",
        "import albumentations as A\n",
        "from albumentations.pytorch import ToTensorV2\n",
        "\n",
        "import numpy as np # data processing\n",
        "import matplotlib.pyplot as plt # Data visualization\n",
        "import japanize_matplotlib\n",
        "from tqdm import tqdm # Progress bar\n"
      ],
      "metadata": {
        "id": "22kJZVeIZOQE"
      },
      "execution_count": 5,
      "outputs": []
    },
    {
      "cell_type": "code",
      "source": [
        "import os\n",
        "import pandas as pd\n",
        "import torch.nn.functional as F"
      ],
      "metadata": {
        "id": "b8qUASGkaVV-"
      },
      "execution_count": 6,
      "outputs": []
    },
    {
      "cell_type": "markdown",
      "source": [
        "#1. EDA"
      ],
      "metadata": {
        "id": "zdyvS0_EZxyA"
      }
    },
    {
      "cell_type": "code",
      "source": [],
      "metadata": {
        "id": "OUAWVUUQZVUj"
      },
      "execution_count": null,
      "outputs": []
    },
    {
      "cell_type": "markdown",
      "source": [
        "#2. Load data"
      ],
      "metadata": {
        "id": "y_PixF__Z4tT"
      }
    },
    {
      "cell_type": "markdown",
      "source": [
        "##2.1. From raw data"
      ],
      "metadata": {
        "id": "uZTcueG0a3S0"
      }
    },
    {
      "cell_type": "code",
      "source": [
        "list_characters_folders = \"./data/hira_better_quality/\""
      ],
      "metadata": {
        "id": "Naa1h_ZIZ6fj"
      },
      "execution_count": 7,
      "outputs": []
    },
    {
      "cell_type": "code",
      "source": [
        "data = []\n",
        "for folder in os.listdir(list_characters_folders):\n",
        "    if folder == \".DS_Store\":\n",
        "        continue\n",
        "    character_folder = os.path.join(list_characters_folders, folder)\n",
        "\n",
        "    for character_image in os.listdir(character_folder):\n",
        "        if character_image == \".DS_Store\":\n",
        "            continue\n",
        "        character_image_path = os.path.join(character_folder, character_image)\n",
        "        data.append([character_image_path, folder])\n",
        "\n",
        "df = pd.DataFrame(data, columns=['file_name','label'])\n"
      ],
      "metadata": {
        "id": "TyMVdopCaJOi"
      },
      "execution_count": 8,
      "outputs": []
    },
    {
      "cell_type": "code",
      "source": [
        "df"
      ],
      "metadata": {
        "colab": {
          "base_uri": "https://localhost:8080/",
          "height": 423
        },
        "id": "KSPSoFnMaaDF",
        "outputId": "eb290dee-5b3f-4713-8338-93b50b94123d"
      },
      "execution_count": 9,
      "outputs": [
        {
          "output_type": "execute_result",
          "data": {
            "text/plain": [
              "                                file_name label\n",
              "0      ./data/hira_better_quality/に/5.jpg     に\n",
              "1     ./data/hira_better_quality/に/24.jpg     に\n",
              "2     ./data/hira_better_quality/に/11.jpg     に\n",
              "3     ./data/hira_better_quality/に/27.jpg     に\n",
              "4      ./data/hira_better_quality/に/1.jpg     に\n",
              "...                                   ...   ...\n",
              "1555   ./data/hira_better_quality/か/5.jpg     か\n",
              "1556  ./data/hira_better_quality/か/25.jpg     か\n",
              "1557  ./data/hira_better_quality/か/22.jpg     か\n",
              "1558  ./data/hira_better_quality/か/32.jpg     か\n",
              "1559  ./data/hira_better_quality/か/16.jpg     か\n",
              "\n",
              "[1560 rows x 2 columns]"
            ],
            "text/html": [
              "\n",
              "  <div id=\"df-31331900-bb5d-4135-a1b6-a898c7990ae5\">\n",
              "    <div class=\"colab-df-container\">\n",
              "      <div>\n",
              "<style scoped>\n",
              "    .dataframe tbody tr th:only-of-type {\n",
              "        vertical-align: middle;\n",
              "    }\n",
              "\n",
              "    .dataframe tbody tr th {\n",
              "        vertical-align: top;\n",
              "    }\n",
              "\n",
              "    .dataframe thead th {\n",
              "        text-align: right;\n",
              "    }\n",
              "</style>\n",
              "<table border=\"1\" class=\"dataframe\">\n",
              "  <thead>\n",
              "    <tr style=\"text-align: right;\">\n",
              "      <th></th>\n",
              "      <th>file_name</th>\n",
              "      <th>label</th>\n",
              "    </tr>\n",
              "  </thead>\n",
              "  <tbody>\n",
              "    <tr>\n",
              "      <th>0</th>\n",
              "      <td>./data/hira_better_quality/に/5.jpg</td>\n",
              "      <td>に</td>\n",
              "    </tr>\n",
              "    <tr>\n",
              "      <th>1</th>\n",
              "      <td>./data/hira_better_quality/に/24.jpg</td>\n",
              "      <td>に</td>\n",
              "    </tr>\n",
              "    <tr>\n",
              "      <th>2</th>\n",
              "      <td>./data/hira_better_quality/に/11.jpg</td>\n",
              "      <td>に</td>\n",
              "    </tr>\n",
              "    <tr>\n",
              "      <th>3</th>\n",
              "      <td>./data/hira_better_quality/に/27.jpg</td>\n",
              "      <td>に</td>\n",
              "    </tr>\n",
              "    <tr>\n",
              "      <th>4</th>\n",
              "      <td>./data/hira_better_quality/に/1.jpg</td>\n",
              "      <td>に</td>\n",
              "    </tr>\n",
              "    <tr>\n",
              "      <th>...</th>\n",
              "      <td>...</td>\n",
              "      <td>...</td>\n",
              "    </tr>\n",
              "    <tr>\n",
              "      <th>1555</th>\n",
              "      <td>./data/hira_better_quality/か/5.jpg</td>\n",
              "      <td>か</td>\n",
              "    </tr>\n",
              "    <tr>\n",
              "      <th>1556</th>\n",
              "      <td>./data/hira_better_quality/か/25.jpg</td>\n",
              "      <td>か</td>\n",
              "    </tr>\n",
              "    <tr>\n",
              "      <th>1557</th>\n",
              "      <td>./data/hira_better_quality/か/22.jpg</td>\n",
              "      <td>か</td>\n",
              "    </tr>\n",
              "    <tr>\n",
              "      <th>1558</th>\n",
              "      <td>./data/hira_better_quality/か/32.jpg</td>\n",
              "      <td>か</td>\n",
              "    </tr>\n",
              "    <tr>\n",
              "      <th>1559</th>\n",
              "      <td>./data/hira_better_quality/か/16.jpg</td>\n",
              "      <td>か</td>\n",
              "    </tr>\n",
              "  </tbody>\n",
              "</table>\n",
              "<p>1560 rows × 2 columns</p>\n",
              "</div>\n",
              "      <button class=\"colab-df-convert\" onclick=\"convertToInteractive('df-31331900-bb5d-4135-a1b6-a898c7990ae5')\"\n",
              "              title=\"Convert this dataframe to an interactive table.\"\n",
              "              style=\"display:none;\">\n",
              "        \n",
              "  <svg xmlns=\"http://www.w3.org/2000/svg\" height=\"24px\"viewBox=\"0 0 24 24\"\n",
              "       width=\"24px\">\n",
              "    <path d=\"M0 0h24v24H0V0z\" fill=\"none\"/>\n",
              "    <path d=\"M18.56 5.44l.94 2.06.94-2.06 2.06-.94-2.06-.94-.94-2.06-.94 2.06-2.06.94zm-11 1L8.5 8.5l.94-2.06 2.06-.94-2.06-.94L8.5 2.5l-.94 2.06-2.06.94zm10 10l.94 2.06.94-2.06 2.06-.94-2.06-.94-.94-2.06-.94 2.06-2.06.94z\"/><path d=\"M17.41 7.96l-1.37-1.37c-.4-.4-.92-.59-1.43-.59-.52 0-1.04.2-1.43.59L10.3 9.45l-7.72 7.72c-.78.78-.78 2.05 0 2.83L4 21.41c.39.39.9.59 1.41.59.51 0 1.02-.2 1.41-.59l7.78-7.78 2.81-2.81c.8-.78.8-2.07 0-2.86zM5.41 20L4 18.59l7.72-7.72 1.47 1.35L5.41 20z\"/>\n",
              "  </svg>\n",
              "      </button>\n",
              "      \n",
              "  <style>\n",
              "    .colab-df-container {\n",
              "      display:flex;\n",
              "      flex-wrap:wrap;\n",
              "      gap: 12px;\n",
              "    }\n",
              "\n",
              "    .colab-df-convert {\n",
              "      background-color: #E8F0FE;\n",
              "      border: none;\n",
              "      border-radius: 50%;\n",
              "      cursor: pointer;\n",
              "      display: none;\n",
              "      fill: #1967D2;\n",
              "      height: 32px;\n",
              "      padding: 0 0 0 0;\n",
              "      width: 32px;\n",
              "    }\n",
              "\n",
              "    .colab-df-convert:hover {\n",
              "      background-color: #E2EBFA;\n",
              "      box-shadow: 0px 1px 2px rgba(60, 64, 67, 0.3), 0px 1px 3px 1px rgba(60, 64, 67, 0.15);\n",
              "      fill: #174EA6;\n",
              "    }\n",
              "\n",
              "    [theme=dark] .colab-df-convert {\n",
              "      background-color: #3B4455;\n",
              "      fill: #D2E3FC;\n",
              "    }\n",
              "\n",
              "    [theme=dark] .colab-df-convert:hover {\n",
              "      background-color: #434B5C;\n",
              "      box-shadow: 0px 1px 3px 1px rgba(0, 0, 0, 0.15);\n",
              "      filter: drop-shadow(0px 1px 2px rgba(0, 0, 0, 0.3));\n",
              "      fill: #FFFFFF;\n",
              "    }\n",
              "  </style>\n",
              "\n",
              "      <script>\n",
              "        const buttonEl =\n",
              "          document.querySelector('#df-31331900-bb5d-4135-a1b6-a898c7990ae5 button.colab-df-convert');\n",
              "        buttonEl.style.display =\n",
              "          google.colab.kernel.accessAllowed ? 'block' : 'none';\n",
              "\n",
              "        async function convertToInteractive(key) {\n",
              "          const element = document.querySelector('#df-31331900-bb5d-4135-a1b6-a898c7990ae5');\n",
              "          const dataTable =\n",
              "            await google.colab.kernel.invokeFunction('convertToInteractive',\n",
              "                                                     [key], {});\n",
              "          if (!dataTable) return;\n",
              "\n",
              "          const docLinkHtml = 'Like what you see? Visit the ' +\n",
              "            '<a target=\"_blank\" href=https://colab.research.google.com/notebooks/data_table.ipynb>data table notebook</a>'\n",
              "            + ' to learn more about interactive tables.';\n",
              "          element.innerHTML = '';\n",
              "          dataTable['output_type'] = 'display_data';\n",
              "          await google.colab.output.renderOutput(dataTable, element);\n",
              "          const docLink = document.createElement('div');\n",
              "          docLink.innerHTML = docLinkHtml;\n",
              "          element.appendChild(docLink);\n",
              "        }\n",
              "      </script>\n",
              "    </div>\n",
              "  </div>\n",
              "  "
            ]
          },
          "metadata": {},
          "execution_count": 9
        }
      ]
    },
    {
      "cell_type": "code",
      "source": [
        "sort_df = df.sort_values(by=[\"label\"])"
      ],
      "metadata": {
        "id": "p1HuuTfnacBc"
      },
      "execution_count": 10,
      "outputs": []
    },
    {
      "cell_type": "code",
      "source": [
        "sort_df"
      ],
      "metadata": {
        "colab": {
          "base_uri": "https://localhost:8080/",
          "height": 423
        },
        "id": "hfz3i-yhajey",
        "outputId": "85a537c9-c642-4667-e9cf-24e16a9f6371"
      },
      "execution_count": 11,
      "outputs": [
        {
          "output_type": "execute_result",
          "data": {
            "text/plain": [
              "                                file_name label\n",
              "1492  ./data/hira_better_quality/あ/20.jpg     あ\n",
              "1494  ./data/hira_better_quality/あ/22.jpg     あ\n",
              "1495  ./data/hira_better_quality/あ/31.jpg     あ\n",
              "1496  ./data/hira_better_quality/あ/32.jpg     あ\n",
              "1497  ./data/hira_better_quality/あ/25.jpg     あ\n",
              "...                                   ...   ...\n",
              "330   ./data/hira_better_quality/ん/20.jpg     ん\n",
              "329   ./data/hira_better_quality/ん/19.jpg     ん\n",
              "328   ./data/hira_better_quality/ん/14.jpg     ん\n",
              "334   ./data/hira_better_quality/ん/32.jpg     ん\n",
              "340   ./data/hira_better_quality/ん/34.jpg     ん\n",
              "\n",
              "[1560 rows x 2 columns]"
            ],
            "text/html": [
              "\n",
              "  <div id=\"df-efefcfc4-c4f5-494e-997a-1b8e780965cc\">\n",
              "    <div class=\"colab-df-container\">\n",
              "      <div>\n",
              "<style scoped>\n",
              "    .dataframe tbody tr th:only-of-type {\n",
              "        vertical-align: middle;\n",
              "    }\n",
              "\n",
              "    .dataframe tbody tr th {\n",
              "        vertical-align: top;\n",
              "    }\n",
              "\n",
              "    .dataframe thead th {\n",
              "        text-align: right;\n",
              "    }\n",
              "</style>\n",
              "<table border=\"1\" class=\"dataframe\">\n",
              "  <thead>\n",
              "    <tr style=\"text-align: right;\">\n",
              "      <th></th>\n",
              "      <th>file_name</th>\n",
              "      <th>label</th>\n",
              "    </tr>\n",
              "  </thead>\n",
              "  <tbody>\n",
              "    <tr>\n",
              "      <th>1492</th>\n",
              "      <td>./data/hira_better_quality/あ/20.jpg</td>\n",
              "      <td>あ</td>\n",
              "    </tr>\n",
              "    <tr>\n",
              "      <th>1494</th>\n",
              "      <td>./data/hira_better_quality/あ/22.jpg</td>\n",
              "      <td>あ</td>\n",
              "    </tr>\n",
              "    <tr>\n",
              "      <th>1495</th>\n",
              "      <td>./data/hira_better_quality/あ/31.jpg</td>\n",
              "      <td>あ</td>\n",
              "    </tr>\n",
              "    <tr>\n",
              "      <th>1496</th>\n",
              "      <td>./data/hira_better_quality/あ/32.jpg</td>\n",
              "      <td>あ</td>\n",
              "    </tr>\n",
              "    <tr>\n",
              "      <th>1497</th>\n",
              "      <td>./data/hira_better_quality/あ/25.jpg</td>\n",
              "      <td>あ</td>\n",
              "    </tr>\n",
              "    <tr>\n",
              "      <th>...</th>\n",
              "      <td>...</td>\n",
              "      <td>...</td>\n",
              "    </tr>\n",
              "    <tr>\n",
              "      <th>330</th>\n",
              "      <td>./data/hira_better_quality/ん/20.jpg</td>\n",
              "      <td>ん</td>\n",
              "    </tr>\n",
              "    <tr>\n",
              "      <th>329</th>\n",
              "      <td>./data/hira_better_quality/ん/19.jpg</td>\n",
              "      <td>ん</td>\n",
              "    </tr>\n",
              "    <tr>\n",
              "      <th>328</th>\n",
              "      <td>./data/hira_better_quality/ん/14.jpg</td>\n",
              "      <td>ん</td>\n",
              "    </tr>\n",
              "    <tr>\n",
              "      <th>334</th>\n",
              "      <td>./data/hira_better_quality/ん/32.jpg</td>\n",
              "      <td>ん</td>\n",
              "    </tr>\n",
              "    <tr>\n",
              "      <th>340</th>\n",
              "      <td>./data/hira_better_quality/ん/34.jpg</td>\n",
              "      <td>ん</td>\n",
              "    </tr>\n",
              "  </tbody>\n",
              "</table>\n",
              "<p>1560 rows × 2 columns</p>\n",
              "</div>\n",
              "      <button class=\"colab-df-convert\" onclick=\"convertToInteractive('df-efefcfc4-c4f5-494e-997a-1b8e780965cc')\"\n",
              "              title=\"Convert this dataframe to an interactive table.\"\n",
              "              style=\"display:none;\">\n",
              "        \n",
              "  <svg xmlns=\"http://www.w3.org/2000/svg\" height=\"24px\"viewBox=\"0 0 24 24\"\n",
              "       width=\"24px\">\n",
              "    <path d=\"M0 0h24v24H0V0z\" fill=\"none\"/>\n",
              "    <path d=\"M18.56 5.44l.94 2.06.94-2.06 2.06-.94-2.06-.94-.94-2.06-.94 2.06-2.06.94zm-11 1L8.5 8.5l.94-2.06 2.06-.94-2.06-.94L8.5 2.5l-.94 2.06-2.06.94zm10 10l.94 2.06.94-2.06 2.06-.94-2.06-.94-.94-2.06-.94 2.06-2.06.94z\"/><path d=\"M17.41 7.96l-1.37-1.37c-.4-.4-.92-.59-1.43-.59-.52 0-1.04.2-1.43.59L10.3 9.45l-7.72 7.72c-.78.78-.78 2.05 0 2.83L4 21.41c.39.39.9.59 1.41.59.51 0 1.02-.2 1.41-.59l7.78-7.78 2.81-2.81c.8-.78.8-2.07 0-2.86zM5.41 20L4 18.59l7.72-7.72 1.47 1.35L5.41 20z\"/>\n",
              "  </svg>\n",
              "      </button>\n",
              "      \n",
              "  <style>\n",
              "    .colab-df-container {\n",
              "      display:flex;\n",
              "      flex-wrap:wrap;\n",
              "      gap: 12px;\n",
              "    }\n",
              "\n",
              "    .colab-df-convert {\n",
              "      background-color: #E8F0FE;\n",
              "      border: none;\n",
              "      border-radius: 50%;\n",
              "      cursor: pointer;\n",
              "      display: none;\n",
              "      fill: #1967D2;\n",
              "      height: 32px;\n",
              "      padding: 0 0 0 0;\n",
              "      width: 32px;\n",
              "    }\n",
              "\n",
              "    .colab-df-convert:hover {\n",
              "      background-color: #E2EBFA;\n",
              "      box-shadow: 0px 1px 2px rgba(60, 64, 67, 0.3), 0px 1px 3px 1px rgba(60, 64, 67, 0.15);\n",
              "      fill: #174EA6;\n",
              "    }\n",
              "\n",
              "    [theme=dark] .colab-df-convert {\n",
              "      background-color: #3B4455;\n",
              "      fill: #D2E3FC;\n",
              "    }\n",
              "\n",
              "    [theme=dark] .colab-df-convert:hover {\n",
              "      background-color: #434B5C;\n",
              "      box-shadow: 0px 1px 3px 1px rgba(0, 0, 0, 0.15);\n",
              "      filter: drop-shadow(0px 1px 2px rgba(0, 0, 0, 0.3));\n",
              "      fill: #FFFFFF;\n",
              "    }\n",
              "  </style>\n",
              "\n",
              "      <script>\n",
              "        const buttonEl =\n",
              "          document.querySelector('#df-efefcfc4-c4f5-494e-997a-1b8e780965cc button.colab-df-convert');\n",
              "        buttonEl.style.display =\n",
              "          google.colab.kernel.accessAllowed ? 'block' : 'none';\n",
              "\n",
              "        async function convertToInteractive(key) {\n",
              "          const element = document.querySelector('#df-efefcfc4-c4f5-494e-997a-1b8e780965cc');\n",
              "          const dataTable =\n",
              "            await google.colab.kernel.invokeFunction('convertToInteractive',\n",
              "                                                     [key], {});\n",
              "          if (!dataTable) return;\n",
              "\n",
              "          const docLinkHtml = 'Like what you see? Visit the ' +\n",
              "            '<a target=\"_blank\" href=https://colab.research.google.com/notebooks/data_table.ipynb>data table notebook</a>'\n",
              "            + ' to learn more about interactive tables.';\n",
              "          element.innerHTML = '';\n",
              "          dataTable['output_type'] = 'display_data';\n",
              "          await google.colab.output.renderOutput(dataTable, element);\n",
              "          const docLink = document.createElement('div');\n",
              "          docLink.innerHTML = docLinkHtml;\n",
              "          element.appendChild(docLink);\n",
              "        }\n",
              "      </script>\n",
              "    </div>\n",
              "  </div>\n",
              "  "
            ]
          },
          "metadata": {},
          "execution_count": 11
        }
      ]
    },
    {
      "cell_type": "code",
      "source": [
        "labels = sort_df[\"label\"].unique()\n",
        "print(labels)"
      ],
      "metadata": {
        "colab": {
          "base_uri": "https://localhost:8080/"
        },
        "id": "0ItI9bnoalLK",
        "outputId": "c1905eb8-8d3a-4a2f-d9f6-b120fd6dda9e"
      },
      "execution_count": 12,
      "outputs": [
        {
          "output_type": "stream",
          "name": "stdout",
          "text": [
            "['あ' 'い' 'う' 'え' 'お' 'か' 'き' 'く' 'け' 'こ' 'さ' 'し' 'す' 'せ' 'そ' 'た' 'ち' 'つ'\n",
            " 'て' 'と' 'な' 'に' 'ぬ' 'ね' 'の' 'は' 'ひ' 'ふ' 'へ' 'ほ' 'ま' 'み' 'む' 'め' 'も' 'や'\n",
            " 'ゆ' 'よ' 'ら' 'り' 'る' 'れ' 'ろ' 'わ' 'を' 'ん']\n"
          ]
        }
      ]
    },
    {
      "cell_type": "code",
      "source": [
        "sort_df"
      ],
      "metadata": {
        "colab": {
          "base_uri": "https://localhost:8080/",
          "height": 423
        },
        "id": "Y2kUTgDPSu0E",
        "outputId": "e8e91783-78be-477f-a3df-5f22a5ab2d6d"
      },
      "execution_count": null,
      "outputs": [
        {
          "output_type": "execute_result",
          "data": {
            "text/plain": [
              "                                file_name label\n",
              "1492  ./data/hira_better_quality/あ/20.jpg     あ\n",
              "1494  ./data/hira_better_quality/あ/22.jpg     あ\n",
              "1495  ./data/hira_better_quality/あ/31.jpg     あ\n",
              "1496  ./data/hira_better_quality/あ/32.jpg     あ\n",
              "1497  ./data/hira_better_quality/あ/25.jpg     あ\n",
              "...                                   ...   ...\n",
              "330   ./data/hira_better_quality/ん/20.jpg     ん\n",
              "329   ./data/hira_better_quality/ん/19.jpg     ん\n",
              "328   ./data/hira_better_quality/ん/14.jpg     ん\n",
              "334   ./data/hira_better_quality/ん/32.jpg     ん\n",
              "340   ./data/hira_better_quality/ん/34.jpg     ん\n",
              "\n",
              "[1560 rows x 2 columns]"
            ],
            "text/html": [
              "\n",
              "  <div id=\"df-4abd2900-5d90-4805-91a3-14dc9002fe65\">\n",
              "    <div class=\"colab-df-container\">\n",
              "      <div>\n",
              "<style scoped>\n",
              "    .dataframe tbody tr th:only-of-type {\n",
              "        vertical-align: middle;\n",
              "    }\n",
              "\n",
              "    .dataframe tbody tr th {\n",
              "        vertical-align: top;\n",
              "    }\n",
              "\n",
              "    .dataframe thead th {\n",
              "        text-align: right;\n",
              "    }\n",
              "</style>\n",
              "<table border=\"1\" class=\"dataframe\">\n",
              "  <thead>\n",
              "    <tr style=\"text-align: right;\">\n",
              "      <th></th>\n",
              "      <th>file_name</th>\n",
              "      <th>label</th>\n",
              "    </tr>\n",
              "  </thead>\n",
              "  <tbody>\n",
              "    <tr>\n",
              "      <th>1492</th>\n",
              "      <td>./data/hira_better_quality/あ/20.jpg</td>\n",
              "      <td>あ</td>\n",
              "    </tr>\n",
              "    <tr>\n",
              "      <th>1494</th>\n",
              "      <td>./data/hira_better_quality/あ/22.jpg</td>\n",
              "      <td>あ</td>\n",
              "    </tr>\n",
              "    <tr>\n",
              "      <th>1495</th>\n",
              "      <td>./data/hira_better_quality/あ/31.jpg</td>\n",
              "      <td>あ</td>\n",
              "    </tr>\n",
              "    <tr>\n",
              "      <th>1496</th>\n",
              "      <td>./data/hira_better_quality/あ/32.jpg</td>\n",
              "      <td>あ</td>\n",
              "    </tr>\n",
              "    <tr>\n",
              "      <th>1497</th>\n",
              "      <td>./data/hira_better_quality/あ/25.jpg</td>\n",
              "      <td>あ</td>\n",
              "    </tr>\n",
              "    <tr>\n",
              "      <th>...</th>\n",
              "      <td>...</td>\n",
              "      <td>...</td>\n",
              "    </tr>\n",
              "    <tr>\n",
              "      <th>330</th>\n",
              "      <td>./data/hira_better_quality/ん/20.jpg</td>\n",
              "      <td>ん</td>\n",
              "    </tr>\n",
              "    <tr>\n",
              "      <th>329</th>\n",
              "      <td>./data/hira_better_quality/ん/19.jpg</td>\n",
              "      <td>ん</td>\n",
              "    </tr>\n",
              "    <tr>\n",
              "      <th>328</th>\n",
              "      <td>./data/hira_better_quality/ん/14.jpg</td>\n",
              "      <td>ん</td>\n",
              "    </tr>\n",
              "    <tr>\n",
              "      <th>334</th>\n",
              "      <td>./data/hira_better_quality/ん/32.jpg</td>\n",
              "      <td>ん</td>\n",
              "    </tr>\n",
              "    <tr>\n",
              "      <th>340</th>\n",
              "      <td>./data/hira_better_quality/ん/34.jpg</td>\n",
              "      <td>ん</td>\n",
              "    </tr>\n",
              "  </tbody>\n",
              "</table>\n",
              "<p>1560 rows × 2 columns</p>\n",
              "</div>\n",
              "      <button class=\"colab-df-convert\" onclick=\"convertToInteractive('df-4abd2900-5d90-4805-91a3-14dc9002fe65')\"\n",
              "              title=\"Convert this dataframe to an interactive table.\"\n",
              "              style=\"display:none;\">\n",
              "        \n",
              "  <svg xmlns=\"http://www.w3.org/2000/svg\" height=\"24px\"viewBox=\"0 0 24 24\"\n",
              "       width=\"24px\">\n",
              "    <path d=\"M0 0h24v24H0V0z\" fill=\"none\"/>\n",
              "    <path d=\"M18.56 5.44l.94 2.06.94-2.06 2.06-.94-2.06-.94-.94-2.06-.94 2.06-2.06.94zm-11 1L8.5 8.5l.94-2.06 2.06-.94-2.06-.94L8.5 2.5l-.94 2.06-2.06.94zm10 10l.94 2.06.94-2.06 2.06-.94-2.06-.94-.94-2.06-.94 2.06-2.06.94z\"/><path d=\"M17.41 7.96l-1.37-1.37c-.4-.4-.92-.59-1.43-.59-.52 0-1.04.2-1.43.59L10.3 9.45l-7.72 7.72c-.78.78-.78 2.05 0 2.83L4 21.41c.39.39.9.59 1.41.59.51 0 1.02-.2 1.41-.59l7.78-7.78 2.81-2.81c.8-.78.8-2.07 0-2.86zM5.41 20L4 18.59l7.72-7.72 1.47 1.35L5.41 20z\"/>\n",
              "  </svg>\n",
              "      </button>\n",
              "      \n",
              "  <style>\n",
              "    .colab-df-container {\n",
              "      display:flex;\n",
              "      flex-wrap:wrap;\n",
              "      gap: 12px;\n",
              "    }\n",
              "\n",
              "    .colab-df-convert {\n",
              "      background-color: #E8F0FE;\n",
              "      border: none;\n",
              "      border-radius: 50%;\n",
              "      cursor: pointer;\n",
              "      display: none;\n",
              "      fill: #1967D2;\n",
              "      height: 32px;\n",
              "      padding: 0 0 0 0;\n",
              "      width: 32px;\n",
              "    }\n",
              "\n",
              "    .colab-df-convert:hover {\n",
              "      background-color: #E2EBFA;\n",
              "      box-shadow: 0px 1px 2px rgba(60, 64, 67, 0.3), 0px 1px 3px 1px rgba(60, 64, 67, 0.15);\n",
              "      fill: #174EA6;\n",
              "    }\n",
              "\n",
              "    [theme=dark] .colab-df-convert {\n",
              "      background-color: #3B4455;\n",
              "      fill: #D2E3FC;\n",
              "    }\n",
              "\n",
              "    [theme=dark] .colab-df-convert:hover {\n",
              "      background-color: #434B5C;\n",
              "      box-shadow: 0px 1px 3px 1px rgba(0, 0, 0, 0.15);\n",
              "      filter: drop-shadow(0px 1px 2px rgba(0, 0, 0, 0.3));\n",
              "      fill: #FFFFFF;\n",
              "    }\n",
              "  </style>\n",
              "\n",
              "      <script>\n",
              "        const buttonEl =\n",
              "          document.querySelector('#df-4abd2900-5d90-4805-91a3-14dc9002fe65 button.colab-df-convert');\n",
              "        buttonEl.style.display =\n",
              "          google.colab.kernel.accessAllowed ? 'block' : 'none';\n",
              "\n",
              "        async function convertToInteractive(key) {\n",
              "          const element = document.querySelector('#df-4abd2900-5d90-4805-91a3-14dc9002fe65');\n",
              "          const dataTable =\n",
              "            await google.colab.kernel.invokeFunction('convertToInteractive',\n",
              "                                                     [key], {});\n",
              "          if (!dataTable) return;\n",
              "\n",
              "          const docLinkHtml = 'Like what you see? Visit the ' +\n",
              "            '<a target=\"_blank\" href=https://colab.research.google.com/notebooks/data_table.ipynb>data table notebook</a>'\n",
              "            + ' to learn more about interactive tables.';\n",
              "          element.innerHTML = '';\n",
              "          dataTable['output_type'] = 'display_data';\n",
              "          await google.colab.output.renderOutput(dataTable, element);\n",
              "          const docLink = document.createElement('div');\n",
              "          docLink.innerHTML = docLinkHtml;\n",
              "          element.appendChild(docLink);\n",
              "        }\n",
              "      </script>\n",
              "    </div>\n",
              "  </div>\n",
              "  "
            ]
          },
          "metadata": {},
          "execution_count": 34
        }
      ]
    },
    {
      "cell_type": "markdown",
      "source": [
        "Convert labels to one-hot vectors labels"
      ],
      "metadata": {
        "id": "AEw1bH-uTi8W"
      }
    },
    {
      "cell_type": "code",
      "source": [
        "from sklearn.preprocessing import LabelEncoder, OneHotEncoder"
      ],
      "metadata": {
        "id": "4nnl1q1_Tq3V"
      },
      "execution_count": null,
      "outputs": []
    },
    {
      "cell_type": "code",
      "source": [
        "# Convert labels to numeric representation\n",
        "def convert_to_one_hot_vector_labels(labels):\n",
        "  label_encoder = LabelEncoder()\n",
        "  numeric_labels = label_encoder.fit_transform(labels)\n",
        "  # print(\"Numeric labels:\", numeric_labels)\n",
        "\n",
        "  # Convert numeric labels to one-hot vectors\n",
        "  onehot_encoder = OneHotEncoder(sparse=False)\n",
        "  onehot_labels = onehot_encoder.fit_transform(numeric_labels.reshape(-1, 1))\n",
        "\n",
        "  return onehot_labels"
      ],
      "metadata": {
        "id": "q3Sm8oHyT8Ij"
      },
      "execution_count": null,
      "outputs": []
    },
    {
      "cell_type": "code",
      "source": [
        "# a = convert_to_one_hot_vector_labels(labels)\n",
        "# a.shape"
      ],
      "metadata": {
        "colab": {
          "base_uri": "https://localhost:8080/"
        },
        "id": "D0maHDeRUuHo",
        "outputId": "c66f3dbe-1d1a-4d9a-ebf1-9443cc4143be"
      },
      "execution_count": null,
      "outputs": [
        {
          "output_type": "stream",
          "name": "stderr",
          "text": [
            "/usr/local/lib/python3.10/dist-packages/sklearn/preprocessing/_encoders.py:868: FutureWarning: `sparse` was renamed to `sparse_output` in version 1.2 and will be removed in 1.4. `sparse_output` is ignored unless you leave `sparse` to its default value.\n",
            "  warnings.warn(\n"
          ]
        },
        {
          "output_type": "execute_result",
          "data": {
            "text/plain": [
              "(46, 46)"
            ]
          },
          "metadata": {},
          "execution_count": 39
        }
      ]
    },
    {
      "cell_type": "markdown",
      "source": [
        "##2.2. Split data"
      ],
      "metadata": {
        "id": "XgR2PbjNa_cA"
      }
    },
    {
      "cell_type": "code",
      "source": [
        "from sklearn.model_selection import train_test_split\n",
        "\n",
        "train_df, test_df = train_test_split(sort_df,\n",
        "                                      test_size = 0.2,\n",
        "                                      random_state = 42)"
      ],
      "metadata": {
        "id": "3cSmCNY8atSB"
      },
      "execution_count": null,
      "outputs": []
    },
    {
      "cell_type": "code",
      "source": [
        "len(train_df)"
      ],
      "metadata": {
        "colab": {
          "base_uri": "https://localhost:8080/"
        },
        "id": "qwOGg1lneiUc",
        "outputId": "f7147fb7-9c6c-407c-836b-550702d6f262"
      },
      "execution_count": null,
      "outputs": [
        {
          "output_type": "execute_result",
          "data": {
            "text/plain": [
              "1248"
            ]
          },
          "metadata": {},
          "execution_count": 12
        }
      ]
    },
    {
      "cell_type": "code",
      "source": [
        "test_df"
      ],
      "metadata": {
        "colab": {
          "base_uri": "https://localhost:8080/",
          "height": 423
        },
        "id": "fQvQIo1felNj",
        "outputId": "d4563054-7893-4c8c-e6c0-83b7df0fc059"
      },
      "execution_count": null,
      "outputs": [
        {
          "output_type": "execute_result",
          "data": {
            "text/plain": [
              "                                file_name label\n",
              "310   ./data/hira_better_quality/ん/15.jpg     ん\n",
              "161   ./data/hira_better_quality/ま/11.jpg     ま\n",
              "70    ./data/hira_better_quality/さ/10.jpg     さ\n",
              "686   ./data/hira_better_quality/と/23.jpg     と\n",
              "986    ./data/hira_better_quality/て/9.jpg     て\n",
              "...                                   ...   ...\n",
              "1335  ./data/hira_better_quality/す/18.jpg     す\n",
              "920   ./data/hira_better_quality/ら/18.jpg     ら\n",
              "1092  ./data/hira_better_quality/い/16.jpg     い\n",
              "31    ./data/hira_better_quality/に/13.jpg     に\n",
              "1367  ./data/hira_better_quality/り/32.jpg     り\n",
              "\n",
              "[312 rows x 2 columns]"
            ],
            "text/html": [
              "\n",
              "  <div id=\"df-9ac3e652-548d-4b8a-bbd8-95f26d9538d6\">\n",
              "    <div class=\"colab-df-container\">\n",
              "      <div>\n",
              "<style scoped>\n",
              "    .dataframe tbody tr th:only-of-type {\n",
              "        vertical-align: middle;\n",
              "    }\n",
              "\n",
              "    .dataframe tbody tr th {\n",
              "        vertical-align: top;\n",
              "    }\n",
              "\n",
              "    .dataframe thead th {\n",
              "        text-align: right;\n",
              "    }\n",
              "</style>\n",
              "<table border=\"1\" class=\"dataframe\">\n",
              "  <thead>\n",
              "    <tr style=\"text-align: right;\">\n",
              "      <th></th>\n",
              "      <th>file_name</th>\n",
              "      <th>label</th>\n",
              "    </tr>\n",
              "  </thead>\n",
              "  <tbody>\n",
              "    <tr>\n",
              "      <th>310</th>\n",
              "      <td>./data/hira_better_quality/ん/15.jpg</td>\n",
              "      <td>ん</td>\n",
              "    </tr>\n",
              "    <tr>\n",
              "      <th>161</th>\n",
              "      <td>./data/hira_better_quality/ま/11.jpg</td>\n",
              "      <td>ま</td>\n",
              "    </tr>\n",
              "    <tr>\n",
              "      <th>70</th>\n",
              "      <td>./data/hira_better_quality/さ/10.jpg</td>\n",
              "      <td>さ</td>\n",
              "    </tr>\n",
              "    <tr>\n",
              "      <th>686</th>\n",
              "      <td>./data/hira_better_quality/と/23.jpg</td>\n",
              "      <td>と</td>\n",
              "    </tr>\n",
              "    <tr>\n",
              "      <th>986</th>\n",
              "      <td>./data/hira_better_quality/て/9.jpg</td>\n",
              "      <td>て</td>\n",
              "    </tr>\n",
              "    <tr>\n",
              "      <th>...</th>\n",
              "      <td>...</td>\n",
              "      <td>...</td>\n",
              "    </tr>\n",
              "    <tr>\n",
              "      <th>1335</th>\n",
              "      <td>./data/hira_better_quality/す/18.jpg</td>\n",
              "      <td>す</td>\n",
              "    </tr>\n",
              "    <tr>\n",
              "      <th>920</th>\n",
              "      <td>./data/hira_better_quality/ら/18.jpg</td>\n",
              "      <td>ら</td>\n",
              "    </tr>\n",
              "    <tr>\n",
              "      <th>1092</th>\n",
              "      <td>./data/hira_better_quality/い/16.jpg</td>\n",
              "      <td>い</td>\n",
              "    </tr>\n",
              "    <tr>\n",
              "      <th>31</th>\n",
              "      <td>./data/hira_better_quality/に/13.jpg</td>\n",
              "      <td>に</td>\n",
              "    </tr>\n",
              "    <tr>\n",
              "      <th>1367</th>\n",
              "      <td>./data/hira_better_quality/り/32.jpg</td>\n",
              "      <td>り</td>\n",
              "    </tr>\n",
              "  </tbody>\n",
              "</table>\n",
              "<p>312 rows × 2 columns</p>\n",
              "</div>\n",
              "      <button class=\"colab-df-convert\" onclick=\"convertToInteractive('df-9ac3e652-548d-4b8a-bbd8-95f26d9538d6')\"\n",
              "              title=\"Convert this dataframe to an interactive table.\"\n",
              "              style=\"display:none;\">\n",
              "        \n",
              "  <svg xmlns=\"http://www.w3.org/2000/svg\" height=\"24px\"viewBox=\"0 0 24 24\"\n",
              "       width=\"24px\">\n",
              "    <path d=\"M0 0h24v24H0V0z\" fill=\"none\"/>\n",
              "    <path d=\"M18.56 5.44l.94 2.06.94-2.06 2.06-.94-2.06-.94-.94-2.06-.94 2.06-2.06.94zm-11 1L8.5 8.5l.94-2.06 2.06-.94-2.06-.94L8.5 2.5l-.94 2.06-2.06.94zm10 10l.94 2.06.94-2.06 2.06-.94-2.06-.94-.94-2.06-.94 2.06-2.06.94z\"/><path d=\"M17.41 7.96l-1.37-1.37c-.4-.4-.92-.59-1.43-.59-.52 0-1.04.2-1.43.59L10.3 9.45l-7.72 7.72c-.78.78-.78 2.05 0 2.83L4 21.41c.39.39.9.59 1.41.59.51 0 1.02-.2 1.41-.59l7.78-7.78 2.81-2.81c.8-.78.8-2.07 0-2.86zM5.41 20L4 18.59l7.72-7.72 1.47 1.35L5.41 20z\"/>\n",
              "  </svg>\n",
              "      </button>\n",
              "      \n",
              "  <style>\n",
              "    .colab-df-container {\n",
              "      display:flex;\n",
              "      flex-wrap:wrap;\n",
              "      gap: 12px;\n",
              "    }\n",
              "\n",
              "    .colab-df-convert {\n",
              "      background-color: #E8F0FE;\n",
              "      border: none;\n",
              "      border-radius: 50%;\n",
              "      cursor: pointer;\n",
              "      display: none;\n",
              "      fill: #1967D2;\n",
              "      height: 32px;\n",
              "      padding: 0 0 0 0;\n",
              "      width: 32px;\n",
              "    }\n",
              "\n",
              "    .colab-df-convert:hover {\n",
              "      background-color: #E2EBFA;\n",
              "      box-shadow: 0px 1px 2px rgba(60, 64, 67, 0.3), 0px 1px 3px 1px rgba(60, 64, 67, 0.15);\n",
              "      fill: #174EA6;\n",
              "    }\n",
              "\n",
              "    [theme=dark] .colab-df-convert {\n",
              "      background-color: #3B4455;\n",
              "      fill: #D2E3FC;\n",
              "    }\n",
              "\n",
              "    [theme=dark] .colab-df-convert:hover {\n",
              "      background-color: #434B5C;\n",
              "      box-shadow: 0px 1px 3px 1px rgba(0, 0, 0, 0.15);\n",
              "      filter: drop-shadow(0px 1px 2px rgba(0, 0, 0, 0.3));\n",
              "      fill: #FFFFFF;\n",
              "    }\n",
              "  </style>\n",
              "\n",
              "      <script>\n",
              "        const buttonEl =\n",
              "          document.querySelector('#df-9ac3e652-548d-4b8a-bbd8-95f26d9538d6 button.colab-df-convert');\n",
              "        buttonEl.style.display =\n",
              "          google.colab.kernel.accessAllowed ? 'block' : 'none';\n",
              "\n",
              "        async function convertToInteractive(key) {\n",
              "          const element = document.querySelector('#df-9ac3e652-548d-4b8a-bbd8-95f26d9538d6');\n",
              "          const dataTable =\n",
              "            await google.colab.kernel.invokeFunction('convertToInteractive',\n",
              "                                                     [key], {});\n",
              "          if (!dataTable) return;\n",
              "\n",
              "          const docLinkHtml = 'Like what you see? Visit the ' +\n",
              "            '<a target=\"_blank\" href=https://colab.research.google.com/notebooks/data_table.ipynb>data table notebook</a>'\n",
              "            + ' to learn more about interactive tables.';\n",
              "          element.innerHTML = '';\n",
              "          dataTable['output_type'] = 'display_data';\n",
              "          await google.colab.output.renderOutput(dataTable, element);\n",
              "          const docLink = document.createElement('div');\n",
              "          docLink.innerHTML = docLinkHtml;\n",
              "          element.appendChild(docLink);\n",
              "        }\n",
              "      </script>\n",
              "    </div>\n",
              "  </div>\n",
              "  "
            ]
          },
          "metadata": {},
          "execution_count": 13
        }
      ]
    },
    {
      "cell_type": "markdown",
      "source": [
        "##2.3. Dataset and Dataloader"
      ],
      "metadata": {
        "id": "qSSogY_lfTJI"
      }
    },
    {
      "cell_type": "code",
      "source": [
        "from types import SimpleNamespace\n",
        "\n",
        "cfg = SimpleNamespace(**{})"
      ],
      "metadata": {
        "id": "awVBHGogenID"
      },
      "execution_count": 17,
      "outputs": []
    },
    {
      "cell_type": "code",
      "source": [
        "cfg.root_dir = list_characters_folders\n",
        "cfg.image_size = 224\n",
        "cfg.batch_size = 32\n",
        "cfg.device = torch.device(\"cuda:0\" if torch.cuda.is_available() else \"cpu\")"
      ],
      "metadata": {
        "id": "uW_hiQrPfiv9"
      },
      "execution_count": 20,
      "outputs": []
    },
    {
      "cell_type": "code",
      "source": [
        "class CustomDataset(Dataset):\n",
        "    def __init__(self,\n",
        "                 cfg,\n",
        "                 df,\n",
        "                 transform=None,\n",
        "                  mode = None):\n",
        "        self.root_dir = cfg.root_dir\n",
        "        self.df = df\n",
        "        self.file_names = df['file_name'].values\n",
        "        self.labels = convert_to_one_hot_vector_labels(df['label'].values)\n",
        "\n",
        "        if transform and mode != \"val\":\n",
        "          self.transform = transform\n",
        "        elif mode == \"train\":\n",
        "          self.transform = A.Compose([A.Resize(cfg.image_size, cfg.image_size),\n",
        "                             A.Rotate(p=0.6, limit=[-20,20]),\n",
        "                            #  A.HorizontalFlip(p = 0.6),\n",
        "                             A.CoarseDropout(max_holes = 1, max_height = 32, max_width = 32, p = 0.3),\n",
        "                             ToTensorV2()])\n",
        "        elif mode == \"val\":\n",
        "          self.transform = A.Compose([A.Resize(cfg.image_size, cfg.image_size),\n",
        "                             ToTensorV2()])\n",
        "\n",
        "    def __len__(self):\n",
        "        return len(self.df)\n",
        "\n",
        "    def __getitem__(self, idx):\n",
        "        # Get file_path and label for index\n",
        "        label = self.labels[idx]\n",
        "        file_path = self.file_names[idx]\n",
        "        # file_path = os.path.join(self.root_dir, self.file_names[idx])\n",
        "\n",
        "        # Read an image with OpenCV\n",
        "        image = cv2.imread(file_path)\n",
        "\n",
        "        # Convert the image to RGB color space.\n",
        "        image = cv2.cvtColor(image, cv2.COLOR_BGR2RGB)\n",
        "        # Apply augmentations\n",
        "        augmented = self.transform(image=image)\n",
        "        image = augmented['image']\n",
        "\n",
        "        # Normalize because ToTensorV2() doesn't normalize the image\n",
        "        image = image/255\n",
        "\n",
        "        return image, label"
      ],
      "metadata": {
        "id": "e4OD1MH0fo9U"
      },
      "execution_count": null,
      "outputs": []
    },
    {
      "cell_type": "code",
      "source": [
        "train_dataset = CustomDataset(cfg, train_df, mode = \"train\")\n",
        "valid_dataset = CustomDataset(cfg, test_df, mode = \"val\")\n",
        "\n",
        "train_dataloader = DataLoader(train_dataset,\n",
        "                          batch_size = cfg.batch_size,\n",
        "                          shuffle = True)\n",
        "\n",
        "valid_dataloader = DataLoader(valid_dataset,\n",
        "                          batch_size = cfg.batch_size,\n",
        "                          shuffle = False,\n",
        "                              )"
      ],
      "metadata": {
        "colab": {
          "base_uri": "https://localhost:8080/"
        },
        "id": "LkHxKogZgsi8",
        "outputId": "375fd3c7-c204-4283-a740-d29cdc0b686e"
      },
      "execution_count": null,
      "outputs": [
        {
          "output_type": "stream",
          "name": "stderr",
          "text": [
            "/usr/local/lib/python3.10/dist-packages/sklearn/preprocessing/_encoders.py:868: FutureWarning: `sparse` was renamed to `sparse_output` in version 1.2 and will be removed in 1.4. `sparse_output` is ignored unless you leave `sparse` to its default value.\n",
            "  warnings.warn(\n",
            "/usr/local/lib/python3.10/dist-packages/sklearn/preprocessing/_encoders.py:868: FutureWarning: `sparse` was renamed to `sparse_output` in version 1.2 and will be removed in 1.4. `sparse_output` is ignored unless you leave `sparse` to its default value.\n",
            "  warnings.warn(\n"
          ]
        }
      ]
    },
    {
      "cell_type": "markdown",
      "source": [
        "#3. Model"
      ],
      "metadata": {
        "id": "GCOsCESgkBAX"
      }
    },
    {
      "cell_type": "code",
      "source": [
        "import timm\n",
        "\n",
        "cfg.n_classes = len(labels)\n",
        "cfg.backbone = 'resnet18'\n",
        "\n",
        "model = timm.create_model(cfg.backbone,\n",
        "                          pretrained = False,\n",
        "                          num_classes = cfg.n_classes)"
      ],
      "metadata": {
        "id": "cZ5Gthh_jgMZ"
      },
      "execution_count": null,
      "outputs": []
    },
    {
      "cell_type": "code",
      "source": [
        "model = model.to(cfg.device)"
      ],
      "metadata": {
        "id": "c93IxoTDseuP"
      },
      "execution_count": null,
      "outputs": []
    },
    {
      "cell_type": "code",
      "source": [
        "X = torch.randn(cfg.batch_size, 3, cfg.image_size, cfg.image_size)\n",
        "y = model(X)"
      ],
      "metadata": {
        "id": "iPRQHBxfsgKJ"
      },
      "execution_count": null,
      "outputs": []
    },
    {
      "cell_type": "code",
      "source": [
        "cfg.image_size"
      ],
      "metadata": {
        "colab": {
          "base_uri": "https://localhost:8080/"
        },
        "id": "KSuNGTqPV9kN",
        "outputId": "df605092-f921-4c00-c7cc-16da5c258256"
      },
      "execution_count": null,
      "outputs": [
        {
          "output_type": "execute_result",
          "data": {
            "text/plain": [
              "224"
            ]
          },
          "metadata": {},
          "execution_count": 64
        }
      ]
    },
    {
      "cell_type": "code",
      "source": [
        "y.shape"
      ],
      "metadata": {
        "colab": {
          "base_uri": "https://localhost:8080/"
        },
        "id": "bgHYmKCjstTl",
        "outputId": "85d8dab8-9d9e-4510-d63c-52dfe9b19a4a"
      },
      "execution_count": null,
      "outputs": [
        {
          "output_type": "execute_result",
          "data": {
            "text/plain": [
              "torch.Size([32, 46])"
            ]
          },
          "metadata": {},
          "execution_count": 52
        }
      ]
    },
    {
      "cell_type": "markdown",
      "source": [
        "#4. Loss function, Optimizer, learning rate scheduler, measure metrics"
      ],
      "metadata": {
        "id": "vgY8thN4tFrU"
      }
    },
    {
      "cell_type": "code",
      "source": [
        "criterion = nn.CrossEntropyLoss()"
      ],
      "metadata": {
        "id": "3StamEoWsvMG"
      },
      "execution_count": null,
      "outputs": []
    },
    {
      "cell_type": "code",
      "source": [
        "cfg.learning_rate = 1e-3\n",
        "\n",
        "optimizer = torch.optim.Adam(\n",
        "  model.parameters(),\n",
        "  lr = cfg.learning_rate,\n",
        "  weight_decay = 0,\n",
        " )"
      ],
      "metadata": {
        "id": "vU46p2h4tbpo"
      },
      "execution_count": null,
      "outputs": []
    },
    {
      "cell_type": "code",
      "source": [
        "cfg.lr_min = 1e-5\n",
        "cfg.epochs = 50\n",
        "\n",
        "scheduler = torch.optim.lr_scheduler.CosineAnnealingLR(\n",
        "  optimizer,\n",
        "  T_max = np.ceil(len(train_dataloader.dataset) / cfg.batch_size) * cfg.epochs,\n",
        "  eta_min = cfg.lr_min\n",
        ")"
      ],
      "metadata": {
        "id": "uUdKdnnDtdQh"
      },
      "execution_count": null,
      "outputs": []
    },
    {
      "cell_type": "code",
      "source": [
        "from sklearn.metrics import accuracy_score\n",
        "\n",
        "def calculate_metric(y, y_pred):\n",
        "  metric = accuracy_score(y, y_pred)\n",
        "  return metric"
      ],
      "metadata": {
        "id": "MgLVbXPxtet4"
      },
      "execution_count": null,
      "outputs": []
    },
    {
      "cell_type": "markdown",
      "source": [
        "#5. Training pipeline"
      ],
      "metadata": {
        "id": "kzqNNkXf4y_y"
      }
    },
    {
      "cell_type": "code",
      "source": [
        "cfg.device"
      ],
      "metadata": {
        "colab": {
          "base_uri": "https://localhost:8080/"
        },
        "id": "3HEXaboDSb8G",
        "outputId": "cbb23562-d970-40cb-c952-ff08d6d4b5c3"
      },
      "execution_count": null,
      "outputs": [
        {
          "output_type": "execute_result",
          "data": {
            "text/plain": [
              "device(type='cuda', index=0)"
            ]
          },
          "metadata": {},
          "execution_count": 58
        }
      ]
    },
    {
      "cell_type": "code",
      "source": [
        "def train_one_epoch(dataloader, model, optimizer, scheduler, cfg):\n",
        "    # Training mode\n",
        "    model.train()\n",
        "\n",
        "    # Init lists to store y and y_pred\n",
        "    final_y = []\n",
        "    final_y_pred = []\n",
        "    final_loss = []\n",
        "\n",
        "    # Iterate over data\n",
        "    for step, batch in tqdm(enumerate(dataloader), total=len(dataloader)):\n",
        "        X = batch[0].to(cfg.device)\n",
        "        y = batch[1].to(cfg.device)\n",
        "\n",
        "        # Zero the parameter gradients\n",
        "        optimizer.zero_grad()\n",
        "\n",
        "        with torch.set_grad_enabled(True):\n",
        "            # Forward: Get model outputs\n",
        "            y_pred = model(X)\n",
        "\n",
        "            # Forward: Calculate loss\n",
        "            loss = criterion(y_pred, y)\n",
        "\n",
        "            # Covert y and y_pred to lists\n",
        "            final_loss.append(loss.item())\n",
        "\n",
        "            # Backward: Optimize\n",
        "            loss.backward()\n",
        "            optimizer.step()\n",
        "\n",
        "        scheduler.step()\n",
        "\n",
        "    # Calculate statistics\n",
        "    loss = np.mean(final_loss)\n",
        "\n",
        "    return loss"
      ],
      "metadata": {
        "id": "_T4PeCnf5IYl"
      },
      "execution_count": null,
      "outputs": []
    },
    {
      "cell_type": "code",
      "source": [
        "def validate_one_epoch(dataloader, model, cfg):\n",
        "    # Validation mode\n",
        "    model.eval()\n",
        "\n",
        "    final_y = []\n",
        "    final_y_pred = []\n",
        "    final_loss = []\n",
        "\n",
        "    # Iterate over data\n",
        "    for step, batch in tqdm(enumerate(dataloader), total=len(dataloader)):\n",
        "        X = batch[0].to(cfg.device)\n",
        "        y = batch[1].to(cfg.device)\n",
        "\n",
        "        with torch.no_grad():\n",
        "            # Forward: Get model outputs\n",
        "            y_pred = model(X)\n",
        "\n",
        "            # Forward: Calculate loss\n",
        "            loss = criterion(y_pred, y)\n",
        "\n",
        "            # Covert y and y_pred to lists\n",
        "            y =  y.detach().cpu().numpy().tolist()\n",
        "            y_pred =  y_pred.detach().cpu().numpy().tolist()\n",
        "\n",
        "            # Extend original list\n",
        "            final_y.extend(y)\n",
        "            final_y_pred.extend(y_pred)\n",
        "            final_loss.append(loss.item())\n",
        "\n",
        "    # Calculate statistics\n",
        "    loss = np.mean(final_loss)\n",
        "    final_y_pred = np.argmax(final_y_pred, axis=1)\n",
        "    final_y_argmax = np.argmax(final_y, axis = 1)\n",
        "    metric = calculate_metric(final_y_argmax, final_y_pred)\n",
        "\n",
        "    return metric, loss"
      ],
      "metadata": {
        "id": "k7cQy-5l5NAN"
      },
      "execution_count": null,
      "outputs": []
    },
    {
      "cell_type": "markdown",
      "source": [
        "#6. Train"
      ],
      "metadata": {
        "id": "gCFLJt556xMO"
      }
    },
    {
      "cell_type": "code",
      "source": [
        "import random\n",
        "\n",
        "def set_seed(seed=1234):\n",
        "    random.seed(seed)\n",
        "    os.environ[\"PYTHONHASHSEED\"] = str(seed)\n",
        "    np.random.seed(seed)\n",
        "\n",
        "    # In general seed PyTorch operations\n",
        "    torch.manual_seed(seed)\n",
        "\n",
        "    # If you are using CUDA on 1 GPU, seed it\n",
        "    torch.cuda.manual_seed(seed)\n",
        "\n",
        "    # If you are using CUDA on more than 1 GPU, seed them all\n",
        "    torch.cuda.manual_seed_all(cfg.seed)\n",
        "\n",
        "    # Certain operations in Cudnn are not deterministic, and this line will force them to behave!\n",
        "    torch.backends.cudnn.deterministic = True\n",
        "\n",
        "    # Disable the inbuilt cudnn auto-tuner that finds the best algorithm to use for your hardware.\n",
        "    torch.backends.cudnn.benchmark = False"
      ],
      "metadata": {
        "id": "UShpeX4D66HB"
      },
      "execution_count": null,
      "outputs": []
    },
    {
      "cell_type": "code",
      "source": [
        "cfg.seed = 42\n",
        "\n",
        "def fit(model, optimizer, scheduler, cfg, train_dataloader, valid_dataloader=None):\n",
        "    loss_list = []\n",
        "    val_acc_list = []\n",
        "    val_loss_list = []\n",
        "\n",
        "    for epoch in range(cfg.epochs):\n",
        "        print(f\"Epoch {epoch + 1}/{cfg.epochs}\")\n",
        "\n",
        "        set_seed(cfg.seed + epoch)\n",
        "\n",
        "        loss = train_one_epoch(train_dataloader, model, optimizer, scheduler, cfg)\n",
        "\n",
        "        if valid_dataloader:\n",
        "            val_acc, val_loss = validate_one_epoch(valid_dataloader, model, cfg)\n",
        "\n",
        "        print(f'Loss: {loss:.4f}')\n",
        "        loss_list.append(loss)\n",
        "\n",
        "        if valid_dataloader:\n",
        "            print(f'Val Loss: {val_loss:.4f} Val Acc: {val_acc:.4f}')\n",
        "            val_acc_list.append(val_acc)\n",
        "            val_loss_list.append(val_loss)\n",
        "\n",
        "    return loss_list, val_acc_list, val_loss_list"
      ],
      "metadata": {
        "id": "d5cd23kY6Zyr"
      },
      "execution_count": null,
      "outputs": []
    },
    {
      "cell_type": "code",
      "source": [
        "loss, val_acc, val_loss = fit(model, optimizer, scheduler, cfg, train_dataloader, valid_dataloader)"
      ],
      "metadata": {
        "colab": {
          "base_uri": "https://localhost:8080/"
        },
        "id": "4Wjpq1dq77YB",
        "outputId": "bd6b45ef-8d69-49c7-89fd-64d0038558af"
      },
      "execution_count": null,
      "outputs": [
        {
          "output_type": "stream",
          "name": "stdout",
          "text": [
            "Epoch 1/50\n"
          ]
        },
        {
          "output_type": "stream",
          "name": "stderr",
          "text": [
            "100%|██████████| 39/39 [00:05<00:00,  7.42it/s]\n",
            "100%|██████████| 10/10 [00:00<00:00, 10.32it/s]\n"
          ]
        },
        {
          "output_type": "stream",
          "name": "stdout",
          "text": [
            "Loss: 0.0690\n",
            "Val Loss: 0.2158 Val Acc: 0.9455\n",
            "Epoch 2/50\n"
          ]
        },
        {
          "output_type": "stream",
          "name": "stderr",
          "text": [
            "100%|██████████| 39/39 [00:04<00:00,  7.85it/s]\n",
            "100%|██████████| 10/10 [00:01<00:00,  9.98it/s]\n"
          ]
        },
        {
          "output_type": "stream",
          "name": "stdout",
          "text": [
            "Loss: 0.0669\n",
            "Val Loss: 0.2298 Val Acc: 0.9423\n",
            "Epoch 3/50\n"
          ]
        },
        {
          "output_type": "stream",
          "name": "stderr",
          "text": [
            "100%|██████████| 39/39 [00:05<00:00,  7.41it/s]\n",
            "100%|██████████| 10/10 [00:01<00:00,  9.67it/s]\n"
          ]
        },
        {
          "output_type": "stream",
          "name": "stdout",
          "text": [
            "Loss: 0.0390\n",
            "Val Loss: 0.2041 Val Acc: 0.9487\n",
            "Epoch 4/50\n"
          ]
        },
        {
          "output_type": "stream",
          "name": "stderr",
          "text": [
            "100%|██████████| 39/39 [00:04<00:00,  8.11it/s]\n",
            "100%|██████████| 10/10 [00:01<00:00,  9.83it/s]\n"
          ]
        },
        {
          "output_type": "stream",
          "name": "stdout",
          "text": [
            "Loss: 0.0430\n",
            "Val Loss: 0.2143 Val Acc: 0.9583\n",
            "Epoch 5/50\n"
          ]
        },
        {
          "output_type": "stream",
          "name": "stderr",
          "text": [
            "100%|██████████| 39/39 [00:04<00:00,  7.82it/s]\n",
            "100%|██████████| 10/10 [00:01<00:00,  9.15it/s]\n"
          ]
        },
        {
          "output_type": "stream",
          "name": "stdout",
          "text": [
            "Loss: 0.0334\n",
            "Val Loss: 0.2033 Val Acc: 0.9583\n",
            "Epoch 6/50\n"
          ]
        },
        {
          "output_type": "stream",
          "name": "stderr",
          "text": [
            "100%|██████████| 39/39 [00:04<00:00,  8.11it/s]\n",
            "100%|██████████| 10/10 [00:01<00:00,  9.60it/s]\n"
          ]
        },
        {
          "output_type": "stream",
          "name": "stdout",
          "text": [
            "Loss: 0.0284\n",
            "Val Loss: 16.3679 Val Acc: 0.2019\n",
            "Epoch 7/50\n"
          ]
        },
        {
          "output_type": "stream",
          "name": "stderr",
          "text": [
            "100%|██████████| 39/39 [00:05<00:00,  7.68it/s]\n",
            "100%|██████████| 10/10 [00:01<00:00,  9.10it/s]\n"
          ]
        },
        {
          "output_type": "stream",
          "name": "stdout",
          "text": [
            "Loss: 0.0199\n",
            "Val Loss: 0.1830 Val Acc: 0.9712\n",
            "Epoch 8/50\n"
          ]
        },
        {
          "output_type": "stream",
          "name": "stderr",
          "text": [
            "100%|██████████| 39/39 [00:04<00:00,  8.01it/s]\n",
            "100%|██████████| 10/10 [00:01<00:00,  9.39it/s]\n"
          ]
        },
        {
          "output_type": "stream",
          "name": "stdout",
          "text": [
            "Loss: 0.0193\n",
            "Val Loss: 0.2094 Val Acc: 0.9583\n",
            "Epoch 9/50\n"
          ]
        },
        {
          "output_type": "stream",
          "name": "stderr",
          "text": [
            "100%|██████████| 39/39 [00:04<00:00,  7.90it/s]\n",
            "100%|██████████| 10/10 [00:01<00:00,  9.17it/s]\n"
          ]
        },
        {
          "output_type": "stream",
          "name": "stdout",
          "text": [
            "Loss: 0.0237\n",
            "Val Loss: 0.2015 Val Acc: 0.9679\n",
            "Epoch 10/50\n"
          ]
        },
        {
          "output_type": "stream",
          "name": "stderr",
          "text": [
            "100%|██████████| 39/39 [00:05<00:00,  7.77it/s]\n",
            "100%|██████████| 10/10 [00:01<00:00,  9.30it/s]\n"
          ]
        },
        {
          "output_type": "stream",
          "name": "stdout",
          "text": [
            "Loss: 0.0212\n",
            "Val Loss: 0.2041 Val Acc: 0.9647\n",
            "Epoch 11/50\n"
          ]
        },
        {
          "output_type": "stream",
          "name": "stderr",
          "text": [
            "100%|██████████| 39/39 [00:04<00:00,  8.00it/s]\n",
            "100%|██████████| 10/10 [00:01<00:00,  9.01it/s]\n"
          ]
        },
        {
          "output_type": "stream",
          "name": "stdout",
          "text": [
            "Loss: 0.0163\n",
            "Val Loss: 0.1925 Val Acc: 0.9712\n",
            "Epoch 12/50\n"
          ]
        },
        {
          "output_type": "stream",
          "name": "stderr",
          "text": [
            "100%|██████████| 39/39 [00:05<00:00,  7.72it/s]\n",
            "100%|██████████| 10/10 [00:01<00:00,  9.93it/s]\n"
          ]
        },
        {
          "output_type": "stream",
          "name": "stdout",
          "text": [
            "Loss: 0.0197\n",
            "Val Loss: 0.1756 Val Acc: 0.9776\n",
            "Epoch 13/50\n"
          ]
        },
        {
          "output_type": "stream",
          "name": "stderr",
          "text": [
            "100%|██████████| 39/39 [00:04<00:00,  8.07it/s]\n",
            "100%|██████████| 10/10 [00:01<00:00,  9.78it/s]\n"
          ]
        },
        {
          "output_type": "stream",
          "name": "stdout",
          "text": [
            "Loss: 0.0132\n",
            "Val Loss: 0.2111 Val Acc: 0.9583\n",
            "Epoch 14/50\n"
          ]
        },
        {
          "output_type": "stream",
          "name": "stderr",
          "text": [
            "100%|██████████| 39/39 [00:05<00:00,  7.68it/s]\n",
            "100%|██████████| 10/10 [00:01<00:00,  9.81it/s]\n"
          ]
        },
        {
          "output_type": "stream",
          "name": "stdout",
          "text": [
            "Loss: 0.0141\n",
            "Val Loss: 0.1758 Val Acc: 0.9712\n",
            "Epoch 15/50\n"
          ]
        },
        {
          "output_type": "stream",
          "name": "stderr",
          "text": [
            "100%|██████████| 39/39 [00:04<00:00,  8.01it/s]\n",
            "100%|██████████| 10/10 [00:01<00:00,  9.90it/s]\n"
          ]
        },
        {
          "output_type": "stream",
          "name": "stdout",
          "text": [
            "Loss: 0.0145\n",
            "Val Loss: 0.2165 Val Acc: 0.9583\n",
            "Epoch 16/50\n"
          ]
        },
        {
          "output_type": "stream",
          "name": "stderr",
          "text": [
            "100%|██████████| 39/39 [00:05<00:00,  7.45it/s]\n",
            "100%|██████████| 10/10 [00:01<00:00,  9.71it/s]\n"
          ]
        },
        {
          "output_type": "stream",
          "name": "stdout",
          "text": [
            "Loss: 0.0097\n",
            "Val Loss: 0.1882 Val Acc: 0.9679\n",
            "Epoch 17/50\n"
          ]
        },
        {
          "output_type": "stream",
          "name": "stderr",
          "text": [
            "100%|██████████| 39/39 [00:04<00:00,  8.01it/s]\n",
            "100%|██████████| 10/10 [00:01<00:00,  9.84it/s]\n"
          ]
        },
        {
          "output_type": "stream",
          "name": "stdout",
          "text": [
            "Loss: 0.0103\n",
            "Val Loss: 0.1930 Val Acc: 0.9647\n",
            "Epoch 18/50\n"
          ]
        },
        {
          "output_type": "stream",
          "name": "stderr",
          "text": [
            "100%|██████████| 39/39 [00:05<00:00,  7.57it/s]\n",
            "100%|██████████| 10/10 [00:01<00:00,  9.79it/s]\n"
          ]
        },
        {
          "output_type": "stream",
          "name": "stdout",
          "text": [
            "Loss: 0.0237\n",
            "Val Loss: 0.1807 Val Acc: 0.9776\n",
            "Epoch 19/50\n"
          ]
        },
        {
          "output_type": "stream",
          "name": "stderr",
          "text": [
            "100%|██████████| 39/39 [00:04<00:00,  8.03it/s]\n",
            "100%|██████████| 10/10 [00:01<00:00,  9.74it/s]\n"
          ]
        },
        {
          "output_type": "stream",
          "name": "stdout",
          "text": [
            "Loss: 0.0200\n",
            "Val Loss: 0.1862 Val Acc: 0.9712\n",
            "Epoch 20/50\n"
          ]
        },
        {
          "output_type": "stream",
          "name": "stderr",
          "text": [
            "100%|██████████| 39/39 [00:05<00:00,  7.75it/s]\n",
            "100%|██████████| 10/10 [00:01<00:00,  8.87it/s]\n"
          ]
        },
        {
          "output_type": "stream",
          "name": "stdout",
          "text": [
            "Loss: 0.0325\n",
            "Val Loss: 0.1902 Val Acc: 0.9647\n",
            "Epoch 21/50\n"
          ]
        },
        {
          "output_type": "stream",
          "name": "stderr",
          "text": [
            "100%|██████████| 39/39 [00:04<00:00,  7.86it/s]\n",
            "100%|██████████| 10/10 [00:01<00:00,  9.46it/s]\n"
          ]
        },
        {
          "output_type": "stream",
          "name": "stdout",
          "text": [
            "Loss: 0.0269\n",
            "Val Loss: 0.1912 Val Acc: 0.9712\n",
            "Epoch 22/50\n"
          ]
        },
        {
          "output_type": "stream",
          "name": "stderr",
          "text": [
            "100%|██████████| 39/39 [00:05<00:00,  7.67it/s]\n",
            "100%|██████████| 10/10 [00:01<00:00,  8.98it/s]\n"
          ]
        },
        {
          "output_type": "stream",
          "name": "stdout",
          "text": [
            "Loss: 0.0181\n",
            "Val Loss: 0.1756 Val Acc: 0.9679\n",
            "Epoch 23/50\n"
          ]
        },
        {
          "output_type": "stream",
          "name": "stderr",
          "text": [
            "100%|██████████| 39/39 [00:05<00:00,  7.80it/s]\n",
            "100%|██████████| 10/10 [00:01<00:00,  9.96it/s]\n"
          ]
        },
        {
          "output_type": "stream",
          "name": "stdout",
          "text": [
            "Loss: 0.0186\n",
            "Val Loss: 0.2132 Val Acc: 0.9615\n",
            "Epoch 24/50\n"
          ]
        },
        {
          "output_type": "stream",
          "name": "stderr",
          "text": [
            "100%|██████████| 39/39 [00:04<00:00,  8.01it/s]\n",
            "100%|██████████| 10/10 [00:01<00:00,  9.25it/s]\n"
          ]
        },
        {
          "output_type": "stream",
          "name": "stdout",
          "text": [
            "Loss: 0.0216\n",
            "Val Loss: 0.1954 Val Acc: 0.9679\n",
            "Epoch 25/50\n"
          ]
        },
        {
          "output_type": "stream",
          "name": "stderr",
          "text": [
            "100%|██████████| 39/39 [00:04<00:00,  7.81it/s]\n",
            "100%|██████████| 10/10 [00:01<00:00,  9.65it/s]\n"
          ]
        },
        {
          "output_type": "stream",
          "name": "stdout",
          "text": [
            "Loss: 0.0158\n",
            "Val Loss: 0.1878 Val Acc: 0.9615\n",
            "Epoch 26/50\n"
          ]
        },
        {
          "output_type": "stream",
          "name": "stderr",
          "text": [
            "100%|██████████| 39/39 [00:04<00:00,  8.09it/s]\n",
            "100%|██████████| 10/10 [00:01<00:00,  9.16it/s]\n"
          ]
        },
        {
          "output_type": "stream",
          "name": "stdout",
          "text": [
            "Loss: 0.0194\n",
            "Val Loss: 0.1832 Val Acc: 0.9615\n",
            "Epoch 27/50\n"
          ]
        },
        {
          "output_type": "stream",
          "name": "stderr",
          "text": [
            "100%|██████████| 39/39 [00:05<00:00,  7.53it/s]\n",
            "100%|██████████| 10/10 [00:01<00:00,  9.81it/s]\n"
          ]
        },
        {
          "output_type": "stream",
          "name": "stdout",
          "text": [
            "Loss: 0.0165\n",
            "Val Loss: 0.1740 Val Acc: 0.9647\n",
            "Epoch 28/50\n"
          ]
        },
        {
          "output_type": "stream",
          "name": "stderr",
          "text": [
            "100%|██████████| 39/39 [00:04<00:00,  8.01it/s]\n",
            "100%|██████████| 10/10 [00:01<00:00,  9.77it/s]\n"
          ]
        },
        {
          "output_type": "stream",
          "name": "stdout",
          "text": [
            "Loss: 0.0189\n",
            "Val Loss: 0.1815 Val Acc: 0.9615\n",
            "Epoch 29/50\n"
          ]
        },
        {
          "output_type": "stream",
          "name": "stderr",
          "text": [
            "100%|██████████| 39/39 [00:05<00:00,  7.53it/s]\n",
            "100%|██████████| 10/10 [00:01<00:00,  9.83it/s]\n"
          ]
        },
        {
          "output_type": "stream",
          "name": "stdout",
          "text": [
            "Loss: 0.0118\n",
            "Val Loss: 0.1820 Val Acc: 0.9615\n",
            "Epoch 30/50\n"
          ]
        },
        {
          "output_type": "stream",
          "name": "stderr",
          "text": [
            "100%|██████████| 39/39 [00:04<00:00,  8.11it/s]\n",
            "100%|██████████| 10/10 [00:01<00:00,  9.81it/s]\n"
          ]
        },
        {
          "output_type": "stream",
          "name": "stdout",
          "text": [
            "Loss: 0.0183\n",
            "Val Loss: 0.1837 Val Acc: 0.9615\n",
            "Epoch 31/50\n"
          ]
        },
        {
          "output_type": "stream",
          "name": "stderr",
          "text": [
            "100%|██████████| 39/39 [00:05<00:00,  7.43it/s]\n",
            "100%|██████████| 10/10 [00:01<00:00,  9.67it/s]\n"
          ]
        },
        {
          "output_type": "stream",
          "name": "stdout",
          "text": [
            "Loss: 0.0112\n",
            "Val Loss: 0.1802 Val Acc: 0.9647\n",
            "Epoch 32/50\n"
          ]
        },
        {
          "output_type": "stream",
          "name": "stderr",
          "text": [
            "100%|██████████| 39/39 [00:04<00:00,  8.07it/s]\n",
            "100%|██████████| 10/10 [00:00<00:00, 10.13it/s]\n"
          ]
        },
        {
          "output_type": "stream",
          "name": "stdout",
          "text": [
            "Loss: 0.0105\n",
            "Val Loss: 0.1842 Val Acc: 0.9647\n",
            "Epoch 33/50\n"
          ]
        },
        {
          "output_type": "stream",
          "name": "stderr",
          "text": [
            "100%|██████████| 39/39 [00:05<00:00,  7.63it/s]\n",
            "100%|██████████| 10/10 [00:01<00:00,  9.15it/s]\n"
          ]
        },
        {
          "output_type": "stream",
          "name": "stdout",
          "text": [
            "Loss: 0.0166\n",
            "Val Loss: 0.1849 Val Acc: 0.9679\n",
            "Epoch 34/50\n"
          ]
        },
        {
          "output_type": "stream",
          "name": "stderr",
          "text": [
            "100%|██████████| 39/39 [00:04<00:00,  8.06it/s]\n",
            "100%|██████████| 10/10 [00:01<00:00,  9.76it/s]\n"
          ]
        },
        {
          "output_type": "stream",
          "name": "stdout",
          "text": [
            "Loss: 0.0089\n",
            "Val Loss: 0.1819 Val Acc: 0.9647\n",
            "Epoch 35/50\n"
          ]
        },
        {
          "output_type": "stream",
          "name": "stderr",
          "text": [
            "100%|██████████| 39/39 [00:05<00:00,  7.67it/s]\n",
            "100%|██████████| 10/10 [00:01<00:00,  9.07it/s]\n"
          ]
        },
        {
          "output_type": "stream",
          "name": "stdout",
          "text": [
            "Loss: 0.0134\n",
            "Val Loss: 0.1933 Val Acc: 0.9647\n",
            "Epoch 36/50\n"
          ]
        },
        {
          "output_type": "stream",
          "name": "stderr",
          "text": [
            "100%|██████████| 39/39 [00:04<00:00,  7.89it/s]\n",
            "100%|██████████| 10/10 [00:01<00:00,  9.67it/s]\n"
          ]
        },
        {
          "output_type": "stream",
          "name": "stdout",
          "text": [
            "Loss: 0.0115\n",
            "Val Loss: 0.1859 Val Acc: 0.9647\n",
            "Epoch 37/50\n"
          ]
        },
        {
          "output_type": "stream",
          "name": "stderr",
          "text": [
            "100%|██████████| 39/39 [00:04<00:00,  7.92it/s]\n",
            "100%|██████████| 10/10 [00:01<00:00,  9.14it/s]\n"
          ]
        },
        {
          "output_type": "stream",
          "name": "stdout",
          "text": [
            "Loss: 0.0137\n",
            "Val Loss: 0.1829 Val Acc: 0.9615\n",
            "Epoch 38/50\n"
          ]
        },
        {
          "output_type": "stream",
          "name": "stderr",
          "text": [
            "100%|██████████| 39/39 [00:04<00:00,  7.81it/s]\n",
            "100%|██████████| 10/10 [00:01<00:00,  9.84it/s]\n"
          ]
        },
        {
          "output_type": "stream",
          "name": "stdout",
          "text": [
            "Loss: 0.0092\n",
            "Val Loss: 0.1874 Val Acc: 0.9647\n",
            "Epoch 39/50\n"
          ]
        },
        {
          "output_type": "stream",
          "name": "stderr",
          "text": [
            "100%|██████████| 39/39 [00:04<00:00,  8.05it/s]\n",
            "100%|██████████| 10/10 [00:01<00:00,  9.34it/s]\n"
          ]
        },
        {
          "output_type": "stream",
          "name": "stdout",
          "text": [
            "Loss: 0.0161\n",
            "Val Loss: 0.1877 Val Acc: 0.9679\n",
            "Epoch 40/50\n"
          ]
        },
        {
          "output_type": "stream",
          "name": "stderr",
          "text": [
            "100%|██████████| 39/39 [00:05<00:00,  7.55it/s]\n",
            "100%|██████████| 10/10 [00:01<00:00,  9.75it/s]\n"
          ]
        },
        {
          "output_type": "stream",
          "name": "stdout",
          "text": [
            "Loss: 0.0114\n",
            "Val Loss: 0.1811 Val Acc: 0.9712\n",
            "Epoch 41/50\n"
          ]
        },
        {
          "output_type": "stream",
          "name": "stderr",
          "text": [
            "100%|██████████| 39/39 [00:04<00:00,  7.93it/s]\n",
            "100%|██████████| 10/10 [00:01<00:00,  9.69it/s]\n"
          ]
        },
        {
          "output_type": "stream",
          "name": "stdout",
          "text": [
            "Loss: 0.0131\n",
            "Val Loss: 0.1830 Val Acc: 0.9679\n",
            "Epoch 42/50\n"
          ]
        },
        {
          "output_type": "stream",
          "name": "stderr",
          "text": [
            "100%|██████████| 39/39 [00:05<00:00,  7.63it/s]\n",
            "100%|██████████| 10/10 [00:01<00:00,  9.32it/s]\n"
          ]
        },
        {
          "output_type": "stream",
          "name": "stdout",
          "text": [
            "Loss: 0.0102\n",
            "Val Loss: 0.1814 Val Acc: 0.9647\n",
            "Epoch 43/50\n"
          ]
        },
        {
          "output_type": "stream",
          "name": "stderr",
          "text": [
            "100%|██████████| 39/39 [00:04<00:00,  7.95it/s]\n",
            "100%|██████████| 10/10 [00:01<00:00,  9.70it/s]\n"
          ]
        },
        {
          "output_type": "stream",
          "name": "stdout",
          "text": [
            "Loss: 0.0153\n",
            "Val Loss: 0.1823 Val Acc: 0.9647\n",
            "Epoch 44/50\n"
          ]
        },
        {
          "output_type": "stream",
          "name": "stderr",
          "text": [
            "100%|██████████| 39/39 [00:05<00:00,  7.63it/s]\n",
            "100%|██████████| 10/10 [00:01<00:00,  9.83it/s]\n"
          ]
        },
        {
          "output_type": "stream",
          "name": "stdout",
          "text": [
            "Loss: 0.0093\n",
            "Val Loss: 0.1829 Val Acc: 0.9647\n",
            "Epoch 45/50\n"
          ]
        },
        {
          "output_type": "stream",
          "name": "stderr",
          "text": [
            "100%|██████████| 39/39 [00:04<00:00,  8.01it/s]\n",
            "100%|██████████| 10/10 [00:01<00:00,  9.85it/s]\n"
          ]
        },
        {
          "output_type": "stream",
          "name": "stdout",
          "text": [
            "Loss: 0.0130\n",
            "Val Loss: 0.1907 Val Acc: 0.9647\n",
            "Epoch 46/50\n"
          ]
        },
        {
          "output_type": "stream",
          "name": "stderr",
          "text": [
            "100%|██████████| 39/39 [00:05<00:00,  7.60it/s]\n",
            "100%|██████████| 10/10 [00:01<00:00,  9.72it/s]\n"
          ]
        },
        {
          "output_type": "stream",
          "name": "stdout",
          "text": [
            "Loss: 0.0134\n",
            "Val Loss: 0.1804 Val Acc: 0.9712\n",
            "Epoch 47/50\n"
          ]
        },
        {
          "output_type": "stream",
          "name": "stderr",
          "text": [
            "100%|██████████| 39/39 [00:04<00:00,  8.10it/s]\n",
            "100%|██████████| 10/10 [00:01<00:00,  9.87it/s]\n"
          ]
        },
        {
          "output_type": "stream",
          "name": "stdout",
          "text": [
            "Loss: 0.0089\n",
            "Val Loss: 0.1823 Val Acc: 0.9615\n",
            "Epoch 48/50\n"
          ]
        },
        {
          "output_type": "stream",
          "name": "stderr",
          "text": [
            "100%|██████████| 39/39 [00:04<00:00,  7.81it/s]\n",
            "100%|██████████| 10/10 [00:01<00:00,  8.82it/s]\n"
          ]
        },
        {
          "output_type": "stream",
          "name": "stdout",
          "text": [
            "Loss: 0.0128\n",
            "Val Loss: 0.1809 Val Acc: 0.9679\n",
            "Epoch 49/50\n"
          ]
        },
        {
          "output_type": "stream",
          "name": "stderr",
          "text": [
            "100%|██████████| 39/39 [00:04<00:00,  8.08it/s]\n",
            "100%|██████████| 10/10 [00:01<00:00,  9.63it/s]\n"
          ]
        },
        {
          "output_type": "stream",
          "name": "stdout",
          "text": [
            "Loss: 0.0168\n",
            "Val Loss: 0.1826 Val Acc: 0.9647\n",
            "Epoch 50/50\n"
          ]
        },
        {
          "output_type": "stream",
          "name": "stderr",
          "text": [
            "100%|██████████| 39/39 [00:04<00:00,  7.97it/s]\n",
            "100%|██████████| 10/10 [00:01<00:00,  9.15it/s]\n"
          ]
        },
        {
          "output_type": "stream",
          "name": "stdout",
          "text": [
            "Loss: 0.0121\n",
            "Val Loss: 0.1803 Val Acc: 0.9647\n"
          ]
        }
      ]
    },
    {
      "cell_type": "markdown",
      "source": [
        "#6. Visualize loss, acc"
      ],
      "metadata": {
        "id": "n09r4ErG8dSH"
      }
    },
    {
      "cell_type": "code",
      "source": [
        "def visualize_history(loss, val_acc, val_loss):\n",
        "    fig, ax = plt.subplots(1,2, figsize=(12,4))\n",
        "\n",
        "    ax[0].plot(range(len(loss)), loss,  color='darkgrey', label = 'train')\n",
        "    ax[0].plot(range(len(val_loss)), val_loss,  color='cornflowerblue', label = 'valid')\n",
        "    ax[0].set_title('Loss')\n",
        "\n",
        "    # ax[1].plot(range(len(acc)), acc,  color='darkgrey', label = 'train')\n",
        "    ax[1].plot(range(len(val_acc)), val_acc,  color='cornflowerblue', label = 'valid')\n",
        "    ax[1].set_title('Metric (Accuracy)')\n",
        "\n",
        "    for i in range(2):\n",
        "        ax[i].set_xlabel('Epochs')\n",
        "        ax[i].legend(loc=\"upper right\")\n",
        "    plt.show()"
      ],
      "metadata": {
        "id": "ac8ssRKV8F-w"
      },
      "execution_count": null,
      "outputs": []
    },
    {
      "cell_type": "code",
      "source": [
        "visualize_history(loss, val_acc, val_loss)"
      ],
      "metadata": {
        "colab": {
          "base_uri": "https://localhost:8080/",
          "height": 366
        },
        "id": "dv2ZfB1W8he9",
        "outputId": "44cecd18-21c2-4eab-b063-7ec9abe5bd90"
      },
      "execution_count": null,
      "outputs": [
        {
          "output_type": "display_data",
          "data": {
            "text/plain": [
              "<Figure size 1200x400 with 2 Axes>"
            ],
            "image/png": "[encoded data removed]"
          },
          "metadata": {}
        }
      ]
    },
    {
      "cell_type": "markdown",
      "source": [
        "#7. Save model"
      ],
      "metadata": {
        "id": "YR5lAwADfFLn"
      }
    },
    {
      "cell_type": "code",
      "source": [
        "# # Print model's state_dict\n",
        "# print(\"Model's state_dict:\")\n",
        "# for param_tensor in model.state_dict():\n",
        "#     print(param_tensor, \"\\t\", model.state_dict()[param_tensor].size())\n",
        "\n",
        "# # Print optimizer's state_dict\n",
        "# print(\"Optimizer's state_dict:\")\n",
        "# for var_name in optimizer.state_dict():\n",
        "#     print(var_name, \"\\t\", optimizer.state_dict()[var_name])"
      ],
      "metadata": {
        "id": "wLDH6KD2jmAq"
      },
      "execution_count": null,
      "outputs": []
    },
    {
      "cell_type": "code",
      "source": [
        "#Save state dict\n",
        "saved_model_path = \"./models/1/state_dict.pt\"\n",
        "torch.save(model.state_dict(), saved_model_path)"
      ],
      "metadata": {
        "id": "Db9HfidMkWDd"
      },
      "execution_count": null,
      "outputs": []
    },
    {
      "cell_type": "code",
      "source": [
        "saved_model_path = \"./models/1/model.pt\"\n",
        "torch.save(model, saved_model_path)"
      ],
      "metadata": {
        "id": "l-P5caOWkxtz"
      },
      "execution_count": null,
      "outputs": []
    },
    {
      "cell_type": "markdown",
      "source": [
        "#8. Explore model"
      ],
      "metadata": {
        "id": "CXnTXvylsxnB"
      }
    },
    {
      "cell_type": "code",
      "source": [
        "model_path_for_exploring = \"./models/1/model.pt\"\n",
        "model_x = torch.load(model_path_for_exploring)\n"
      ],
      "metadata": {
        "id": "rdvtDjUFswxJ"
      },
      "execution_count": 13,
      "outputs": []
    },
    {
      "cell_type": "code",
      "source": [
        "model_x = model_x.to(cfg.device)"
      ],
      "metadata": {
        "id": "aJqr1_QyxOvQ"
      },
      "execution_count": 21,
      "outputs": []
    },
    {
      "cell_type": "code",
      "source": [
        "# get some random training images\n",
        "dataiter = iter(valid_dataloader)\n",
        "images, labels = next(dataiter)"
      ],
      "metadata": {
        "id": "JkKNsJ_ux8Sk"
      },
      "execution_count": null,
      "outputs": []
    },
    {
      "cell_type": "code",
      "source": [
        "images.shape"
      ],
      "metadata": {
        "colab": {
          "base_uri": "https://localhost:8080/"
        },
        "id": "4Fkm4LSpy24E",
        "outputId": "b33c90e1-7907-4acd-ce5a-7a902a9ff98a"
      },
      "execution_count": null,
      "outputs": [
        {
          "output_type": "execute_result",
          "data": {
            "text/plain": [
              "torch.Size([32, 3, 224, 224])"
            ]
          },
          "metadata": {},
          "execution_count": 114
        }
      ]
    },
    {
      "cell_type": "code",
      "source": [
        "labels"
      ],
      "metadata": {
        "colab": {
          "base_uri": "https://localhost:8080/"
        },
        "id": "oFxsxT9FyNUi",
        "outputId": "7e25f895-dfcf-42b4-a312-a83eae681902"
      },
      "execution_count": null,
      "outputs": [
        {
          "output_type": "execute_result",
          "data": {
            "text/plain": [
              "tensor([[0., 0., 0.,  ..., 0., 0., 1.],\n",
              "        [0., 0., 0.,  ..., 0., 0., 0.],\n",
              "        [0., 0., 0.,  ..., 0., 0., 0.],\n",
              "        ...,\n",
              "        [0., 0., 0.,  ..., 0., 0., 0.],\n",
              "        [0., 0., 0.,  ..., 0., 0., 0.],\n",
              "        [0., 0., 0.,  ..., 0., 0., 0.]], dtype=torch.float64)"
            ]
          },
          "metadata": {},
          "execution_count": 113
        }
      ]
    },
    {
      "cell_type": "code",
      "source": [
        "len(images)"
      ],
      "metadata": {
        "colab": {
          "base_uri": "https://localhost:8080/"
        },
        "id": "5_YMyV4w0KXU",
        "outputId": "c526535a-d972-4eca-d3f0-92dc63fcf059"
      },
      "execution_count": null,
      "outputs": [
        {
          "output_type": "execute_result",
          "data": {
            "text/plain": [
              "32"
            ]
          },
          "metadata": {},
          "execution_count": 115
        }
      ]
    },
    {
      "cell_type": "code",
      "source": [
        "X = images.to(cfg.device)\n",
        "y = labels.to(cfg.device)\n",
        "\n",
        "with torch.no_grad():\n",
        "    # Forward: Get model outputs\n",
        "    y_pred = model_x(X)\n",
        "\n",
        "    # Forward: Calculate loss\n",
        "    loss = criterion(y_pred, y)\n",
        "\n",
        "    # Covert y and y_pred to lists\n",
        "    y =  y.detach().cpu().numpy().tolist()\n",
        "    y_pred =  y_pred.detach().cpu().numpy().tolist()\n",
        "\n",
        "    # Extend original list\n",
        "    final_y_pred_argmax = np.argmax(y_pred, axis=1)\n",
        "    final_y_argmax = np.argmax(y, axis = 1)\n",
        "    metric_test = calculate_metric(final_y_argmax, final_y_pred_argmax)"
      ],
      "metadata": {
        "id": "_ngJh9Rpysf9"
      },
      "execution_count": null,
      "outputs": []
    },
    {
      "cell_type": "code",
      "source": [
        "metric_test"
      ],
      "metadata": {
        "colab": {
          "base_uri": "https://localhost:8080/"
        },
        "id": "TkK4lYHB0ooX",
        "outputId": "e9e25051-c3a5-4530-fb01-1e96d6896a2c"
      },
      "execution_count": null,
      "outputs": [
        {
          "output_type": "execute_result",
          "data": {
            "text/plain": [
              "1.0"
            ]
          },
          "metadata": {},
          "execution_count": 117
        }
      ]
    },
    {
      "cell_type": "code",
      "source": [
        "final_y_pred_argmax"
      ],
      "metadata": {
        "colab": {
          "base_uri": "https://localhost:8080/"
        },
        "id": "fL2Vixi41B-k",
        "outputId": "71361065-427d-4222-e27e-bb0ff8a90020"
      },
      "execution_count": null,
      "outputs": [
        {
          "output_type": "execute_result",
          "data": {
            "text/plain": [
              "array([45, 30, 10, 19, 18,  7,  1, 17,  6, 14,  0, 10, 40, 45, 24,  8, 14,\n",
              "       30, 44, 15, 41,  5,  6, 19, 40, 11, 30,  8, 37, 31, 32,  3])"
            ]
          },
          "metadata": {},
          "execution_count": 118
        }
      ]
    },
    {
      "cell_type": "code",
      "source": [
        "final_y_argmax"
      ],
      "metadata": {
        "colab": {
          "base_uri": "https://localhost:8080/"
        },
        "id": "Gdsys86c1IS7",
        "outputId": "3c2b88f4-9fa0-4d48-dd9a-b7fcd6d6d2b8"
      },
      "execution_count": null,
      "outputs": [
        {
          "output_type": "execute_result",
          "data": {
            "text/plain": [
              "array([45, 30, 10, 19, 18,  7,  1, 17,  6, 14,  0, 10, 40, 45, 24,  8, 14,\n",
              "       30, 44, 15, 41,  5,  6, 19, 40, 11, 30,  8, 37, 31, 32,  3])"
            ]
          },
          "metadata": {},
          "execution_count": 119
        }
      ]
    },
    {
      "cell_type": "code",
      "source": [
        "test_df"
      ],
      "metadata": {
        "colab": {
          "base_uri": "https://localhost:8080/",
          "height": 423
        },
        "id": "7R7J_uEr2kx7",
        "outputId": "29bf3705-30f4-424e-8ab0-11df80b8596f"
      },
      "execution_count": null,
      "outputs": [
        {
          "output_type": "execute_result",
          "data": {
            "text/plain": [
              "                                file_name label\n",
              "310   ./data/hira_better_quality/ん/15.jpg     ん\n",
              "161   ./data/hira_better_quality/ま/11.jpg     ま\n",
              "70    ./data/hira_better_quality/さ/10.jpg     さ\n",
              "686   ./data/hira_better_quality/と/23.jpg     と\n",
              "986    ./data/hira_better_quality/て/9.jpg     て\n",
              "...                                   ...   ...\n",
              "1335  ./data/hira_better_quality/す/18.jpg     す\n",
              "920   ./data/hira_better_quality/ら/18.jpg     ら\n",
              "1092  ./data/hira_better_quality/い/16.jpg     い\n",
              "31    ./data/hira_better_quality/に/13.jpg     に\n",
              "1367  ./data/hira_better_quality/り/32.jpg     り\n",
              "\n",
              "[312 rows x 2 columns]"
            ],
            "text/html": [
              "\n",
              "  <div id=\"df-f3f7371a-7a44-4a51-a3c4-5c59d223abc2\">\n",
              "    <div class=\"colab-df-container\">\n",
              "      <div>\n",
              "<style scoped>\n",
              "    .dataframe tbody tr th:only-of-type {\n",
              "        vertical-align: middle;\n",
              "    }\n",
              "\n",
              "    .dataframe tbody tr th {\n",
              "        vertical-align: top;\n",
              "    }\n",
              "\n",
              "    .dataframe thead th {\n",
              "        text-align: right;\n",
              "    }\n",
              "</style>\n",
              "<table border=\"1\" class=\"dataframe\">\n",
              "  <thead>\n",
              "    <tr style=\"text-align: right;\">\n",
              "      <th></th>\n",
              "      <th>file_name</th>\n",
              "      <th>label</th>\n",
              "    </tr>\n",
              "  </thead>\n",
              "  <tbody>\n",
              "    <tr>\n",
              "      <th>310</th>\n",
              "      <td>./data/hira_better_quality/ん/15.jpg</td>\n",
              "      <td>ん</td>\n",
              "    </tr>\n",
              "    <tr>\n",
              "      <th>161</th>\n",
              "      <td>./data/hira_better_quality/ま/11.jpg</td>\n",
              "      <td>ま</td>\n",
              "    </tr>\n",
              "    <tr>\n",
              "      <th>70</th>\n",
              "      <td>./data/hira_better_quality/さ/10.jpg</td>\n",
              "      <td>さ</td>\n",
              "    </tr>\n",
              "    <tr>\n",
              "      <th>686</th>\n",
              "      <td>./data/hira_better_quality/と/23.jpg</td>\n",
              "      <td>と</td>\n",
              "    </tr>\n",
              "    <tr>\n",
              "      <th>986</th>\n",
              "      <td>./data/hira_better_quality/て/9.jpg</td>\n",
              "      <td>て</td>\n",
              "    </tr>\n",
              "    <tr>\n",
              "      <th>...</th>\n",
              "      <td>...</td>\n",
              "      <td>...</td>\n",
              "    </tr>\n",
              "    <tr>\n",
              "      <th>1335</th>\n",
              "      <td>./data/hira_better_quality/す/18.jpg</td>\n",
              "      <td>す</td>\n",
              "    </tr>\n",
              "    <tr>\n",
              "      <th>920</th>\n",
              "      <td>./data/hira_better_quality/ら/18.jpg</td>\n",
              "      <td>ら</td>\n",
              "    </tr>\n",
              "    <tr>\n",
              "      <th>1092</th>\n",
              "      <td>./data/hira_better_quality/い/16.jpg</td>\n",
              "      <td>い</td>\n",
              "    </tr>\n",
              "    <tr>\n",
              "      <th>31</th>\n",
              "      <td>./data/hira_better_quality/に/13.jpg</td>\n",
              "      <td>に</td>\n",
              "    </tr>\n",
              "    <tr>\n",
              "      <th>1367</th>\n",
              "      <td>./data/hira_better_quality/り/32.jpg</td>\n",
              "      <td>り</td>\n",
              "    </tr>\n",
              "  </tbody>\n",
              "</table>\n",
              "<p>312 rows × 2 columns</p>\n",
              "</div>\n",
              "      <button class=\"colab-df-convert\" onclick=\"convertToInteractive('df-f3f7371a-7a44-4a51-a3c4-5c59d223abc2')\"\n",
              "              title=\"Convert this dataframe to an interactive table.\"\n",
              "              style=\"display:none;\">\n",
              "        \n",
              "  <svg xmlns=\"http://www.w3.org/2000/svg\" height=\"24px\"viewBox=\"0 0 24 24\"\n",
              "       width=\"24px\">\n",
              "    <path d=\"M0 0h24v24H0V0z\" fill=\"none\"/>\n",
              "    <path d=\"M18.56 5.44l.94 2.06.94-2.06 2.06-.94-2.06-.94-.94-2.06-.94 2.06-2.06.94zm-11 1L8.5 8.5l.94-2.06 2.06-.94-2.06-.94L8.5 2.5l-.94 2.06-2.06.94zm10 10l.94 2.06.94-2.06 2.06-.94-2.06-.94-.94-2.06-.94 2.06-2.06.94z\"/><path d=\"M17.41 7.96l-1.37-1.37c-.4-.4-.92-.59-1.43-.59-.52 0-1.04.2-1.43.59L10.3 9.45l-7.72 7.72c-.78.78-.78 2.05 0 2.83L4 21.41c.39.39.9.59 1.41.59.51 0 1.02-.2 1.41-.59l7.78-7.78 2.81-2.81c.8-.78.8-2.07 0-2.86zM5.41 20L4 18.59l7.72-7.72 1.47 1.35L5.41 20z\"/>\n",
              "  </svg>\n",
              "      </button>\n",
              "      \n",
              "  <style>\n",
              "    .colab-df-container {\n",
              "      display:flex;\n",
              "      flex-wrap:wrap;\n",
              "      gap: 12px;\n",
              "    }\n",
              "\n",
              "    .colab-df-convert {\n",
              "      background-color: #E8F0FE;\n",
              "      border: none;\n",
              "      border-radius: 50%;\n",
              "      cursor: pointer;\n",
              "      display: none;\n",
              "      fill: #1967D2;\n",
              "      height: 32px;\n",
              "      padding: 0 0 0 0;\n",
              "      width: 32px;\n",
              "    }\n",
              "\n",
              "    .colab-df-convert:hover {\n",
              "      background-color: #E2EBFA;\n",
              "      box-shadow: 0px 1px 2px rgba(60, 64, 67, 0.3), 0px 1px 3px 1px rgba(60, 64, 67, 0.15);\n",
              "      fill: #174EA6;\n",
              "    }\n",
              "\n",
              "    [theme=dark] .colab-df-convert {\n",
              "      background-color: #3B4455;\n",
              "      fill: #D2E3FC;\n",
              "    }\n",
              "\n",
              "    [theme=dark] .colab-df-convert:hover {\n",
              "      background-color: #434B5C;\n",
              "      box-shadow: 0px 1px 3px 1px rgba(0, 0, 0, 0.15);\n",
              "      filter: drop-shadow(0px 1px 2px rgba(0, 0, 0, 0.3));\n",
              "      fill: #FFFFFF;\n",
              "    }\n",
              "  </style>\n",
              "\n",
              "      <script>\n",
              "        const buttonEl =\n",
              "          document.querySelector('#df-f3f7371a-7a44-4a51-a3c4-5c59d223abc2 button.colab-df-convert');\n",
              "        buttonEl.style.display =\n",
              "          google.colab.kernel.accessAllowed ? 'block' : 'none';\n",
              "\n",
              "        async function convertToInteractive(key) {\n",
              "          const element = document.querySelector('#df-f3f7371a-7a44-4a51-a3c4-5c59d223abc2');\n",
              "          const dataTable =\n",
              "            await google.colab.kernel.invokeFunction('convertToInteractive',\n",
              "                                                     [key], {});\n",
              "          if (!dataTable) return;\n",
              "\n",
              "          const docLinkHtml = 'Like what you see? Visit the ' +\n",
              "            '<a target=\"_blank\" href=https://colab.research.google.com/notebooks/data_table.ipynb>data table notebook</a>'\n",
              "            + ' to learn more about interactive tables.';\n",
              "          element.innerHTML = '';\n",
              "          dataTable['output_type'] = 'display_data';\n",
              "          await google.colab.output.renderOutput(dataTable, element);\n",
              "          const docLink = document.createElement('div');\n",
              "          docLink.innerHTML = docLinkHtml;\n",
              "          element.appendChild(docLink);\n",
              "        }\n",
              "      </script>\n",
              "    </div>\n",
              "  </div>\n",
              "  "
            ]
          },
          "metadata": {},
          "execution_count": 120
        }
      ]
    },
    {
      "cell_type": "code",
      "source": [
        "def inference_for_an_image(image_path = None, model_x = None):\n",
        "  image = cv2.imread(image_path)\n",
        "\n",
        "  # Convert the image to RGB color space.\n",
        "  image = cv2.cvtColor(image, cv2.COLOR_BGR2RGB)\n",
        "  # Apply augmentations\n",
        "  transform = A.Compose([A.Resize(cfg.image_size, cfg.image_size),\n",
        "                              ToTensorV2()])\n",
        "  augmented = transform(image=image)\n",
        "  image = augmented['image']\n",
        "\n",
        "  image = image/255\n",
        "  image = image.to(cfg.device)\n",
        "\n",
        "  image_tensor_batch1 = image.unsqueeze(0)\n",
        "\n",
        "  predict = model_x(image_tensor_batch1)\n",
        "  y_pred1 =  predict.detach().cpu().numpy()\n",
        "  character_label = labels[np.argmax(y_pred1)]\n",
        "\n",
        "  return character_label"
      ],
      "metadata": {
        "id": "Zrk0MBPLxqyt"
      },
      "execution_count": 22,
      "outputs": []
    },
    {
      "cell_type": "code",
      "source": [
        "sort_df[\"predicted_labels\"] = sort_df[\"file_name\"].apply(lambda x : inference_for_an_image(str(x), model_x))"
      ],
      "metadata": {
        "id": "ukHcVCmALlOe"
      },
      "execution_count": 23,
      "outputs": []
    },
    {
      "cell_type": "code",
      "source": [
        "comparison = sort_df[\"label\"] == sort_df[\"predicted_labels\"]\n",
        "sort_df[\"Correct\"] = comparison"
      ],
      "metadata": {
        "id": "H9K50vmxMbkP"
      },
      "execution_count": 24,
      "outputs": []
    },
    {
      "cell_type": "code",
      "source": [
        "len(sort_df)"
      ],
      "metadata": {
        "colab": {
          "base_uri": "https://localhost:8080/"
        },
        "id": "V8yyK5WXMtqT",
        "outputId": "ab38126d-ed9f-4811-f132-6f13be3f08da"
      },
      "execution_count": 26,
      "outputs": [
        {
          "output_type": "execute_result",
          "data": {
            "text/plain": [
              "1560"
            ]
          },
          "metadata": {},
          "execution_count": 26
        }
      ]
    },
    {
      "cell_type": "code",
      "source": [
        "sort_df[\"Correct\"].sum()"
      ],
      "metadata": {
        "colab": {
          "base_uri": "https://localhost:8080/"
        },
        "id": "3gc3nwyhMn4Z",
        "outputId": "7044116c-cebe-4cd8-8f1e-c8e8c9cdc9ea"
      },
      "execution_count": 25,
      "outputs": [
        {
          "output_type": "execute_result",
          "data": {
            "text/plain": [
              "1549"
            ]
          },
          "metadata": {},
          "execution_count": 25
        }
      ]
    },
    {
      "cell_type": "code",
      "source": [
        "sort_df2 = sort_df[sort_df[\"Correct\"] == False]"
      ],
      "metadata": {
        "id": "4WABFc-dNFrA"
      },
      "execution_count": 28,
      "outputs": []
    },
    {
      "cell_type": "code",
      "source": [
        "sort_df2"
      ],
      "metadata": {
        "colab": {
          "base_uri": "https://localhost:8080/",
          "height": 394
        },
        "id": "y0515PcFNcUm",
        "outputId": "d6404c19-bf54-4617-d43c-241dbc70f4e7"
      },
      "execution_count": 29,
      "outputs": [
        {
          "output_type": "execute_result",
          "data": {
            "text/plain": [
              "                                file_name label predicted_labels  Correct\n",
              "1508  ./data/hira_better_quality/あ/28.jpg     あ                よ    False\n",
              "716   ./data/hira_better_quality/そ/16.jpg     そ                を    False\n",
              "964    ./data/hira_better_quality/つ/1.jpg     つ                ち    False\n",
              "577   ./data/hira_better_quality/ね/26.jpg     ね                れ    False\n",
              "1155  ./data/hira_better_quality/は/14.jpg     は                ほ    False\n",
              "1159  ./data/hira_better_quality/は/19.jpg     は                ほ    False\n",
              "1192  ./data/hira_better_quality/も/21.jpg     も                よ    False\n",
              "112   ./data/hira_better_quality/ゆ/24.jpg     ゆ                ぬ    False\n",
              "123   ./data/hira_better_quality/ゆ/25.jpg     ゆ                め    False\n",
              "1382   ./data/hira_better_quality/り/1.jpg     り                て    False\n",
              "399    ./data/hira_better_quality/を/5.jpg     を                そ    False"
            ],
            "text/html": [
              "\n",
              "  <div id=\"df-8e7df84b-a8ad-46f5-8ca5-14897ad907f8\">\n",
              "    <div class=\"colab-df-container\">\n",
              "      <div>\n",
              "<style scoped>\n",
              "    .dataframe tbody tr th:only-of-type {\n",
              "        vertical-align: middle;\n",
              "    }\n",
              "\n",
              "    .dataframe tbody tr th {\n",
              "        vertical-align: top;\n",
              "    }\n",
              "\n",
              "    .dataframe thead th {\n",
              "        text-align: right;\n",
              "    }\n",
              "</style>\n",
              "<table border=\"1\" class=\"dataframe\">\n",
              "  <thead>\n",
              "    <tr style=\"text-align: right;\">\n",
              "      <th></th>\n",
              "      <th>file_name</th>\n",
              "      <th>label</th>\n",
              "      <th>predicted_labels</th>\n",
              "      <th>Correct</th>\n",
              "    </tr>\n",
              "  </thead>\n",
              "  <tbody>\n",
              "    <tr>\n",
              "      <th>1508</th>\n",
              "      <td>./data/hira_better_quality/あ/28.jpg</td>\n",
              "      <td>あ</td>\n",
              "      <td>よ</td>\n",
              "      <td>False</td>\n",
              "    </tr>\n",
              "    <tr>\n",
              "      <th>716</th>\n",
              "      <td>./data/hira_better_quality/そ/16.jpg</td>\n",
              "      <td>そ</td>\n",
              "      <td>を</td>\n",
              "      <td>False</td>\n",
              "    </tr>\n",
              "    <tr>\n",
              "      <th>964</th>\n",
              "      <td>./data/hira_better_quality/つ/1.jpg</td>\n",
              "      <td>つ</td>\n",
              "      <td>ち</td>\n",
              "      <td>False</td>\n",
              "    </tr>\n",
              "    <tr>\n",
              "      <th>577</th>\n",
              "      <td>./data/hira_better_quality/ね/26.jpg</td>\n",
              "      <td>ね</td>\n",
              "      <td>れ</td>\n",
              "      <td>False</td>\n",
              "    </tr>\n",
              "    <tr>\n",
              "      <th>1155</th>\n",
              "      <td>./data/hira_better_quality/は/14.jpg</td>\n",
              "      <td>は</td>\n",
              "      <td>ほ</td>\n",
              "      <td>False</td>\n",
              "    </tr>\n",
              "    <tr>\n",
              "      <th>1159</th>\n",
              "      <td>./data/hira_better_quality/は/19.jpg</td>\n",
              "      <td>は</td>\n",
              "      <td>ほ</td>\n",
              "      <td>False</td>\n",
              "    </tr>\n",
              "    <tr>\n",
              "      <th>1192</th>\n",
              "      <td>./data/hira_better_quality/も/21.jpg</td>\n",
              "      <td>も</td>\n",
              "      <td>よ</td>\n",
              "      <td>False</td>\n",
              "    </tr>\n",
              "    <tr>\n",
              "      <th>112</th>\n",
              "      <td>./data/hira_better_quality/ゆ/24.jpg</td>\n",
              "      <td>ゆ</td>\n",
              "      <td>ぬ</td>\n",
              "      <td>False</td>\n",
              "    </tr>\n",
              "    <tr>\n",
              "      <th>123</th>\n",
              "      <td>./data/hira_better_quality/ゆ/25.jpg</td>\n",
              "      <td>ゆ</td>\n",
              "      <td>め</td>\n",
              "      <td>False</td>\n",
              "    </tr>\n",
              "    <tr>\n",
              "      <th>1382</th>\n",
              "      <td>./data/hira_better_quality/り/1.jpg</td>\n",
              "      <td>り</td>\n",
              "      <td>て</td>\n",
              "      <td>False</td>\n",
              "    </tr>\n",
              "    <tr>\n",
              "      <th>399</th>\n",
              "      <td>./data/hira_better_quality/を/5.jpg</td>\n",
              "      <td>を</td>\n",
              "      <td>そ</td>\n",
              "      <td>False</td>\n",
              "    </tr>\n",
              "  </tbody>\n",
              "</table>\n",
              "</div>\n",
              "      <button class=\"colab-df-convert\" onclick=\"convertToInteractive('df-8e7df84b-a8ad-46f5-8ca5-14897ad907f8')\"\n",
              "              title=\"Convert this dataframe to an interactive table.\"\n",
              "              style=\"display:none;\">\n",
              "        \n",
              "  <svg xmlns=\"http://www.w3.org/2000/svg\" height=\"24px\"viewBox=\"0 0 24 24\"\n",
              "       width=\"24px\">\n",
              "    <path d=\"M0 0h24v24H0V0z\" fill=\"none\"/>\n",
              "    <path d=\"M18.56 5.44l.94 2.06.94-2.06 2.06-.94-2.06-.94-.94-2.06-.94 2.06-2.06.94zm-11 1L8.5 8.5l.94-2.06 2.06-.94-2.06-.94L8.5 2.5l-.94 2.06-2.06.94zm10 10l.94 2.06.94-2.06 2.06-.94-2.06-.94-.94-2.06-.94 2.06-2.06.94z\"/><path d=\"M17.41 7.96l-1.37-1.37c-.4-.4-.92-.59-1.43-.59-.52 0-1.04.2-1.43.59L10.3 9.45l-7.72 7.72c-.78.78-.78 2.05 0 2.83L4 21.41c.39.39.9.59 1.41.59.51 0 1.02-.2 1.41-.59l7.78-7.78 2.81-2.81c.8-.78.8-2.07 0-2.86zM5.41 20L4 18.59l7.72-7.72 1.47 1.35L5.41 20z\"/>\n",
              "  </svg>\n",
              "      </button>\n",
              "      \n",
              "  <style>\n",
              "    .colab-df-container {\n",
              "      display:flex;\n",
              "      flex-wrap:wrap;\n",
              "      gap: 12px;\n",
              "    }\n",
              "\n",
              "    .colab-df-convert {\n",
              "      background-color: #E8F0FE;\n",
              "      border: none;\n",
              "      border-radius: 50%;\n",
              "      cursor: pointer;\n",
              "      display: none;\n",
              "      fill: #1967D2;\n",
              "      height: 32px;\n",
              "      padding: 0 0 0 0;\n",
              "      width: 32px;\n",
              "    }\n",
              "\n",
              "    .colab-df-convert:hover {\n",
              "      background-color: #E2EBFA;\n",
              "      box-shadow: 0px 1px 2px rgba(60, 64, 67, 0.3), 0px 1px 3px 1px rgba(60, 64, 67, 0.15);\n",
              "      fill: #174EA6;\n",
              "    }\n",
              "\n",
              "    [theme=dark] .colab-df-convert {\n",
              "      background-color: #3B4455;\n",
              "      fill: #D2E3FC;\n",
              "    }\n",
              "\n",
              "    [theme=dark] .colab-df-convert:hover {\n",
              "      background-color: #434B5C;\n",
              "      box-shadow: 0px 1px 3px 1px rgba(0, 0, 0, 0.15);\n",
              "      filter: drop-shadow(0px 1px 2px rgba(0, 0, 0, 0.3));\n",
              "      fill: #FFFFFF;\n",
              "    }\n",
              "  </style>\n",
              "\n",
              "      <script>\n",
              "        const buttonEl =\n",
              "          document.querySelector('#df-8e7df84b-a8ad-46f5-8ca5-14897ad907f8 button.colab-df-convert');\n",
              "        buttonEl.style.display =\n",
              "          google.colab.kernel.accessAllowed ? 'block' : 'none';\n",
              "\n",
              "        async function convertToInteractive(key) {\n",
              "          const element = document.querySelector('#df-8e7df84b-a8ad-46f5-8ca5-14897ad907f8');\n",
              "          const dataTable =\n",
              "            await google.colab.kernel.invokeFunction('convertToInteractive',\n",
              "                                                     [key], {});\n",
              "          if (!dataTable) return;\n",
              "\n",
              "          const docLinkHtml = 'Like what you see? Visit the ' +\n",
              "            '<a target=\"_blank\" href=https://colab.research.google.com/notebooks/data_table.ipynb>data table notebook</a>'\n",
              "            + ' to learn more about interactive tables.';\n",
              "          element.innerHTML = '';\n",
              "          dataTable['output_type'] = 'display_data';\n",
              "          await google.colab.output.renderOutput(dataTable, element);\n",
              "          const docLink = document.createElement('div');\n",
              "          docLink.innerHTML = docLinkHtml;\n",
              "          element.appendChild(docLink);\n",
              "        }\n",
              "      </script>\n",
              "    </div>\n",
              "  </div>\n",
              "  "
            ]
          },
          "metadata": {},
          "execution_count": 29
        }
      ]
    },
    {
      "cell_type": "code",
      "source": [
        "image_path = \"./data/hira_better_quality/ん/15.jpg\"\n",
        "a = inference_for_an_image(image_path = image_path, model_x = model_x)\n",
        "print(a)"
      ],
      "metadata": {
        "colab": {
          "base_uri": "https://localhost:8080/"
        },
        "id": "3rrqG6-k9Z2J",
        "outputId": "5da402af-11cd-4523-a0e5-14c1c0985933"
      },
      "execution_count": null,
      "outputs": [
        {
          "output_type": "stream",
          "name": "stdout",
          "text": [
            "./data/hira_better_quality/ん/15.jpg\n",
            "torch.Size([1, 3, 224, 224])\n",
            "ん\n"
          ]
        }
      ]
    },
    {
      "cell_type": "code",
      "source": [
        "test_df[\"predicted_labels\"] = df[\"file_name\"].apply(lambda x : inference_for_an_image(str(x), model_x))"
      ],
      "metadata": {
        "id": "IDQWNCyF-lLJ"
      },
      "execution_count": null,
      "outputs": []
    },
    {
      "cell_type": "code",
      "source": [
        "comparison = test_df[\"label\"] == test_df[\"predicted_labels\"]"
      ],
      "metadata": {
        "id": "wc7yqbWWA0pl"
      },
      "execution_count": null,
      "outputs": []
    },
    {
      "cell_type": "code",
      "source": [
        "test_df[\"Correct\"] = comparison"
      ],
      "metadata": {
        "id": "rdxrznAaBmV6"
      },
      "execution_count": null,
      "outputs": []
    },
    {
      "cell_type": "code",
      "source": [
        "len(test_df)"
      ],
      "metadata": {
        "colab": {
          "base_uri": "https://localhost:8080/"
        },
        "id": "vKhnTZFrDTCP",
        "outputId": "a3576a56-9a8a-49a7-adf6-1b86c1d55da7"
      },
      "execution_count": null,
      "outputs": [
        {
          "output_type": "execute_result",
          "data": {
            "text/plain": [
              "312"
            ]
          },
          "metadata": {},
          "execution_count": 160
        }
      ]
    },
    {
      "cell_type": "code",
      "source": [
        "test_df[\"Correct\"].sum()"
      ],
      "metadata": {
        "colab": {
          "base_uri": "https://localhost:8080/"
        },
        "id": "pEm-QuZFDFMA",
        "outputId": "79f58251-359c-4805-f7a7-fcad461d80d4"
      },
      "execution_count": null,
      "outputs": [
        {
          "output_type": "execute_result",
          "data": {
            "text/plain": [
              "301"
            ]
          },
          "metadata": {},
          "execution_count": 159
        }
      ]
    },
    {
      "cell_type": "code",
      "source": [
        "301/312"
      ],
      "metadata": {
        "colab": {
          "base_uri": "https://localhost:8080/"
        },
        "id": "ipefPOQzDVcf",
        "outputId": "e7f2d610-fe6e-4aff-b990-6a49ec118383"
      },
      "execution_count": null,
      "outputs": [
        {
          "output_type": "execute_result",
          "data": {
            "text/plain": [
              "0.9647435897435898"
            ]
          },
          "metadata": {},
          "execution_count": 161
        }
      ]
    },
    {
      "cell_type": "code",
      "source": [
        "test_df2 =  test_df[test_df[\"Correct\"] == False]"
      ],
      "metadata": {
        "id": "9j6b0FkYEXKZ"
      },
      "execution_count": null,
      "outputs": []
    },
    {
      "cell_type": "code",
      "source": [
        "test_df2"
      ],
      "metadata": {
        "id": "HXoH1wfzFf8o",
        "outputId": "894ee3a5-990d-430b-9710-38376fc87155",
        "colab": {
          "base_uri": "https://localhost:8080/",
          "height": 166
        }
      },
      "execution_count": 1,
      "outputs": [
        {
          "output_type": "error",
          "ename": "NameError",
          "evalue": "ignored",
          "traceback": [
            "\u001b[0;31m---------------------------------------------------------------------------\u001b[0m",
            "\u001b[0;31mNameError\u001b[0m                                 Traceback (most recent call last)",
            "\u001b[0;32m<ipython-input-1-93ba4b14fa04>\u001b[0m in \u001b[0;36m<cell line: 1>\u001b[0;34m()\u001b[0m\n\u001b[0;32m----> 1\u001b[0;31m \u001b[0mtest_df2\u001b[0m\u001b[0;34m\u001b[0m\u001b[0;34m\u001b[0m\u001b[0m\n\u001b[0m",
            "\u001b[0;31mNameError\u001b[0m: name 'test_df2' is not defined"
          ]
        }
      ]
    },
    {
      "cell_type": "markdown",
      "source": [
        "##8.2. Save explored results"
      ],
      "metadata": {
        "id": "4Od1y12-CIVO"
      }
    },
    {
      "cell_type": "code",
      "source": [
        "explored_saved_results_path = \"./models/1/explore_model/all_data_results.xlsx\""
      ],
      "metadata": {
        "id": "v0dkIbdDCHLR"
      },
      "execution_count": 30,
      "outputs": []
    },
    {
      "cell_type": "code",
      "source": [
        "sort_df.to_excel(explored_saved_results_path, index = False)"
      ],
      "metadata": {
        "id": "loa9d2ehCZ7V"
      },
      "execution_count": 31,
      "outputs": []
    },
    {
      "cell_type": "markdown",
      "source": [
        "#9. References\n",
        "+ https://towardsdatascience.com/pytorch-image-classification-tutorial-for-beginners-94ea13f56f2"
      ],
      "metadata": {
        "id": "QLhG9cIriDh-"
      }
    },
    {
      "cell_type": "code",
      "source": [],
      "metadata": {
        "id": "MX-cva3tfPve"
      },
      "execution_count": null,
      "outputs": []
    }
  ]
}