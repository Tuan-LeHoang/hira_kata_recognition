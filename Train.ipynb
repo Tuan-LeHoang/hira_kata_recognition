{
  "nbformat": 4,
  "nbformat_minor": 0,
  "metadata": {
    "colab": {
      "provenance": [],
      "toc_visible": true,
      "machine_shape": "hm",
      "gpuType": "T4",
      "mount_file_id": "13cQjcIYMElmVy6BgsZMBKtbWFvJgERHA",
      "authorship_tag": "ABX9TyMQRpk41nqWt/reGOhzw/7N",
      "include_colab_link": true
    },
    "kernelspec": {
      "name": "python3",
      "display_name": "Python 3"
    },
    "language_info": {
      "name": "python"
    },
    "accelerator": "GPU"
  },
  "cells": [
    {
      "cell_type": "markdown",
      "metadata": {
        "id": "view-in-github",
        "colab_type": "text"
      },
      "source": [
        "<a href=\"https://colab.research.google.com/github/Tuan-LeHoang/hira_kata_recognition/blob/main/Train.ipynb\" target=\"_parent\"><img src=\"https://colab.research.google.com/assets/colab-badge.svg\" alt=\"Open In Colab\"/></a>"
      ]
    },
    {
      "cell_type": "code",
      "execution_count": 1,
      "metadata": {
        "colab": {
          "base_uri": "https://localhost:8080/"
        },
        "id": "FJt8o5UlY-fv",
        "outputId": "b6e42160-fc40-4177-b7c4-d4daa0fe277e"
      },
      "outputs": [
        {
          "output_type": "stream",
          "name": "stdout",
          "text": [
            "/content/drive/MyDrive/2023_Project/OCR\n"
          ]
        }
      ],
      "source": [
        "%cd /content/drive/MyDrive/2023_Project/OCR"
      ]
    },
    {
      "cell_type": "code",
      "source": [
        "!ls"
      ],
      "metadata": {
        "colab": {
          "base_uri": "https://localhost:8080/"
        },
        "id": "cMuzR7IIZNOd",
        "outputId": "ffa7eb08-9f5d-48c5-8fa8-24b98de5fa53"
      },
      "execution_count": 2,
      "outputs": [
        {
          "output_type": "stream",
          "name": "stdout",
          "text": [
            "data\t\t\t  hira_better_quality\t   models\n",
            "Data_Exploring.ipynb\t  hira_better_quality.zip  Report\n",
            "git_lfs_handwritten_hira  __MACOSX\t\t   Train.ipynb\n"
          ]
        }
      ]
    },
    {
      "cell_type": "code",
      "source": [
        "# !pip install japanize_matplotlib\n",
        "# !pip install timm"
      ],
      "metadata": {
        "colab": {
          "base_uri": "https://localhost:8080/"
        },
        "id": "oJHhIoVdZc6r",
        "outputId": "74a47f8a-6daa-41a0-ca31-c239075522c8"
      },
      "execution_count": 3,
      "outputs": [
        {
          "output_type": "stream",
          "name": "stdout",
          "text": [
            "Collecting japanize_matplotlib\n",
            "  Downloading japanize-matplotlib-1.1.3.tar.gz (4.1 MB)\n",
            "\u001b[?25l     \u001b[90m━━━━━━━━━━━━━━━━━━━━━━━━━━━━━━━━━━━━━━━━\u001b[0m \u001b[32m0.0/4.1 MB\u001b[0m \u001b[31m?\u001b[0m eta \u001b[36m-:--:--\u001b[0m\r\u001b[2K     \u001b[91m━━━━━━━━━━━━━━━━━━━━━━━━━━━━━━━━━━━━━━━\u001b[0m\u001b[91m╸\u001b[0m \u001b[32m4.1/4.1 MB\u001b[0m \u001b[31m144.9 MB/s\u001b[0m eta \u001b[36m0:00:01\u001b[0m\r\u001b[2K     \u001b[90m━━━━━━━━━━━━━━━━━━━━━━━━━━━━━━━━━━━━━━━━\u001b[0m \u001b[32m4.1/4.1 MB\u001b[0m \u001b[31m77.7 MB/s\u001b[0m eta \u001b[36m0:00:00\u001b[0m\n",
            "\u001b[?25h  Preparing metadata (setup.py) ... \u001b[?25l\u001b[?25hdone\n",
            "Requirement already satisfied: matplotlib in /usr/local/lib/python3.10/dist-packages (from japanize_matplotlib) (3.7.1)\n",
            "Requirement already satisfied: contourpy>=1.0.1 in /usr/local/lib/python3.10/dist-packages (from matplotlib->japanize_matplotlib) (1.1.0)\n",
            "Requirement already satisfied: cycler>=0.10 in /usr/local/lib/python3.10/dist-packages (from matplotlib->japanize_matplotlib) (0.11.0)\n",
            "Requirement already satisfied: fonttools>=4.22.0 in /usr/local/lib/python3.10/dist-packages (from matplotlib->japanize_matplotlib) (4.40.0)\n",
            "Requirement already satisfied: kiwisolver>=1.0.1 in /usr/local/lib/python3.10/dist-packages (from matplotlib->japanize_matplotlib) (1.4.4)\n",
            "Requirement already satisfied: numpy>=1.20 in /usr/local/lib/python3.10/dist-packages (from matplotlib->japanize_matplotlib) (1.22.4)\n",
            "Requirement already satisfied: packaging>=20.0 in /usr/local/lib/python3.10/dist-packages (from matplotlib->japanize_matplotlib) (23.1)\n",
            "Requirement already satisfied: pillow>=6.2.0 in /usr/local/lib/python3.10/dist-packages (from matplotlib->japanize_matplotlib) (8.4.0)\n",
            "Requirement already satisfied: pyparsing>=2.3.1 in /usr/local/lib/python3.10/dist-packages (from matplotlib->japanize_matplotlib) (3.1.0)\n",
            "Requirement already satisfied: python-dateutil>=2.7 in /usr/local/lib/python3.10/dist-packages (from matplotlib->japanize_matplotlib) (2.8.2)\n",
            "Requirement already satisfied: six>=1.5 in /usr/local/lib/python3.10/dist-packages (from python-dateutil>=2.7->matplotlib->japanize_matplotlib) (1.16.0)\n",
            "Building wheels for collected packages: japanize_matplotlib\n",
            "  Building wheel for japanize_matplotlib (setup.py) ... \u001b[?25l\u001b[?25hdone\n",
            "  Created wheel for japanize_matplotlib: filename=japanize_matplotlib-1.1.3-py3-none-any.whl size=4120257 sha256=4cf6dad069a7e3367b5b4ce86d0f131bee80c116f0d64cefd08f563ca3ea0f8a\n",
            "  Stored in directory: /root/.cache/pip/wheels/61/7a/6b/df1f79be9c59862525070e157e62b08eab8ece27c1b68fbb94\n",
            "Successfully built japanize_matplotlib\n",
            "Installing collected packages: japanize_matplotlib\n",
            "Successfully installed japanize_matplotlib-1.1.3\n",
            "Collecting timm\n",
            "  Downloading timm-0.9.2-py3-none-any.whl (2.2 MB)\n",
            "\u001b[2K     \u001b[90m━━━━━━━━━━━━━━━━━━━━━━━━━━━━━━━━━━━━━━━━\u001b[0m \u001b[32m2.2/2.2 MB\u001b[0m \u001b[31m41.8 MB/s\u001b[0m eta \u001b[36m0:00:00\u001b[0m\n",
            "\u001b[?25hRequirement already satisfied: torch>=1.7 in /usr/local/lib/python3.10/dist-packages (from timm) (2.0.1+cu118)\n",
            "Requirement already satisfied: torchvision in /usr/local/lib/python3.10/dist-packages (from timm) (0.15.2+cu118)\n",
            "Requirement already satisfied: pyyaml in /usr/local/lib/python3.10/dist-packages (from timm) (6.0)\n",
            "Collecting huggingface-hub (from timm)\n",
            "  Downloading huggingface_hub-0.16.4-py3-none-any.whl (268 kB)\n",
            "\u001b[2K     \u001b[90m━━━━━━━━━━━━━━━━━━━━━━━━━━━━━━━━━━━━━━\u001b[0m \u001b[32m268.8/268.8 kB\u001b[0m \u001b[31m30.6 MB/s\u001b[0m eta \u001b[36m0:00:00\u001b[0m\n",
            "\u001b[?25hCollecting safetensors (from timm)\n",
            "  Downloading safetensors-0.3.1-cp310-cp310-manylinux_2_17_x86_64.manylinux2014_x86_64.whl (1.3 MB)\n",
            "\u001b[2K     \u001b[90m━━━━━━━━━━━━━━━━━━━━━━━━━━━━━━━━━━━━━━━━\u001b[0m \u001b[32m1.3/1.3 MB\u001b[0m \u001b[31m55.1 MB/s\u001b[0m eta \u001b[36m0:00:00\u001b[0m\n",
            "\u001b[?25hRequirement already satisfied: filelock in /usr/local/lib/python3.10/dist-packages (from torch>=1.7->timm) (3.12.2)\n",
            "Requirement already satisfied: typing-extensions in /usr/local/lib/python3.10/dist-packages (from torch>=1.7->timm) (4.7.1)\n",
            "Requirement already satisfied: sympy in /usr/local/lib/python3.10/dist-packages (from torch>=1.7->timm) (1.11.1)\n",
            "Requirement already satisfied: networkx in /usr/local/lib/python3.10/dist-packages (from torch>=1.7->timm) (3.1)\n",
            "Requirement already satisfied: jinja2 in /usr/local/lib/python3.10/dist-packages (from torch>=1.7->timm) (3.1.2)\n",
            "Requirement already satisfied: triton==2.0.0 in /usr/local/lib/python3.10/dist-packages (from torch>=1.7->timm) (2.0.0)\n",
            "Requirement already satisfied: cmake in /usr/local/lib/python3.10/dist-packages (from triton==2.0.0->torch>=1.7->timm) (3.25.2)\n",
            "Requirement already satisfied: lit in /usr/local/lib/python3.10/dist-packages (from triton==2.0.0->torch>=1.7->timm) (16.0.6)\n",
            "Requirement already satisfied: fsspec in /usr/local/lib/python3.10/dist-packages (from huggingface-hub->timm) (2023.6.0)\n",
            "Requirement already satisfied: requests in /usr/local/lib/python3.10/dist-packages (from huggingface-hub->timm) (2.27.1)\n",
            "Requirement already satisfied: tqdm>=4.42.1 in /usr/local/lib/python3.10/dist-packages (from huggingface-hub->timm) (4.65.0)\n",
            "Requirement already satisfied: packaging>=20.9 in /usr/local/lib/python3.10/dist-packages (from huggingface-hub->timm) (23.1)\n",
            "Requirement already satisfied: numpy in /usr/local/lib/python3.10/dist-packages (from torchvision->timm) (1.22.4)\n",
            "Requirement already satisfied: pillow!=8.3.*,>=5.3.0 in /usr/local/lib/python3.10/dist-packages (from torchvision->timm) (8.4.0)\n",
            "Requirement already satisfied: MarkupSafe>=2.0 in /usr/local/lib/python3.10/dist-packages (from jinja2->torch>=1.7->timm) (2.1.3)\n",
            "Requirement already satisfied: urllib3<1.27,>=1.21.1 in /usr/local/lib/python3.10/dist-packages (from requests->huggingface-hub->timm) (1.26.16)\n",
            "Requirement already satisfied: certifi>=2017.4.17 in /usr/local/lib/python3.10/dist-packages (from requests->huggingface-hub->timm) (2023.5.7)\n",
            "Requirement already satisfied: charset-normalizer~=2.0.0 in /usr/local/lib/python3.10/dist-packages (from requests->huggingface-hub->timm) (2.0.12)\n",
            "Requirement already satisfied: idna<4,>=2.5 in /usr/local/lib/python3.10/dist-packages (from requests->huggingface-hub->timm) (3.4)\n",
            "Requirement already satisfied: mpmath>=0.19 in /usr/local/lib/python3.10/dist-packages (from sympy->torch>=1.7->timm) (1.3.0)\n",
            "Installing collected packages: safetensors, huggingface-hub, timm\n",
            "Successfully installed huggingface-hub-0.16.4 safetensors-0.3.1 timm-0.9.2\n"
          ]
        }
      ]
    },
    {
      "cell_type": "code",
      "source": [
        "# !pip install tensorboard"
      ],
      "metadata": {
        "colab": {
          "base_uri": "https://localhost:8080/"
        },
        "id": "xaLvVW6LKxnd",
        "outputId": "3c24b506-25d0-427f-9e7c-3fe929bf532c"
      },
      "execution_count": 11,
      "outputs": [
        {
          "output_type": "stream",
          "name": "stdout",
          "text": [
            "Requirement already satisfied: tensorboard in /usr/local/lib/python3.10/dist-packages (2.12.3)\n",
            "Requirement already satisfied: absl-py>=0.4 in /usr/local/lib/python3.10/dist-packages (from tensorboard) (1.4.0)\n",
            "Requirement already satisfied: grpcio>=1.48.2 in /usr/local/lib/python3.10/dist-packages (from tensorboard) (1.56.0)\n",
            "Requirement already satisfied: google-auth<3,>=1.6.3 in /usr/local/lib/python3.10/dist-packages (from tensorboard) (2.17.3)\n",
            "Requirement already satisfied: google-auth-oauthlib<1.1,>=0.5 in /usr/local/lib/python3.10/dist-packages (from tensorboard) (1.0.0)\n",
            "Requirement already satisfied: markdown>=2.6.8 in /usr/local/lib/python3.10/dist-packages (from tensorboard) (3.4.3)\n",
            "Requirement already satisfied: numpy>=1.12.0 in /usr/local/lib/python3.10/dist-packages (from tensorboard) (1.22.4)\n",
            "Requirement already satisfied: protobuf>=3.19.6 in /usr/local/lib/python3.10/dist-packages (from tensorboard) (3.20.3)\n",
            "Requirement already satisfied: requests<3,>=2.21.0 in /usr/local/lib/python3.10/dist-packages (from tensorboard) (2.27.1)\n",
            "Requirement already satisfied: setuptools>=41.0.0 in /usr/local/lib/python3.10/dist-packages (from tensorboard) (67.7.2)\n",
            "Requirement already satisfied: tensorboard-data-server<0.8.0,>=0.7.0 in /usr/local/lib/python3.10/dist-packages (from tensorboard) (0.7.1)\n",
            "Requirement already satisfied: werkzeug>=1.0.1 in /usr/local/lib/python3.10/dist-packages (from tensorboard) (2.3.6)\n",
            "Requirement already satisfied: wheel>=0.26 in /usr/local/lib/python3.10/dist-packages (from tensorboard) (0.40.0)\n",
            "Requirement already satisfied: cachetools<6.0,>=2.0.0 in /usr/local/lib/python3.10/dist-packages (from google-auth<3,>=1.6.3->tensorboard) (5.3.1)\n",
            "Requirement already satisfied: pyasn1-modules>=0.2.1 in /usr/local/lib/python3.10/dist-packages (from google-auth<3,>=1.6.3->tensorboard) (0.3.0)\n",
            "Requirement already satisfied: six>=1.9.0 in /usr/local/lib/python3.10/dist-packages (from google-auth<3,>=1.6.3->tensorboard) (1.16.0)\n",
            "Requirement already satisfied: rsa<5,>=3.1.4 in /usr/local/lib/python3.10/dist-packages (from google-auth<3,>=1.6.3->tensorboard) (4.9)\n",
            "Requirement already satisfied: requests-oauthlib>=0.7.0 in /usr/local/lib/python3.10/dist-packages (from google-auth-oauthlib<1.1,>=0.5->tensorboard) (1.3.1)\n",
            "Requirement already satisfied: urllib3<1.27,>=1.21.1 in /usr/local/lib/python3.10/dist-packages (from requests<3,>=2.21.0->tensorboard) (1.26.16)\n",
            "Requirement already satisfied: certifi>=2017.4.17 in /usr/local/lib/python3.10/dist-packages (from requests<3,>=2.21.0->tensorboard) (2023.5.7)\n",
            "Requirement already satisfied: charset-normalizer~=2.0.0 in /usr/local/lib/python3.10/dist-packages (from requests<3,>=2.21.0->tensorboard) (2.0.12)\n",
            "Requirement already satisfied: idna<4,>=2.5 in /usr/local/lib/python3.10/dist-packages (from requests<3,>=2.21.0->tensorboard) (3.4)\n",
            "Requirement already satisfied: MarkupSafe>=2.1.1 in /usr/local/lib/python3.10/dist-packages (from werkzeug>=1.0.1->tensorboard) (2.1.3)\n",
            "Requirement already satisfied: pyasn1<0.6.0,>=0.4.6 in /usr/local/lib/python3.10/dist-packages (from pyasn1-modules>=0.2.1->google-auth<3,>=1.6.3->tensorboard) (0.5.0)\n",
            "Requirement already satisfied: oauthlib>=3.0.0 in /usr/local/lib/python3.10/dist-packages (from requests-oauthlib>=0.7.0->google-auth-oauthlib<1.1,>=0.5->tensorboard) (3.2.2)\n"
          ]
        }
      ]
    },
    {
      "cell_type": "markdown",
      "source": [
        "#0. Import libs"
      ],
      "metadata": {
        "id": "FnTQIaXvZO83"
      }
    },
    {
      "cell_type": "code",
      "source": [
        "import torch\n",
        "import torch.nn as nn\n",
        "from torch.utils.data import Dataset, DataLoader\n",
        "\n",
        "import cv2\n",
        "\n",
        "import albumentations as A\n",
        "from albumentations.pytorch import ToTensorV2\n",
        "\n",
        "import numpy as np # data processing\n",
        "import matplotlib.pyplot as plt # Data visualization\n",
        "import japanize_matplotlib\n",
        "from tqdm import tqdm # Progress bar\n"
      ],
      "metadata": {
        "id": "22kJZVeIZOQE"
      },
      "execution_count": 4,
      "outputs": []
    },
    {
      "cell_type": "code",
      "source": [
        "import os\n",
        "import pandas as pd\n",
        "import torch.nn.functional as F"
      ],
      "metadata": {
        "id": "b8qUASGkaVV-"
      },
      "execution_count": 5,
      "outputs": []
    },
    {
      "cell_type": "markdown",
      "source": [
        "#1. EDA"
      ],
      "metadata": {
        "id": "zdyvS0_EZxyA"
      }
    },
    {
      "cell_type": "code",
      "source": [],
      "metadata": {
        "id": "OUAWVUUQZVUj"
      },
      "execution_count": null,
      "outputs": []
    },
    {
      "cell_type": "markdown",
      "source": [
        "#2. Load data"
      ],
      "metadata": {
        "id": "y_PixF__Z4tT"
      }
    },
    {
      "cell_type": "markdown",
      "source": [
        "##2.1. From raw data"
      ],
      "metadata": {
        "id": "uZTcueG0a3S0"
      }
    },
    {
      "cell_type": "code",
      "source": [
        "list_characters_folders = \"./git_lfs_handwritten_hira/hira_better_quality\""
      ],
      "metadata": {
        "id": "Naa1h_ZIZ6fj"
      },
      "execution_count": 6,
      "outputs": []
    },
    {
      "cell_type": "code",
      "source": [
        "data = []\n",
        "for folder in os.listdir(list_characters_folders):\n",
        "    if folder == \".DS_Store\":\n",
        "        continue\n",
        "    character_folder = os.path.join(list_characters_folders, folder)\n",
        "\n",
        "    for character_image in os.listdir(character_folder):\n",
        "        if character_image == \".DS_Store\":\n",
        "            continue\n",
        "        character_image_path = os.path.join(character_folder, character_image)\n",
        "        data.append([character_image_path, folder])\n",
        "\n",
        "df = pd.DataFrame(data, columns=['file_name','label'])"
      ],
      "metadata": {
        "id": "TyMVdopCaJOi"
      },
      "execution_count": 7,
      "outputs": []
    },
    {
      "cell_type": "code",
      "source": [
        "df"
      ],
      "metadata": {
        "colab": {
          "base_uri": "https://localhost:8080/",
          "height": 423
        },
        "id": "KSPSoFnMaaDF",
        "outputId": "e6ae2c4d-9514-4c1f-bdee-17943bb3b211"
      },
      "execution_count": 8,
      "outputs": [
        {
          "output_type": "execute_result",
          "data": {
            "text/plain": [
              "                                              file_name label\n",
              "0     ./git_lfs_handwritten_hira/hira_better_quality...     あ\n",
              "1     ./git_lfs_handwritten_hira/hira_better_quality...     あ\n",
              "2     ./git_lfs_handwritten_hira/hira_better_quality...     あ\n",
              "3     ./git_lfs_handwritten_hira/hira_better_quality...     あ\n",
              "4     ./git_lfs_handwritten_hira/hira_better_quality...     あ\n",
              "...                                                 ...   ...\n",
              "2475  ./git_lfs_handwritten_hira/hira_better_quality...     ん\n",
              "2476  ./git_lfs_handwritten_hira/hira_better_quality...     ん\n",
              "2477  ./git_lfs_handwritten_hira/hira_better_quality...     ん\n",
              "2478  ./git_lfs_handwritten_hira/hira_better_quality...     ん\n",
              "2479  ./git_lfs_handwritten_hira/hira_better_quality...     ん\n",
              "\n",
              "[2480 rows x 2 columns]"
            ],
            "text/html": [
              "\n",
              "  <div id=\"df-1261de48-069e-4f86-94f7-70f7b2e5545b\">\n",
              "    <div class=\"colab-df-container\">\n",
              "      <div>\n",
              "<style scoped>\n",
              "    .dataframe tbody tr th:only-of-type {\n",
              "        vertical-align: middle;\n",
              "    }\n",
              "\n",
              "    .dataframe tbody tr th {\n",
              "        vertical-align: top;\n",
              "    }\n",
              "\n",
              "    .dataframe thead th {\n",
              "        text-align: right;\n",
              "    }\n",
              "</style>\n",
              "<table border=\"1\" class=\"dataframe\">\n",
              "  <thead>\n",
              "    <tr style=\"text-align: right;\">\n",
              "      <th></th>\n",
              "      <th>file_name</th>\n",
              "      <th>label</th>\n",
              "    </tr>\n",
              "  </thead>\n",
              "  <tbody>\n",
              "    <tr>\n",
              "      <th>0</th>\n",
              "      <td>./git_lfs_handwritten_hira/hira_better_quality...</td>\n",
              "      <td>あ</td>\n",
              "    </tr>\n",
              "    <tr>\n",
              "      <th>1</th>\n",
              "      <td>./git_lfs_handwritten_hira/hira_better_quality...</td>\n",
              "      <td>あ</td>\n",
              "    </tr>\n",
              "    <tr>\n",
              "      <th>2</th>\n",
              "      <td>./git_lfs_handwritten_hira/hira_better_quality...</td>\n",
              "      <td>あ</td>\n",
              "    </tr>\n",
              "    <tr>\n",
              "      <th>3</th>\n",
              "      <td>./git_lfs_handwritten_hira/hira_better_quality...</td>\n",
              "      <td>あ</td>\n",
              "    </tr>\n",
              "    <tr>\n",
              "      <th>4</th>\n",
              "      <td>./git_lfs_handwritten_hira/hira_better_quality...</td>\n",
              "      <td>あ</td>\n",
              "    </tr>\n",
              "    <tr>\n",
              "      <th>...</th>\n",
              "      <td>...</td>\n",
              "      <td>...</td>\n",
              "    </tr>\n",
              "    <tr>\n",
              "      <th>2475</th>\n",
              "      <td>./git_lfs_handwritten_hira/hira_better_quality...</td>\n",
              "      <td>ん</td>\n",
              "    </tr>\n",
              "    <tr>\n",
              "      <th>2476</th>\n",
              "      <td>./git_lfs_handwritten_hira/hira_better_quality...</td>\n",
              "      <td>ん</td>\n",
              "    </tr>\n",
              "    <tr>\n",
              "      <th>2477</th>\n",
              "      <td>./git_lfs_handwritten_hira/hira_better_quality...</td>\n",
              "      <td>ん</td>\n",
              "    </tr>\n",
              "    <tr>\n",
              "      <th>2478</th>\n",
              "      <td>./git_lfs_handwritten_hira/hira_better_quality...</td>\n",
              "      <td>ん</td>\n",
              "    </tr>\n",
              "    <tr>\n",
              "      <th>2479</th>\n",
              "      <td>./git_lfs_handwritten_hira/hira_better_quality...</td>\n",
              "      <td>ん</td>\n",
              "    </tr>\n",
              "  </tbody>\n",
              "</table>\n",
              "<p>2480 rows × 2 columns</p>\n",
              "</div>\n",
              "      <button class=\"colab-df-convert\" onclick=\"convertToInteractive('df-1261de48-069e-4f86-94f7-70f7b2e5545b')\"\n",
              "              title=\"Convert this dataframe to an interactive table.\"\n",
              "              style=\"display:none;\">\n",
              "        \n",
              "  <svg xmlns=\"http://www.w3.org/2000/svg\" height=\"24px\"viewBox=\"0 0 24 24\"\n",
              "       width=\"24px\">\n",
              "    <path d=\"M0 0h24v24H0V0z\" fill=\"none\"/>\n",
              "    <path d=\"M18.56 5.44l.94 2.06.94-2.06 2.06-.94-2.06-.94-.94-2.06-.94 2.06-2.06.94zm-11 1L8.5 8.5l.94-2.06 2.06-.94-2.06-.94L8.5 2.5l-.94 2.06-2.06.94zm10 10l.94 2.06.94-2.06 2.06-.94-2.06-.94-.94-2.06-.94 2.06-2.06.94z\"/><path d=\"M17.41 7.96l-1.37-1.37c-.4-.4-.92-.59-1.43-.59-.52 0-1.04.2-1.43.59L10.3 9.45l-7.72 7.72c-.78.78-.78 2.05 0 2.83L4 21.41c.39.39.9.59 1.41.59.51 0 1.02-.2 1.41-.59l7.78-7.78 2.81-2.81c.8-.78.8-2.07 0-2.86zM5.41 20L4 18.59l7.72-7.72 1.47 1.35L5.41 20z\"/>\n",
              "  </svg>\n",
              "      </button>\n",
              "      \n",
              "  <style>\n",
              "    .colab-df-container {\n",
              "      display:flex;\n",
              "      flex-wrap:wrap;\n",
              "      gap: 12px;\n",
              "    }\n",
              "\n",
              "    .colab-df-convert {\n",
              "      background-color: #E8F0FE;\n",
              "      border: none;\n",
              "      border-radius: 50%;\n",
              "      cursor: pointer;\n",
              "      display: none;\n",
              "      fill: #1967D2;\n",
              "      height: 32px;\n",
              "      padding: 0 0 0 0;\n",
              "      width: 32px;\n",
              "    }\n",
              "\n",
              "    .colab-df-convert:hover {\n",
              "      background-color: #E2EBFA;\n",
              "      box-shadow: 0px 1px 2px rgba(60, 64, 67, 0.3), 0px 1px 3px 1px rgba(60, 64, 67, 0.15);\n",
              "      fill: #174EA6;\n",
              "    }\n",
              "\n",
              "    [theme=dark] .colab-df-convert {\n",
              "      background-color: #3B4455;\n",
              "      fill: #D2E3FC;\n",
              "    }\n",
              "\n",
              "    [theme=dark] .colab-df-convert:hover {\n",
              "      background-color: #434B5C;\n",
              "      box-shadow: 0px 1px 3px 1px rgba(0, 0, 0, 0.15);\n",
              "      filter: drop-shadow(0px 1px 2px rgba(0, 0, 0, 0.3));\n",
              "      fill: #FFFFFF;\n",
              "    }\n",
              "  </style>\n",
              "\n",
              "      <script>\n",
              "        const buttonEl =\n",
              "          document.querySelector('#df-1261de48-069e-4f86-94f7-70f7b2e5545b button.colab-df-convert');\n",
              "        buttonEl.style.display =\n",
              "          google.colab.kernel.accessAllowed ? 'block' : 'none';\n",
              "\n",
              "        async function convertToInteractive(key) {\n",
              "          const element = document.querySelector('#df-1261de48-069e-4f86-94f7-70f7b2e5545b');\n",
              "          const dataTable =\n",
              "            await google.colab.kernel.invokeFunction('convertToInteractive',\n",
              "                                                     [key], {});\n",
              "          if (!dataTable) return;\n",
              "\n",
              "          const docLinkHtml = 'Like what you see? Visit the ' +\n",
              "            '<a target=\"_blank\" href=https://colab.research.google.com/notebooks/data_table.ipynb>data table notebook</a>'\n",
              "            + ' to learn more about interactive tables.';\n",
              "          element.innerHTML = '';\n",
              "          dataTable['output_type'] = 'display_data';\n",
              "          await google.colab.output.renderOutput(dataTable, element);\n",
              "          const docLink = document.createElement('div');\n",
              "          docLink.innerHTML = docLinkHtml;\n",
              "          element.appendChild(docLink);\n",
              "        }\n",
              "      </script>\n",
              "    </div>\n",
              "  </div>\n",
              "  "
            ]
          },
          "metadata": {},
          "execution_count": 8
        }
      ]
    },
    {
      "cell_type": "code",
      "source": [
        "sort_df = df.sort_values(by=[\"label\"])"
      ],
      "metadata": {
        "id": "p1HuuTfnacBc"
      },
      "execution_count": 9,
      "outputs": []
    },
    {
      "cell_type": "code",
      "source": [
        "sort_df"
      ],
      "metadata": {
        "colab": {
          "base_uri": "https://localhost:8080/",
          "height": 423
        },
        "id": "hfz3i-yhajey",
        "outputId": "17030d5a-b619-4d15-e526-53fd26fc91dc"
      },
      "execution_count": 10,
      "outputs": [
        {
          "output_type": "execute_result",
          "data": {
            "text/plain": [
              "                                              file_name label\n",
              "0     ./git_lfs_handwritten_hira/hira_better_quality...     あ\n",
              "29    ./git_lfs_handwritten_hira/hira_better_quality...     あ\n",
              "30    ./git_lfs_handwritten_hira/hira_better_quality...     あ\n",
              "31    ./git_lfs_handwritten_hira/hira_better_quality...     あ\n",
              "32    ./git_lfs_handwritten_hira/hira_better_quality...     あ\n",
              "...                                                 ...   ...\n",
              "2447  ./git_lfs_handwritten_hira/hira_better_quality...     ん\n",
              "2448  ./git_lfs_handwritten_hira/hira_better_quality...     ん\n",
              "2449  ./git_lfs_handwritten_hira/hira_better_quality...     ん\n",
              "2451  ./git_lfs_handwritten_hira/hira_better_quality...     ん\n",
              "2479  ./git_lfs_handwritten_hira/hira_better_quality...     ん\n",
              "\n",
              "[2480 rows x 2 columns]"
            ],
            "text/html": [
              "\n",
              "  <div id=\"df-c14b6d14-89a7-47a6-b4f2-d633ad7a0129\">\n",
              "    <div class=\"colab-df-container\">\n",
              "      <div>\n",
              "<style scoped>\n",
              "    .dataframe tbody tr th:only-of-type {\n",
              "        vertical-align: middle;\n",
              "    }\n",
              "\n",
              "    .dataframe tbody tr th {\n",
              "        vertical-align: top;\n",
              "    }\n",
              "\n",
              "    .dataframe thead th {\n",
              "        text-align: right;\n",
              "    }\n",
              "</style>\n",
              "<table border=\"1\" class=\"dataframe\">\n",
              "  <thead>\n",
              "    <tr style=\"text-align: right;\">\n",
              "      <th></th>\n",
              "      <th>file_name</th>\n",
              "      <th>label</th>\n",
              "    </tr>\n",
              "  </thead>\n",
              "  <tbody>\n",
              "    <tr>\n",
              "      <th>0</th>\n",
              "      <td>./git_lfs_handwritten_hira/hira_better_quality...</td>\n",
              "      <td>あ</td>\n",
              "    </tr>\n",
              "    <tr>\n",
              "      <th>29</th>\n",
              "      <td>./git_lfs_handwritten_hira/hira_better_quality...</td>\n",
              "      <td>あ</td>\n",
              "    </tr>\n",
              "    <tr>\n",
              "      <th>30</th>\n",
              "      <td>./git_lfs_handwritten_hira/hira_better_quality...</td>\n",
              "      <td>あ</td>\n",
              "    </tr>\n",
              "    <tr>\n",
              "      <th>31</th>\n",
              "      <td>./git_lfs_handwritten_hira/hira_better_quality...</td>\n",
              "      <td>あ</td>\n",
              "    </tr>\n",
              "    <tr>\n",
              "      <th>32</th>\n",
              "      <td>./git_lfs_handwritten_hira/hira_better_quality...</td>\n",
              "      <td>あ</td>\n",
              "    </tr>\n",
              "    <tr>\n",
              "      <th>...</th>\n",
              "      <td>...</td>\n",
              "      <td>...</td>\n",
              "    </tr>\n",
              "    <tr>\n",
              "      <th>2447</th>\n",
              "      <td>./git_lfs_handwritten_hira/hira_better_quality...</td>\n",
              "      <td>ん</td>\n",
              "    </tr>\n",
              "    <tr>\n",
              "      <th>2448</th>\n",
              "      <td>./git_lfs_handwritten_hira/hira_better_quality...</td>\n",
              "      <td>ん</td>\n",
              "    </tr>\n",
              "    <tr>\n",
              "      <th>2449</th>\n",
              "      <td>./git_lfs_handwritten_hira/hira_better_quality...</td>\n",
              "      <td>ん</td>\n",
              "    </tr>\n",
              "    <tr>\n",
              "      <th>2451</th>\n",
              "      <td>./git_lfs_handwritten_hira/hira_better_quality...</td>\n",
              "      <td>ん</td>\n",
              "    </tr>\n",
              "    <tr>\n",
              "      <th>2479</th>\n",
              "      <td>./git_lfs_handwritten_hira/hira_better_quality...</td>\n",
              "      <td>ん</td>\n",
              "    </tr>\n",
              "  </tbody>\n",
              "</table>\n",
              "<p>2480 rows × 2 columns</p>\n",
              "</div>\n",
              "      <button class=\"colab-df-convert\" onclick=\"convertToInteractive('df-c14b6d14-89a7-47a6-b4f2-d633ad7a0129')\"\n",
              "              title=\"Convert this dataframe to an interactive table.\"\n",
              "              style=\"display:none;\">\n",
              "        \n",
              "  <svg xmlns=\"http://www.w3.org/2000/svg\" height=\"24px\"viewBox=\"0 0 24 24\"\n",
              "       width=\"24px\">\n",
              "    <path d=\"M0 0h24v24H0V0z\" fill=\"none\"/>\n",
              "    <path d=\"M18.56 5.44l.94 2.06.94-2.06 2.06-.94-2.06-.94-.94-2.06-.94 2.06-2.06.94zm-11 1L8.5 8.5l.94-2.06 2.06-.94-2.06-.94L8.5 2.5l-.94 2.06-2.06.94zm10 10l.94 2.06.94-2.06 2.06-.94-2.06-.94-.94-2.06-.94 2.06-2.06.94z\"/><path d=\"M17.41 7.96l-1.37-1.37c-.4-.4-.92-.59-1.43-.59-.52 0-1.04.2-1.43.59L10.3 9.45l-7.72 7.72c-.78.78-.78 2.05 0 2.83L4 21.41c.39.39.9.59 1.41.59.51 0 1.02-.2 1.41-.59l7.78-7.78 2.81-2.81c.8-.78.8-2.07 0-2.86zM5.41 20L4 18.59l7.72-7.72 1.47 1.35L5.41 20z\"/>\n",
              "  </svg>\n",
              "      </button>\n",
              "      \n",
              "  <style>\n",
              "    .colab-df-container {\n",
              "      display:flex;\n",
              "      flex-wrap:wrap;\n",
              "      gap: 12px;\n",
              "    }\n",
              "\n",
              "    .colab-df-convert {\n",
              "      background-color: #E8F0FE;\n",
              "      border: none;\n",
              "      border-radius: 50%;\n",
              "      cursor: pointer;\n",
              "      display: none;\n",
              "      fill: #1967D2;\n",
              "      height: 32px;\n",
              "      padding: 0 0 0 0;\n",
              "      width: 32px;\n",
              "    }\n",
              "\n",
              "    .colab-df-convert:hover {\n",
              "      background-color: #E2EBFA;\n",
              "      box-shadow: 0px 1px 2px rgba(60, 64, 67, 0.3), 0px 1px 3px 1px rgba(60, 64, 67, 0.15);\n",
              "      fill: #174EA6;\n",
              "    }\n",
              "\n",
              "    [theme=dark] .colab-df-convert {\n",
              "      background-color: #3B4455;\n",
              "      fill: #D2E3FC;\n",
              "    }\n",
              "\n",
              "    [theme=dark] .colab-df-convert:hover {\n",
              "      background-color: #434B5C;\n",
              "      box-shadow: 0px 1px 3px 1px rgba(0, 0, 0, 0.15);\n",
              "      filter: drop-shadow(0px 1px 2px rgba(0, 0, 0, 0.3));\n",
              "      fill: #FFFFFF;\n",
              "    }\n",
              "  </style>\n",
              "\n",
              "      <script>\n",
              "        const buttonEl =\n",
              "          document.querySelector('#df-c14b6d14-89a7-47a6-b4f2-d633ad7a0129 button.colab-df-convert');\n",
              "        buttonEl.style.display =\n",
              "          google.colab.kernel.accessAllowed ? 'block' : 'none';\n",
              "\n",
              "        async function convertToInteractive(key) {\n",
              "          const element = document.querySelector('#df-c14b6d14-89a7-47a6-b4f2-d633ad7a0129');\n",
              "          const dataTable =\n",
              "            await google.colab.kernel.invokeFunction('convertToInteractive',\n",
              "                                                     [key], {});\n",
              "          if (!dataTable) return;\n",
              "\n",
              "          const docLinkHtml = 'Like what you see? Visit the ' +\n",
              "            '<a target=\"_blank\" href=https://colab.research.google.com/notebooks/data_table.ipynb>data table notebook</a>'\n",
              "            + ' to learn more about interactive tables.';\n",
              "          element.innerHTML = '';\n",
              "          dataTable['output_type'] = 'display_data';\n",
              "          await google.colab.output.renderOutput(dataTable, element);\n",
              "          const docLink = document.createElement('div');\n",
              "          docLink.innerHTML = docLinkHtml;\n",
              "          element.appendChild(docLink);\n",
              "        }\n",
              "      </script>\n",
              "    </div>\n",
              "  </div>\n",
              "  "
            ]
          },
          "metadata": {},
          "execution_count": 10
        }
      ]
    },
    {
      "cell_type": "code",
      "source": [
        "labels = sort_df[\"label\"].unique()\n",
        "print(labels)"
      ],
      "metadata": {
        "colab": {
          "base_uri": "https://localhost:8080/"
        },
        "id": "0ItI9bnoalLK",
        "outputId": "b9acf10e-27d9-42ac-fbb3-4c3010c71096"
      },
      "execution_count": 11,
      "outputs": [
        {
          "output_type": "stream",
          "name": "stdout",
          "text": [
            "['あ' 'い' 'う' 'え' 'お' 'か' 'き' 'く' 'け' 'こ' 'さ' 'し' 'す' 'せ' 'そ' 'た' 'ち' 'つ'\n",
            " 'て' 'と' 'な' 'に' 'ぬ' 'ね' 'の' 'は' 'ひ' 'ふ' 'へ' 'ほ' 'ま' 'み' 'む' 'め' 'も' 'や'\n",
            " 'ゆ' 'よ' 'ら' 'り' 'る' 'れ' 'ろ' 'わ' 'を' 'ん']\n"
          ]
        }
      ]
    },
    {
      "cell_type": "markdown",
      "source": [
        "Convert labels to one-hot vectors labels"
      ],
      "metadata": {
        "id": "AEw1bH-uTi8W"
      }
    },
    {
      "cell_type": "code",
      "source": [
        "from sklearn.preprocessing import LabelEncoder, OneHotEncoder"
      ],
      "metadata": {
        "id": "4nnl1q1_Tq3V"
      },
      "execution_count": 12,
      "outputs": []
    },
    {
      "cell_type": "code",
      "source": [
        "# Convert labels to numeric representation\n",
        "def convert_to_one_hot_vector_labels(labels):\n",
        "  label_encoder = LabelEncoder()\n",
        "  numeric_labels = label_encoder.fit_transform(labels)\n",
        "  # print(\"Numeric labels:\", numeric_labels)\n",
        "\n",
        "  # Convert numeric labels to one-hot vectors\n",
        "  onehot_encoder = OneHotEncoder(sparse=False)\n",
        "  onehot_labels = onehot_encoder.fit_transform(numeric_labels.reshape(-1, 1))\n",
        "\n",
        "  return onehot_labels"
      ],
      "metadata": {
        "id": "q3Sm8oHyT8Ij"
      },
      "execution_count": 13,
      "outputs": []
    },
    {
      "cell_type": "markdown",
      "source": [
        "##2.2. Split data"
      ],
      "metadata": {
        "id": "XgR2PbjNa_cA"
      }
    },
    {
      "cell_type": "code",
      "source": [
        "from sklearn.model_selection import train_test_split\n",
        "\n",
        "train_df, test_df = train_test_split(sort_df,\n",
        "                                      test_size = 0.2,\n",
        "                                      random_state = 42)"
      ],
      "metadata": {
        "id": "3cSmCNY8atSB"
      },
      "execution_count": 14,
      "outputs": []
    },
    {
      "cell_type": "code",
      "source": [
        "len(train_df)"
      ],
      "metadata": {
        "colab": {
          "base_uri": "https://localhost:8080/"
        },
        "id": "qwOGg1lneiUc",
        "outputId": "946b413e-55f2-43c8-d1f5-3e86a590f93a"
      },
      "execution_count": 15,
      "outputs": [
        {
          "output_type": "execute_result",
          "data": {
            "text/plain": [
              "1984"
            ]
          },
          "metadata": {},
          "execution_count": 15
        }
      ]
    },
    {
      "cell_type": "code",
      "source": [
        "len(test_df)"
      ],
      "metadata": {
        "colab": {
          "base_uri": "https://localhost:8080/"
        },
        "id": "fQvQIo1felNj",
        "outputId": "4b3cfbfe-2b5e-4414-a4f1-3b93c873b3e5"
      },
      "execution_count": 17,
      "outputs": [
        {
          "output_type": "execute_result",
          "data": {
            "text/plain": [
              "496"
            ]
          },
          "metadata": {},
          "execution_count": 17
        }
      ]
    },
    {
      "cell_type": "markdown",
      "source": [
        "##2.3. Dataset and Dataloader"
      ],
      "metadata": {
        "id": "qSSogY_lfTJI"
      }
    },
    {
      "cell_type": "code",
      "source": [
        "from types import SimpleNamespace\n",
        "\n",
        "cfg = SimpleNamespace(**{})"
      ],
      "metadata": {
        "id": "awVBHGogenID"
      },
      "execution_count": 18,
      "outputs": []
    },
    {
      "cell_type": "code",
      "source": [
        "cfg.root_dir = list_characters_folders\n",
        "cfg.image_size = 224\n",
        "cfg.batch_size = 32\n",
        "cfg.device = torch.device(\"cuda:0\" if torch.cuda.is_available() else \"cpu\")"
      ],
      "metadata": {
        "id": "uW_hiQrPfiv9"
      },
      "execution_count": 19,
      "outputs": []
    },
    {
      "cell_type": "code",
      "source": [
        "class CustomDataset(Dataset):\n",
        "    def __init__(self,\n",
        "                 cfg,\n",
        "                 df,\n",
        "                 transform=None,\n",
        "                  mode = None):\n",
        "        self.root_dir = cfg.root_dir\n",
        "        self.df = df\n",
        "        self.file_names = df['file_name'].values\n",
        "        self.labels = convert_to_one_hot_vector_labels(df['label'].values)\n",
        "\n",
        "        if transform and mode != \"val\":\n",
        "          self.transform = transform\n",
        "        elif mode == \"train\":\n",
        "          self.transform = A.Compose([A.Resize(cfg.image_size, cfg.image_size),\n",
        "                             A.Rotate(p=0.6, limit=[-20,20]),\n",
        "                            #  A.HorizontalFlip(p = 0.6),\n",
        "                             A.CoarseDropout(max_holes = 1, max_height = 32, max_width = 32, p = 0.3),\n",
        "                             ToTensorV2()])\n",
        "        elif mode == \"val\":\n",
        "          self.transform = A.Compose([A.Resize(cfg.image_size, cfg.image_size),\n",
        "                             ToTensorV2()])\n",
        "\n",
        "    def __len__(self):\n",
        "        return len(self.df)\n",
        "\n",
        "    def __getitem__(self, idx):\n",
        "        # Get file_path and label for index\n",
        "        label = self.labels[idx]\n",
        "        file_path = self.file_names[idx]\n",
        "        # file_path = os.path.join(self.root_dir, self.file_names[idx])\n",
        "\n",
        "        # Read an image with OpenCV\n",
        "        image = cv2.imread(file_path)\n",
        "\n",
        "        # Convert the image to RGB color space.\n",
        "        image = cv2.cvtColor(image, cv2.COLOR_BGR2RGB)\n",
        "        # Apply augmentations\n",
        "        augmented = self.transform(image=image)\n",
        "        image = augmented['image']\n",
        "\n",
        "        # Normalize because ToTensorV2() doesn't normalize the image\n",
        "        image = image/255\n",
        "\n",
        "        return image, label"
      ],
      "metadata": {
        "id": "e4OD1MH0fo9U"
      },
      "execution_count": 20,
      "outputs": []
    },
    {
      "cell_type": "code",
      "source": [
        "train_dataset = CustomDataset(cfg, train_df, mode = \"train\")\n",
        "valid_dataset = CustomDataset(cfg, test_df, mode = \"val\")\n",
        "\n",
        "train_dataloader = DataLoader(train_dataset,\n",
        "                          batch_size = cfg.batch_size,\n",
        "                          shuffle = True)\n",
        "\n",
        "valid_dataloader = DataLoader(valid_dataset,\n",
        "                          batch_size = cfg.batch_size,\n",
        "                          shuffle = False,\n",
        "                              )"
      ],
      "metadata": {
        "colab": {
          "base_uri": "https://localhost:8080/"
        },
        "id": "LkHxKogZgsi8",
        "outputId": "68082125-8b57-445c-eea5-615c2b9f2b87"
      },
      "execution_count": 21,
      "outputs": [
        {
          "output_type": "stream",
          "name": "stderr",
          "text": [
            "/usr/local/lib/python3.10/dist-packages/sklearn/preprocessing/_encoders.py:868: FutureWarning: `sparse` was renamed to `sparse_output` in version 1.2 and will be removed in 1.4. `sparse_output` is ignored unless you leave `sparse` to its default value.\n",
            "  warnings.warn(\n",
            "/usr/local/lib/python3.10/dist-packages/sklearn/preprocessing/_encoders.py:868: FutureWarning: `sparse` was renamed to `sparse_output` in version 1.2 and will be removed in 1.4. `sparse_output` is ignored unless you leave `sparse` to its default value.\n",
            "  warnings.warn(\n"
          ]
        }
      ]
    },
    {
      "cell_type": "markdown",
      "source": [
        "#3. Model"
      ],
      "metadata": {
        "id": "GCOsCESgkBAX"
      }
    },
    {
      "cell_type": "code",
      "source": [
        "import timm\n",
        "\n",
        "cfg.n_classes = len(labels)\n",
        "cfg.backbone = 'resnet18'\n",
        "\n",
        "model = timm.create_model(cfg.backbone,\n",
        "                          pretrained = False,\n",
        "                          num_classes = cfg.n_classes)"
      ],
      "metadata": {
        "id": "cZ5Gthh_jgMZ"
      },
      "execution_count": 22,
      "outputs": []
    },
    {
      "cell_type": "code",
      "source": [
        "model = model.to(cfg.device)"
      ],
      "metadata": {
        "id": "c93IxoTDseuP"
      },
      "execution_count": 23,
      "outputs": []
    },
    {
      "cell_type": "code",
      "source": [
        "X = torch.randn(cfg.batch_size, 3, cfg.image_size, cfg.image_size)\n",
        "y = model(X)"
      ],
      "metadata": {
        "id": "iPRQHBxfsgKJ"
      },
      "execution_count": null,
      "outputs": []
    },
    {
      "cell_type": "code",
      "source": [
        "cfg.image_size"
      ],
      "metadata": {
        "colab": {
          "base_uri": "https://localhost:8080/"
        },
        "id": "KSuNGTqPV9kN",
        "outputId": "df605092-f921-4c00-c7cc-16da5c258256"
      },
      "execution_count": null,
      "outputs": [
        {
          "output_type": "execute_result",
          "data": {
            "text/plain": [
              "224"
            ]
          },
          "metadata": {},
          "execution_count": 64
        }
      ]
    },
    {
      "cell_type": "code",
      "source": [
        "y.shape"
      ],
      "metadata": {
        "colab": {
          "base_uri": "https://localhost:8080/"
        },
        "id": "bgHYmKCjstTl",
        "outputId": "85d8dab8-9d9e-4510-d63c-52dfe9b19a4a"
      },
      "execution_count": null,
      "outputs": [
        {
          "output_type": "execute_result",
          "data": {
            "text/plain": [
              "torch.Size([32, 46])"
            ]
          },
          "metadata": {},
          "execution_count": 52
        }
      ]
    },
    {
      "cell_type": "markdown",
      "source": [
        "#4. Loss function, Optimizer, learning rate scheduler, measure metrics"
      ],
      "metadata": {
        "id": "vgY8thN4tFrU"
      }
    },
    {
      "cell_type": "code",
      "source": [
        "criterion = nn.CrossEntropyLoss()"
      ],
      "metadata": {
        "id": "3StamEoWsvMG"
      },
      "execution_count": 24,
      "outputs": []
    },
    {
      "cell_type": "code",
      "source": [
        "cfg.learning_rate = 1e-3\n",
        "\n",
        "optimizer = torch.optim.Adam(\n",
        "  model.parameters(),\n",
        "  lr = cfg.learning_rate,\n",
        "  weight_decay = 0,\n",
        " )"
      ],
      "metadata": {
        "id": "vU46p2h4tbpo"
      },
      "execution_count": 25,
      "outputs": []
    },
    {
      "cell_type": "code",
      "source": [
        "cfg.lr_min = 1e-5\n",
        "cfg.epochs = 50\n",
        "\n",
        "scheduler = torch.optim.lr_scheduler.CosineAnnealingLR(\n",
        "  optimizer,\n",
        "  T_max = np.ceil(len(train_dataloader.dataset) / cfg.batch_size) * cfg.epochs,\n",
        "  eta_min = cfg.lr_min\n",
        ")"
      ],
      "metadata": {
        "id": "uUdKdnnDtdQh"
      },
      "execution_count": 26,
      "outputs": []
    },
    {
      "cell_type": "code",
      "source": [
        "from sklearn.metrics import accuracy_score\n",
        "\n",
        "def calculate_metric(y, y_pred):\n",
        "  metric = accuracy_score(y, y_pred)\n",
        "  return metric"
      ],
      "metadata": {
        "id": "MgLVbXPxtet4"
      },
      "execution_count": 27,
      "outputs": []
    },
    {
      "cell_type": "markdown",
      "source": [
        "#5. Set up tensor board"
      ],
      "metadata": {
        "id": "N7Qv3eSeFxMb"
      }
    },
    {
      "cell_type": "code",
      "source": [
        "from torch.utils.tensorboard import SummaryWriter"
      ],
      "metadata": {
        "id": "EZzEDcOhFzb3"
      },
      "execution_count": 28,
      "outputs": []
    },
    {
      "cell_type": "code",
      "source": [
        "import datetime"
      ],
      "metadata": {
        "id": "T7UxUkZBHiVb"
      },
      "execution_count": 29,
      "outputs": []
    },
    {
      "cell_type": "code",
      "source": [
        "log_dir = \"logs/fit/resnet18/\" + datetime.datetime.now().strftime(\"%Y%m%d-%H%M%S\")"
      ],
      "metadata": {
        "id": "WXigaOhOHqWL"
      },
      "execution_count": 30,
      "outputs": []
    },
    {
      "cell_type": "code",
      "source": [
        "log_dir"
      ],
      "metadata": {
        "colab": {
          "base_uri": "https://localhost:8080/",
          "height": 36
        },
        "id": "xbqFL-0XHxkY",
        "outputId": "22d24e1f-baaa-4f31-9540-25e69062537f"
      },
      "execution_count": 31,
      "outputs": [
        {
          "output_type": "execute_result",
          "data": {
            "text/plain": [
              "'logs/fit/resnet18/20230712-082204'"
            ],
            "application/vnd.google.colaboratory.intrinsic+json": {
              "type": "string"
            }
          },
          "metadata": {},
          "execution_count": 31
        }
      ]
    },
    {
      "cell_type": "code",
      "source": [
        "writer = SummaryWriter(log_dir = log_dir)"
      ],
      "metadata": {
        "id": "RRKT-ST9HP0H"
      },
      "execution_count": 32,
      "outputs": []
    },
    {
      "cell_type": "markdown",
      "source": [
        "#5. Training pipeline"
      ],
      "metadata": {
        "id": "kzqNNkXf4y_y"
      }
    },
    {
      "cell_type": "code",
      "source": [
        "cfg.device"
      ],
      "metadata": {
        "colab": {
          "base_uri": "https://localhost:8080/"
        },
        "id": "3HEXaboDSb8G",
        "outputId": "cbb23562-d970-40cb-c952-ff08d6d4b5c3"
      },
      "execution_count": null,
      "outputs": [
        {
          "output_type": "execute_result",
          "data": {
            "text/plain": [
              "device(type='cuda', index=0)"
            ]
          },
          "metadata": {},
          "execution_count": 58
        }
      ]
    },
    {
      "cell_type": "code",
      "source": [
        "def train_one_epoch(dataloader, model, optimizer, scheduler, cfg):\n",
        "    # Training mode\n",
        "    model.train()\n",
        "\n",
        "    # Init lists to store y and y_pred\n",
        "    final_y = []\n",
        "    final_y_pred = []\n",
        "    final_loss = []\n",
        "\n",
        "    # Iterate over data\n",
        "    for step, batch in tqdm(enumerate(dataloader), total=len(dataloader)):\n",
        "        X = batch[0].to(cfg.device)\n",
        "        y = batch[1].to(cfg.device)\n",
        "\n",
        "        # Zero the parameter gradients\n",
        "        optimizer.zero_grad()\n",
        "\n",
        "        with torch.set_grad_enabled(True):\n",
        "            # Forward: Get model outputs\n",
        "            y_pred = model(X)\n",
        "\n",
        "            # Forward: Calculate loss\n",
        "            loss = criterion(y_pred, y)\n",
        "\n",
        "            # Covert y and y_pred to lists\n",
        "            final_loss.append(loss.item())\n",
        "\n",
        "            # Backward: Optimize\n",
        "            loss.backward()\n",
        "            optimizer.step()\n",
        "\n",
        "        scheduler.step()\n",
        "\n",
        "    # Calculate statistics\n",
        "    loss = np.mean(final_loss)\n",
        "\n",
        "    return loss"
      ],
      "metadata": {
        "id": "_T4PeCnf5IYl"
      },
      "execution_count": 33,
      "outputs": []
    },
    {
      "cell_type": "code",
      "source": [
        "def validate_one_epoch(dataloader, model, cfg):\n",
        "    # Validation mode\n",
        "    model.eval()\n",
        "\n",
        "    final_y = []\n",
        "    final_y_pred = []\n",
        "    final_loss = []\n",
        "\n",
        "    # Iterate over data\n",
        "    for step, batch in tqdm(enumerate(dataloader), total=len(dataloader)):\n",
        "        X = batch[0].to(cfg.device)\n",
        "        y = batch[1].to(cfg.device)\n",
        "\n",
        "        with torch.no_grad():\n",
        "            # Forward: Get model outputs\n",
        "            y_pred = model(X)\n",
        "\n",
        "            # Forward: Calculate loss\n",
        "            loss = criterion(y_pred, y)\n",
        "\n",
        "            # Covert y and y_pred to lists\n",
        "            y =  y.detach().cpu().numpy().tolist()\n",
        "            y_pred =  y_pred.detach().cpu().numpy().tolist()\n",
        "\n",
        "            # Extend original list\n",
        "            final_y.extend(y)\n",
        "            final_y_pred.extend(y_pred)\n",
        "            final_loss.append(loss.item())\n",
        "\n",
        "    # Calculate statistics\n",
        "    loss = np.mean(final_loss)\n",
        "    final_y_pred = np.argmax(final_y_pred, axis=1)\n",
        "    final_y_argmax = np.argmax(final_y, axis = 1)\n",
        "    metric = calculate_metric(final_y_argmax, final_y_pred)\n",
        "\n",
        "    return metric, loss"
      ],
      "metadata": {
        "id": "k7cQy-5l5NAN"
      },
      "execution_count": 34,
      "outputs": []
    },
    {
      "cell_type": "markdown",
      "source": [
        "#6. Train"
      ],
      "metadata": {
        "id": "gCFLJt556xMO"
      }
    },
    {
      "cell_type": "code",
      "source": [
        "import random\n",
        "\n",
        "def set_seed(seed=1234):\n",
        "    random.seed(seed)\n",
        "    os.environ[\"PYTHONHASHSEED\"] = str(seed)\n",
        "    np.random.seed(seed)\n",
        "\n",
        "    # In general seed PyTorch operations\n",
        "    torch.manual_seed(seed)\n",
        "\n",
        "    # If you are using CUDA on 1 GPU, seed it\n",
        "    torch.cuda.manual_seed(seed)\n",
        "\n",
        "    # If you are using CUDA on more than 1 GPU, seed them all\n",
        "    torch.cuda.manual_seed_all(cfg.seed)\n",
        "\n",
        "    # Certain operations in Cudnn are not deterministic, and this line will force them to behave!\n",
        "    torch.backends.cudnn.deterministic = True\n",
        "\n",
        "    # Disable the inbuilt cudnn auto-tuner that finds the best algorithm to use for your hardware.\n",
        "    torch.backends.cudnn.benchmark = False"
      ],
      "metadata": {
        "id": "UShpeX4D66HB"
      },
      "execution_count": 35,
      "outputs": []
    },
    {
      "cell_type": "code",
      "source": [
        "cfg.seed = 42\n",
        "\n",
        "def train(model, optimizer, scheduler, cfg, train_dataloader, valid_dataloader = None, patience = 10, writer = None):\n",
        "    loss_list = []\n",
        "    val_acc_list = []\n",
        "    val_loss_list = []\n",
        "\n",
        "    best_val_loss = float('inf')\n",
        "    early_stopping_counter = 0\n",
        "\n",
        "    for epoch in range(cfg.epochs):\n",
        "        print(f\"Epoch {epoch + 1}/{cfg.epochs}\")\n",
        "\n",
        "        set_seed(cfg.seed + epoch)\n",
        "\n",
        "        loss = train_one_epoch(train_dataloader, model, optimizer, scheduler, cfg)\n",
        "\n",
        "        val_acc, val_loss = validate_one_epoch(valid_dataloader, model, cfg)\n",
        "        if val_loss < best_val_loss:\n",
        "          best_val_loss = val_loss\n",
        "          early_stopping_counter = 0\n",
        "          print(\"Saving model...\")\n",
        "          torch.save(model.state_dict(), \"best_model.pt\")\n",
        "        else:\n",
        "          early_stopping_counter += 1\n",
        "\n",
        "        if early_stopping_counter >= patience:\n",
        "          print(\"Early stopping triggered.\")\n",
        "          break\n",
        "\n",
        "        print(f'Loss: {loss:.4f}')\n",
        "        loss_list.append(loss)\n",
        "\n",
        "        print(f'Val Loss: {val_loss:.4f} Val Acc: {val_acc:.4f}')\n",
        "        val_acc_list.append(val_acc)\n",
        "        val_loss_list.append(val_loss)\n",
        "\n",
        "        writer.add_scalar(\"Training loss\", loss, epoch)\n",
        "        writer.add_scalar(\"Validation loss\", val_loss, epoch)\n",
        "        writer.add_scalar(\"Valication accuracy\", val_acc, epoch)\n",
        "    model.load_state_dict(torch.load(\"best_model.pt\"))\n",
        "    writer.flush()\n",
        "    writer.close()\n",
        "\n",
        "    return model, loss_list, val_acc_list, val_loss_list"
      ],
      "metadata": {
        "id": "d5cd23kY6Zyr"
      },
      "execution_count": 39,
      "outputs": []
    },
    {
      "cell_type": "code",
      "source": [
        "model, loss, val_acc, val_loss = train(model, optimizer, scheduler, cfg, train_dataloader, valid_dataloader, 10, writer)"
      ],
      "metadata": {
        "colab": {
          "base_uri": "https://localhost:8080/"
        },
        "id": "4Wjpq1dq77YB",
        "outputId": "a73dce43-1e63-4664-b520-523cf5b3ff09"
      },
      "execution_count": 42,
      "outputs": [
        {
          "output_type": "stream",
          "name": "stdout",
          "text": [
            "Epoch 1/50\n"
          ]
        },
        {
          "output_type": "stream",
          "name": "stderr",
          "text": [
            "100%|██████████| 62/62 [00:07<00:00,  7.99it/s]\n",
            "100%|██████████| 16/16 [00:01<00:00,  9.02it/s]\n"
          ]
        },
        {
          "output_type": "stream",
          "name": "stdout",
          "text": [
            "Saving model...\n",
            "Loss: 3.7614\n",
            "Val Loss: 5.1285 Val Acc: 0.0181\n",
            "Epoch 2/50\n"
          ]
        },
        {
          "output_type": "stream",
          "name": "stderr",
          "text": [
            "100%|██████████| 62/62 [00:07<00:00,  8.15it/s]\n",
            "100%|██████████| 16/16 [00:01<00:00, 10.07it/s]\n"
          ]
        },
        {
          "output_type": "stream",
          "name": "stdout",
          "text": [
            "Saving model...\n",
            "Loss: 3.4906\n",
            "Val Loss: 3.3874 Val Acc: 0.0746\n",
            "Epoch 3/50\n"
          ]
        },
        {
          "output_type": "stream",
          "name": "stderr",
          "text": [
            "100%|██████████| 62/62 [00:07<00:00,  7.85it/s]\n",
            "100%|██████████| 16/16 [00:01<00:00,  9.97it/s]\n"
          ]
        },
        {
          "output_type": "stream",
          "name": "stdout",
          "text": [
            "Loss: 3.1534\n",
            "Val Loss: 3.8187 Val Acc: 0.0222\n",
            "Epoch 4/50\n"
          ]
        },
        {
          "output_type": "stream",
          "name": "stderr",
          "text": [
            "100%|██████████| 62/62 [00:07<00:00,  7.91it/s]\n",
            "100%|██████████| 16/16 [00:01<00:00, 10.10it/s]\n"
          ]
        },
        {
          "output_type": "stream",
          "name": "stdout",
          "text": [
            "Loss: 2.6914\n",
            "Val Loss: 4.7940 Val Acc: 0.0726\n",
            "Epoch 5/50\n"
          ]
        },
        {
          "output_type": "stream",
          "name": "stderr",
          "text": [
            "100%|██████████| 62/62 [00:08<00:00,  7.17it/s]\n",
            "100%|██████████| 16/16 [00:01<00:00,  9.47it/s]\n"
          ]
        },
        {
          "output_type": "stream",
          "name": "stdout",
          "text": [
            "Loss: 2.1673\n",
            "Val Loss: 4.0951 Val Acc: 0.1270\n",
            "Epoch 6/50\n"
          ]
        },
        {
          "output_type": "stream",
          "name": "stderr",
          "text": [
            "100%|██████████| 62/62 [00:07<00:00,  8.29it/s]\n",
            "100%|██████████| 16/16 [00:01<00:00, 10.12it/s]\n"
          ]
        },
        {
          "output_type": "stream",
          "name": "stdout",
          "text": [
            "Saving model...\n",
            "Loss: 1.5404\n",
            "Val Loss: 1.8850 Val Acc: 0.4516\n",
            "Epoch 7/50\n"
          ]
        },
        {
          "output_type": "stream",
          "name": "stderr",
          "text": [
            "100%|██████████| 62/62 [00:08<00:00,  7.07it/s]\n",
            "100%|██████████| 16/16 [00:01<00:00,  9.79it/s]\n"
          ]
        },
        {
          "output_type": "stream",
          "name": "stdout",
          "text": [
            "Saving model...\n",
            "Loss: 1.0126\n",
            "Val Loss: 1.4554 Val Acc: 0.5726\n",
            "Epoch 8/50\n"
          ]
        },
        {
          "output_type": "stream",
          "name": "stderr",
          "text": [
            "100%|██████████| 62/62 [00:07<00:00,  7.84it/s]\n",
            "100%|██████████| 16/16 [00:01<00:00,  9.59it/s]\n"
          ]
        },
        {
          "output_type": "stream",
          "name": "stdout",
          "text": [
            "Loss: 0.7062\n",
            "Val Loss: 23.4626 Val Acc: 0.3690\n",
            "Epoch 9/50\n"
          ]
        },
        {
          "output_type": "stream",
          "name": "stderr",
          "text": [
            "100%|██████████| 62/62 [00:07<00:00,  8.01it/s]\n",
            "100%|██████████| 16/16 [00:01<00:00,  8.97it/s]\n"
          ]
        },
        {
          "output_type": "stream",
          "name": "stdout",
          "text": [
            "Loss: 0.4987\n",
            "Val Loss: 3.8943 Val Acc: 0.4435\n",
            "Epoch 10/50\n"
          ]
        },
        {
          "output_type": "stream",
          "name": "stderr",
          "text": [
            "100%|██████████| 62/62 [00:07<00:00,  8.02it/s]\n",
            "100%|██████████| 16/16 [00:01<00:00,  9.38it/s]\n"
          ]
        },
        {
          "output_type": "stream",
          "name": "stdout",
          "text": [
            "Saving model...\n",
            "Loss: 0.3767\n",
            "Val Loss: 0.4883 Val Acc: 0.8690\n",
            "Epoch 11/50\n"
          ]
        },
        {
          "output_type": "stream",
          "name": "stderr",
          "text": [
            "100%|██████████| 62/62 [00:07<00:00,  7.89it/s]\n",
            "100%|██████████| 16/16 [00:01<00:00, 10.31it/s]\n"
          ]
        },
        {
          "output_type": "stream",
          "name": "stdout",
          "text": [
            "Loss: 0.2499\n",
            "Val Loss: 5.0979 Val Acc: 0.4536\n",
            "Epoch 12/50\n"
          ]
        },
        {
          "output_type": "stream",
          "name": "stderr",
          "text": [
            "100%|██████████| 62/62 [00:07<00:00,  7.89it/s]\n",
            "100%|██████████| 16/16 [00:01<00:00, 10.03it/s]\n"
          ]
        },
        {
          "output_type": "stream",
          "name": "stdout",
          "text": [
            "Saving model...\n",
            "Loss: 0.2012\n",
            "Val Loss: 0.4074 Val Acc: 0.8851\n",
            "Epoch 13/50\n"
          ]
        },
        {
          "output_type": "stream",
          "name": "stderr",
          "text": [
            "100%|██████████| 62/62 [00:07<00:00,  7.96it/s]\n",
            "100%|██████████| 16/16 [00:01<00:00,  9.31it/s]\n"
          ]
        },
        {
          "output_type": "stream",
          "name": "stdout",
          "text": [
            "Loss: 0.2059\n",
            "Val Loss: 2.7425 Val Acc: 0.4980\n",
            "Epoch 14/50\n"
          ]
        },
        {
          "output_type": "stream",
          "name": "stderr",
          "text": [
            "100%|██████████| 62/62 [00:07<00:00,  8.29it/s]\n",
            "100%|██████████| 16/16 [00:01<00:00, 10.33it/s]\n"
          ]
        },
        {
          "output_type": "stream",
          "name": "stdout",
          "text": [
            "Loss: 0.1687\n",
            "Val Loss: 0.4723 Val Acc: 0.8649\n",
            "Epoch 15/50\n"
          ]
        },
        {
          "output_type": "stream",
          "name": "stderr",
          "text": [
            "100%|██████████| 62/62 [00:07<00:00,  7.94it/s]\n",
            "100%|██████████| 16/16 [00:01<00:00, 10.04it/s]\n"
          ]
        },
        {
          "output_type": "stream",
          "name": "stdout",
          "text": [
            "Saving model...\n",
            "Loss: 0.1282\n",
            "Val Loss: 0.1946 Val Acc: 0.9476\n",
            "Epoch 16/50\n"
          ]
        },
        {
          "output_type": "stream",
          "name": "stderr",
          "text": [
            "100%|██████████| 62/62 [00:07<00:00,  7.91it/s]\n",
            "100%|██████████| 16/16 [00:01<00:00,  9.88it/s]\n"
          ]
        },
        {
          "output_type": "stream",
          "name": "stdout",
          "text": [
            "Loss: 0.1176\n",
            "Val Loss: 0.2192 Val Acc: 0.9435\n",
            "Epoch 17/50\n"
          ]
        },
        {
          "output_type": "stream",
          "name": "stderr",
          "text": [
            "100%|██████████| 62/62 [00:07<00:00,  8.16it/s]\n",
            "100%|██████████| 16/16 [00:01<00:00,  9.53it/s]\n"
          ]
        },
        {
          "output_type": "stream",
          "name": "stdout",
          "text": [
            "Loss: 0.0814\n",
            "Val Loss: 0.5665 Val Acc: 0.8387\n",
            "Epoch 18/50\n"
          ]
        },
        {
          "output_type": "stream",
          "name": "stderr",
          "text": [
            "100%|██████████| 62/62 [00:07<00:00,  8.05it/s]\n",
            "100%|██████████| 16/16 [00:01<00:00,  9.77it/s]\n"
          ]
        },
        {
          "output_type": "stream",
          "name": "stdout",
          "text": [
            "Saving model...\n",
            "Loss: 0.0924\n",
            "Val Loss: 0.1916 Val Acc: 0.9617\n",
            "Epoch 19/50\n"
          ]
        },
        {
          "output_type": "stream",
          "name": "stderr",
          "text": [
            "100%|██████████| 62/62 [00:07<00:00,  7.83it/s]\n",
            "100%|██████████| 16/16 [00:01<00:00,  9.54it/s]\n"
          ]
        },
        {
          "output_type": "stream",
          "name": "stdout",
          "text": [
            "Loss: 0.0799\n",
            "Val Loss: 0.3972 Val Acc: 0.8871\n",
            "Epoch 20/50\n"
          ]
        },
        {
          "output_type": "stream",
          "name": "stderr",
          "text": [
            "100%|██████████| 62/62 [00:07<00:00,  7.88it/s]\n",
            "100%|██████████| 16/16 [00:01<00:00,  9.84it/s]\n"
          ]
        },
        {
          "output_type": "stream",
          "name": "stdout",
          "text": [
            "Saving model...\n",
            "Loss: 0.0676\n",
            "Val Loss: 0.1095 Val Acc: 0.9738\n",
            "Epoch 21/50\n"
          ]
        },
        {
          "output_type": "stream",
          "name": "stderr",
          "text": [
            "100%|██████████| 62/62 [00:07<00:00,  8.15it/s]\n",
            "100%|██████████| 16/16 [00:01<00:00,  9.25it/s]\n"
          ]
        },
        {
          "output_type": "stream",
          "name": "stdout",
          "text": [
            "Loss: 0.0644\n",
            "Val Loss: 0.7022 Val Acc: 0.8266\n",
            "Epoch 22/50\n"
          ]
        },
        {
          "output_type": "stream",
          "name": "stderr",
          "text": [
            "100%|██████████| 62/62 [00:07<00:00,  8.01it/s]\n",
            "100%|██████████| 16/16 [00:01<00:00, 10.18it/s]\n"
          ]
        },
        {
          "output_type": "stream",
          "name": "stdout",
          "text": [
            "Saving model...\n",
            "Loss: 0.0534\n",
            "Val Loss: 0.0872 Val Acc: 0.9839\n",
            "Epoch 23/50\n"
          ]
        },
        {
          "output_type": "stream",
          "name": "stderr",
          "text": [
            "100%|██████████| 62/62 [00:07<00:00,  7.90it/s]\n",
            "100%|██████████| 16/16 [00:01<00:00, 10.04it/s]\n"
          ]
        },
        {
          "output_type": "stream",
          "name": "stdout",
          "text": [
            "Loss: 0.0634\n",
            "Val Loss: 0.1335 Val Acc: 0.9677\n",
            "Epoch 24/50\n"
          ]
        },
        {
          "output_type": "stream",
          "name": "stderr",
          "text": [
            "100%|██████████| 62/62 [00:07<00:00,  7.95it/s]\n",
            "100%|██████████| 16/16 [00:01<00:00,  9.43it/s]\n"
          ]
        },
        {
          "output_type": "stream",
          "name": "stdout",
          "text": [
            "Loss: 0.0442\n",
            "Val Loss: 0.0928 Val Acc: 0.9738\n",
            "Epoch 25/50\n"
          ]
        },
        {
          "output_type": "stream",
          "name": "stderr",
          "text": [
            "100%|██████████| 62/62 [00:07<00:00,  8.20it/s]\n",
            "100%|██████████| 16/16 [00:01<00:00,  9.60it/s]\n"
          ]
        },
        {
          "output_type": "stream",
          "name": "stdout",
          "text": [
            "Loss: 0.0404\n",
            "Val Loss: 0.2210 Val Acc: 0.9395\n",
            "Epoch 26/50\n"
          ]
        },
        {
          "output_type": "stream",
          "name": "stderr",
          "text": [
            "100%|██████████| 62/62 [00:07<00:00,  8.00it/s]\n",
            "100%|██████████| 16/16 [00:01<00:00,  9.98it/s]\n"
          ]
        },
        {
          "output_type": "stream",
          "name": "stdout",
          "text": [
            "Saving model...\n",
            "Loss: 0.0410\n",
            "Val Loss: 0.0844 Val Acc: 0.9778\n",
            "Epoch 27/50\n"
          ]
        },
        {
          "output_type": "stream",
          "name": "stderr",
          "text": [
            "100%|██████████| 62/62 [00:07<00:00,  7.86it/s]\n",
            "100%|██████████| 16/16 [00:01<00:00,  9.63it/s]\n"
          ]
        },
        {
          "output_type": "stream",
          "name": "stdout",
          "text": [
            "Saving model...\n",
            "Loss: 0.0344\n",
            "Val Loss: 0.0654 Val Acc: 0.9859\n",
            "Epoch 28/50\n"
          ]
        },
        {
          "output_type": "stream",
          "name": "stderr",
          "text": [
            "100%|██████████| 62/62 [00:07<00:00,  8.19it/s]\n",
            "100%|██████████| 16/16 [00:01<00:00,  8.79it/s]\n"
          ]
        },
        {
          "output_type": "stream",
          "name": "stdout",
          "text": [
            "Loss: 0.0278\n",
            "Val Loss: 0.0840 Val Acc: 0.9819\n",
            "Epoch 29/50\n"
          ]
        },
        {
          "output_type": "stream",
          "name": "stderr",
          "text": [
            "100%|██████████| 62/62 [00:07<00:00,  8.10it/s]\n",
            "100%|██████████| 16/16 [00:01<00:00,  9.97it/s]\n"
          ]
        },
        {
          "output_type": "stream",
          "name": "stdout",
          "text": [
            "Saving model...\n",
            "Loss: 0.0316\n",
            "Val Loss: 0.0599 Val Acc: 0.9839\n",
            "Epoch 30/50\n"
          ]
        },
        {
          "output_type": "stream",
          "name": "stderr",
          "text": [
            "100%|██████████| 62/62 [00:07<00:00,  7.82it/s]\n",
            "100%|██████████| 16/16 [00:01<00:00,  9.83it/s]\n"
          ]
        },
        {
          "output_type": "stream",
          "name": "stdout",
          "text": [
            "Loss: 0.0247\n",
            "Val Loss: 0.0626 Val Acc: 0.9879\n",
            "Epoch 31/50\n"
          ]
        },
        {
          "output_type": "stream",
          "name": "stderr",
          "text": [
            "100%|██████████| 62/62 [00:07<00:00,  7.82it/s]\n",
            "100%|██████████| 16/16 [00:01<00:00, 10.12it/s]\n"
          ]
        },
        {
          "output_type": "stream",
          "name": "stdout",
          "text": [
            "Loss: 0.0232\n",
            "Val Loss: 0.0615 Val Acc: 0.9839\n",
            "Epoch 32/50\n"
          ]
        },
        {
          "output_type": "stream",
          "name": "stderr",
          "text": [
            "100%|██████████| 62/62 [00:07<00:00,  8.17it/s]\n",
            "100%|██████████| 16/16 [00:01<00:00,  9.01it/s]\n"
          ]
        },
        {
          "output_type": "stream",
          "name": "stdout",
          "text": [
            "Loss: 0.0207\n",
            "Val Loss: 0.0689 Val Acc: 0.9819\n",
            "Epoch 33/50\n"
          ]
        },
        {
          "output_type": "stream",
          "name": "stderr",
          "text": [
            "100%|██████████| 62/62 [00:07<00:00,  8.18it/s]\n",
            "100%|██████████| 16/16 [00:01<00:00,  9.98it/s]\n"
          ]
        },
        {
          "output_type": "stream",
          "name": "stdout",
          "text": [
            "Saving model...\n",
            "Loss: 0.0160\n",
            "Val Loss: 0.0594 Val Acc: 0.9879\n",
            "Epoch 34/50\n"
          ]
        },
        {
          "output_type": "stream",
          "name": "stderr",
          "text": [
            "100%|██████████| 62/62 [00:07<00:00,  7.87it/s]\n",
            "100%|██████████| 16/16 [00:01<00:00,  9.59it/s]\n"
          ]
        },
        {
          "output_type": "stream",
          "name": "stdout",
          "text": [
            "Loss: 0.0116\n",
            "Val Loss: 0.0606 Val Acc: 0.9879\n",
            "Epoch 35/50\n"
          ]
        },
        {
          "output_type": "stream",
          "name": "stderr",
          "text": [
            "100%|██████████| 62/62 [00:07<00:00,  7.96it/s]\n",
            "100%|██████████| 16/16 [00:01<00:00, 10.08it/s]\n"
          ]
        },
        {
          "output_type": "stream",
          "name": "stdout",
          "text": [
            "Saving model...\n",
            "Loss: 0.0153\n",
            "Val Loss: 0.0593 Val Acc: 0.9879\n",
            "Epoch 36/50\n"
          ]
        },
        {
          "output_type": "stream",
          "name": "stderr",
          "text": [
            "100%|██████████| 62/62 [00:07<00:00,  8.20it/s]\n",
            "100%|██████████| 16/16 [00:01<00:00,  8.64it/s]\n"
          ]
        },
        {
          "output_type": "stream",
          "name": "stdout",
          "text": [
            "Loss: 0.0153\n",
            "Val Loss: 0.0789 Val Acc: 0.9819\n",
            "Epoch 37/50\n"
          ]
        },
        {
          "output_type": "stream",
          "name": "stderr",
          "text": [
            "100%|██████████| 62/62 [00:07<00:00,  8.06it/s]\n",
            "100%|██████████| 16/16 [00:01<00:00,  9.83it/s]\n"
          ]
        },
        {
          "output_type": "stream",
          "name": "stdout",
          "text": [
            "Saving model...\n",
            "Loss: 0.0120\n",
            "Val Loss: 0.0587 Val Acc: 0.9839\n",
            "Epoch 38/50\n"
          ]
        },
        {
          "output_type": "stream",
          "name": "stderr",
          "text": [
            "100%|██████████| 62/62 [00:08<00:00,  7.73it/s]\n",
            "100%|██████████| 16/16 [00:01<00:00,  9.21it/s]\n"
          ]
        },
        {
          "output_type": "stream",
          "name": "stdout",
          "text": [
            "Saving model...\n",
            "Loss: 0.0110\n",
            "Val Loss: 0.0545 Val Acc: 0.9879\n",
            "Epoch 39/50\n"
          ]
        },
        {
          "output_type": "stream",
          "name": "stderr",
          "text": [
            "100%|██████████| 62/62 [00:07<00:00,  7.86it/s]\n",
            "100%|██████████| 16/16 [00:01<00:00, 10.19it/s]\n"
          ]
        },
        {
          "output_type": "stream",
          "name": "stdout",
          "text": [
            "Loss: 0.0100\n",
            "Val Loss: 0.0564 Val Acc: 0.9859\n",
            "Epoch 40/50\n"
          ]
        },
        {
          "output_type": "stream",
          "name": "stderr",
          "text": [
            "100%|██████████| 62/62 [00:07<00:00,  8.07it/s]\n",
            "100%|██████████| 16/16 [00:01<00:00,  9.49it/s]\n"
          ]
        },
        {
          "output_type": "stream",
          "name": "stdout",
          "text": [
            "Loss: 0.0124\n",
            "Val Loss: 0.0565 Val Acc: 0.9899\n",
            "Epoch 41/50\n"
          ]
        },
        {
          "output_type": "stream",
          "name": "stderr",
          "text": [
            "100%|██████████| 62/62 [00:07<00:00,  8.08it/s]\n",
            "100%|██████████| 16/16 [00:01<00:00,  9.83it/s]\n"
          ]
        },
        {
          "output_type": "stream",
          "name": "stdout",
          "text": [
            "Saving model...\n",
            "Loss: 0.0098\n",
            "Val Loss: 0.0543 Val Acc: 0.9899\n",
            "Epoch 42/50\n"
          ]
        },
        {
          "output_type": "stream",
          "name": "stderr",
          "text": [
            "100%|██████████| 62/62 [00:07<00:00,  7.85it/s]\n",
            "100%|██████████| 16/16 [00:01<00:00,  9.91it/s]\n"
          ]
        },
        {
          "output_type": "stream",
          "name": "stdout",
          "text": [
            "Saving model...\n",
            "Loss: 0.0109\n",
            "Val Loss: 0.0541 Val Acc: 0.9859\n",
            "Epoch 43/50\n"
          ]
        },
        {
          "output_type": "stream",
          "name": "stderr",
          "text": [
            "100%|██████████| 62/62 [00:07<00:00,  7.83it/s]\n",
            "100%|██████████| 16/16 [00:01<00:00,  9.78it/s]\n"
          ]
        },
        {
          "output_type": "stream",
          "name": "stdout",
          "text": [
            "Loss: 0.0102\n",
            "Val Loss: 0.0554 Val Acc: 0.9859\n",
            "Epoch 44/50\n"
          ]
        },
        {
          "output_type": "stream",
          "name": "stderr",
          "text": [
            "100%|██████████| 62/62 [00:07<00:00,  8.29it/s]\n",
            "100%|██████████| 16/16 [00:01<00:00,  9.51it/s]\n"
          ]
        },
        {
          "output_type": "stream",
          "name": "stdout",
          "text": [
            "Loss: 0.0100\n",
            "Val Loss: 0.0547 Val Acc: 0.9859\n",
            "Epoch 45/50\n"
          ]
        },
        {
          "output_type": "stream",
          "name": "stderr",
          "text": [
            "100%|██████████| 62/62 [00:07<00:00,  8.01it/s]\n",
            "100%|██████████| 16/16 [00:01<00:00,  9.97it/s]\n"
          ]
        },
        {
          "output_type": "stream",
          "name": "stdout",
          "text": [
            "Loss: 0.0105\n",
            "Val Loss: 0.0565 Val Acc: 0.9879\n",
            "Epoch 46/50\n"
          ]
        },
        {
          "output_type": "stream",
          "name": "stderr",
          "text": [
            "100%|██████████| 62/62 [00:07<00:00,  8.00it/s]\n",
            "100%|██████████| 16/16 [00:01<00:00,  9.91it/s]\n"
          ]
        },
        {
          "output_type": "stream",
          "name": "stdout",
          "text": [
            "Loss: 0.0119\n",
            "Val Loss: 0.0558 Val Acc: 0.9839\n",
            "Epoch 47/50\n"
          ]
        },
        {
          "output_type": "stream",
          "name": "stderr",
          "text": [
            "100%|██████████| 62/62 [00:07<00:00,  7.96it/s]\n",
            "100%|██████████| 16/16 [00:01<00:00,  8.98it/s]\n"
          ]
        },
        {
          "output_type": "stream",
          "name": "stdout",
          "text": [
            "Loss: 0.0086\n",
            "Val Loss: 0.0550 Val Acc: 0.9899\n",
            "Epoch 48/50\n"
          ]
        },
        {
          "output_type": "stream",
          "name": "stderr",
          "text": [
            "100%|██████████| 62/62 [00:07<00:00,  8.30it/s]\n",
            "100%|██████████| 16/16 [00:01<00:00,  9.99it/s]\n"
          ]
        },
        {
          "output_type": "stream",
          "name": "stdout",
          "text": [
            "Loss: 0.0084\n",
            "Val Loss: 0.0548 Val Acc: 0.9879\n",
            "Epoch 49/50\n"
          ]
        },
        {
          "output_type": "stream",
          "name": "stderr",
          "text": [
            "100%|██████████| 62/62 [00:07<00:00,  7.96it/s]\n",
            "100%|██████████| 16/16 [00:01<00:00,  9.85it/s]\n"
          ]
        },
        {
          "output_type": "stream",
          "name": "stdout",
          "text": [
            "Loss: 0.0114\n",
            "Val Loss: 0.0541 Val Acc: 0.9879\n",
            "Epoch 50/50\n"
          ]
        },
        {
          "output_type": "stream",
          "name": "stderr",
          "text": [
            "100%|██████████| 62/62 [00:07<00:00,  7.99it/s]\n",
            "100%|██████████| 16/16 [00:01<00:00,  9.91it/s]\n"
          ]
        },
        {
          "output_type": "stream",
          "name": "stdout",
          "text": [
            "Saving model...\n",
            "Loss: 0.0126\n",
            "Val Loss: 0.0540 Val Acc: 0.9879\n"
          ]
        }
      ]
    },
    {
      "cell_type": "markdown",
      "source": [
        "#6. Visualize loss, acc\n",
        "\n",
        "\n",
        "\n"
      ],
      "metadata": {
        "id": "n09r4ErG8dSH"
      }
    },
    {
      "cell_type": "code",
      "source": [
        "# Load the TensorBoard notebook extension\n",
        "%load_ext tensorboard"
      ],
      "metadata": {
        "id": "Rtd82Tm5YsPH"
      },
      "execution_count": 58,
      "outputs": []
    },
    {
      "cell_type": "code",
      "source": [
        "from tensorboard import notebook\n",
        "notebook.list() # View open TensorBoard instances\n",
        "notebook.display(port=6007, height=1000)"
      ],
      "metadata": {
        "id": "IQv9-6H9YkRf"
      },
      "execution_count": null,
      "outputs": []
    },
    {
      "cell_type": "code",
      "source": [
        "%tensorboard --logdir ./logs/fit/resnet18/20230712-082204 --port 6008"
      ],
      "metadata": {
        "colab": {
          "base_uri": "https://localhost:8080/",
          "height": 822
        },
        "id": "nvbI_qKoK-mw",
        "outputId": "d1949fd2-dc51-425c-b3d0-a2c5be6a177a"
      },
      "execution_count": 75,
      "outputs": [
        {
          "output_type": "display_data",
          "data": {
            "text/plain": [
              "<IPython.core.display.Javascript object>"
            ],
            "application/javascript": [
              "\n",
              "        (async () => {\n",
              "            const url = new URL(await google.colab.kernel.proxyPort(6008, {'cache': true}));\n",
              "            url.searchParams.set('tensorboardColab', 'true');\n",
              "            const iframe = document.createElement('iframe');\n",
              "            iframe.src = url;\n",
              "            iframe.setAttribute('width', '100%');\n",
              "            iframe.setAttribute('height', '800');\n",
              "            iframe.setAttribute('frameborder', 0);\n",
              "            document.body.appendChild(iframe);\n",
              "        })();\n",
              "    "
            ]
          },
          "metadata": {}
        }
      ]
    },
    {
      "cell_type": "code",
      "source": [
        "!tensorboard dev upload --logdir ./logs/fit/resnet18/20230712-082204 \\\n",
        "  --name \"Simple experiment with restnet18\" \\\n",
        "  --description \"Hiragana\" \\\n",
        "  --one_shot"
      ],
      "metadata": {
        "colab": {
          "base_uri": "https://localhost:8080/"
        },
        "id": "qtxY4YyldDPI",
        "outputId": "38ce6e26-6ca2-4a4c-e894-a2162edf8389"
      },
      "execution_count": 76,
      "outputs": [
        {
          "output_type": "stream",
          "name": "stdout",
          "text": [
            "2023-07-12 09:36:00.328318: W tensorflow/compiler/tf2tensorrt/utils/py_utils.cc:38] TF-TRT Warning: Could not find TensorRT\n",
            "\n",
            "***** TensorBoard Uploader *****\n",
            "\n",
            "This will upload your TensorBoard logs to https://tensorboard.dev/ from\n",
            "the following directory:\n",
            "\n",
            "./logs/fit/resnet18/20230712-082204\n",
            "\n",
            "This TensorBoard will be visible to everyone. Do not upload sensitive\n",
            "data.\n",
            "\n",
            "Your use of this service is subject to Google's Terms of Service\n",
            "<https://policies.google.com/terms> and Privacy Policy\n",
            "<https://policies.google.com/privacy>, and TensorBoard.dev's Terms of Service\n",
            "<https://tensorboard.dev/policy/terms/>.\n",
            "\n",
            "This notice will not be shown again while you are logged into the uploader.\n",
            "To log out, run `tensorboard dev auth revoke`.\n",
            "\n",
            "Continue? (yes/NO) y\n",
            "\n",
            "To sign in with the TensorBoard uploader:\n",
            "\n",
            "1. On your computer or phone, visit:\n",
            "\n",
            "   https://www.google.com/device\n",
            "\n",
            "2. Sign in with your Google account, then enter:\n",
            "\n",
            "   FZM-PHD-GVJ\n",
            "\n",
            "\n",
            "\n",
            "New experiment created. View your TensorBoard at: https://tensorboard.dev/experiment/GaxI26qvSRuaZ1dPaL1xpA/\n",
            "\n",
            "\u001b[1m[2023-07-12T09:36:38]\u001b[0m Started scanning logdir.\n",
            "\u001b[1m[2023-07-12T09:36:38]\u001b[0m Total uploaded: 150 scalars, 0 tensors, 0 binary objects\n",
            "\u001b[1m[2023-07-12T09:36:38]\u001b[0m Done scanning logdir.\n",
            "\n",
            "\n",
            "Done. View your TensorBoard at https://tensorboard.dev/experiment/GaxI26qvSRuaZ1dPaL1xpA/\n"
          ]
        }
      ]
    },
    {
      "cell_type": "code",
      "source": [
        "!lsof -i:6006\n",
        "!kill -9 19092"
      ],
      "metadata": {
        "colab": {
          "base_uri": "https://localhost:8080/"
        },
        "id": "uqb5B7l0Zx0G",
        "outputId": "353a3ec8-2794-4b33-9327-681c86bd4b9c"
      },
      "execution_count": 70,
      "outputs": [
        {
          "output_type": "stream",
          "name": "stdout",
          "text": [
            "COMMAND     PID USER   FD   TYPE DEVICE SIZE/OFF NODE NAME\n",
            "tensorboa 19092 root   10u  IPv6 644859      0t0  TCP *:6006 (LISTEN)\n"
          ]
        }
      ]
    },
    {
      "cell_type": "code",
      "source": [
        "def visualize_history(loss, val_acc, val_loss):\n",
        "    fig, ax = plt.subplots(1,2, figsize=(12,4))\n",
        "\n",
        "    ax[0].plot(range(len(loss)), loss,  color='darkgrey', label = 'train')\n",
        "    ax[0].plot(range(len(val_loss)), val_loss,  color='cornflowerblue', label = 'valid')\n",
        "    ax[0].set_title('Loss')\n",
        "\n",
        "    # ax[1].plot(range(len(acc)), acc,  color='darkgrey', label = 'train')\n",
        "    ax[1].plot(range(len(val_acc)), val_acc,  color='cornflowerblue', label = 'valid')\n",
        "    ax[1].set_title('Metric (Accuracy)')\n",
        "\n",
        "    for i in range(2):\n",
        "        ax[i].set_xlabel('Epochs')\n",
        "        ax[i].legend(loc=\"upper right\")\n",
        "    plt.show()"
      ],
      "metadata": {
        "id": "ac8ssRKV8F-w"
      },
      "execution_count": 45,
      "outputs": []
    },
    {
      "cell_type": "code",
      "source": [
        "visualize_history(loss, val_acc, val_loss)"
      ],
      "metadata": {
        "colab": {
          "base_uri": "https://localhost:8080/",
          "height": 407
        },
        "id": "dv2ZfB1W8he9",
        "outputId": "abdb9f64-e706-4efc-c47d-310c079ba1a5"
      },
      "execution_count": 46,
      "outputs": [
        {
          "output_type": "display_data",
          "data": {
            "text/plain": [
              "<Figure size 1200x400 with 2 Axes>"
            ],
            "image/png": "[encoded data removed]"
          },
          "metadata": {}
        }
      ]
    },
    {
      "cell_type": "markdown",
      "source": [
        "#7. Save model"
      ],
      "metadata": {
        "id": "YR5lAwADfFLn"
      }
    },
    {
      "cell_type": "code",
      "source": [
        "# # Print model's state_dict\n",
        "# print(\"Model's state_dict:\")\n",
        "# for param_tensor in model.state_dict():\n",
        "#     print(param_tensor, \"\\t\", model.state_dict()[param_tensor].size())\n",
        "\n",
        "# # Print optimizer's state_dict\n",
        "# print(\"Optimizer's state_dict:\")\n",
        "# for var_name in optimizer.state_dict():\n",
        "#     print(var_name, \"\\t\", optimizer.state_dict()[var_name])"
      ],
      "metadata": {
        "id": "wLDH6KD2jmAq"
      },
      "execution_count": null,
      "outputs": []
    },
    {
      "cell_type": "code",
      "source": [
        "log_dir"
      ],
      "metadata": {
        "colab": {
          "base_uri": "https://localhost:8080/",
          "height": 36
        },
        "id": "JONQ4K7mXESA",
        "outputId": "a38956d7-190b-412d-fac4-d4e49e9e10a6"
      },
      "execution_count": 50,
      "outputs": [
        {
          "output_type": "execute_result",
          "data": {
            "text/plain": [
              "'logs/fit/resnet18/20230712-082204'"
            ],
            "application/vnd.google.colaboratory.intrinsic+json": {
              "type": "string"
            }
          },
          "metadata": {},
          "execution_count": 50
        }
      ]
    },
    {
      "cell_type": "code",
      "source": [
        "#Save state dict\n",
        "saved_model_path = \"./\" + log_dir\n",
        "torch.save(model.state_dict(), saved_model_path)"
      ],
      "metadata": {
        "id": "Db9HfidMkWDd",
        "colab": {
          "base_uri": "https://localhost:8080/",
          "height": 346
        },
        "outputId": "59e894b0-4472-4e31-ebbd-c43f51fe9931"
      },
      "execution_count": 53,
      "outputs": [
        {
          "output_type": "error",
          "ename": "RuntimeError",
          "evalue": "ignored",
          "traceback": [
            "\u001b[0;31m---------------------------------------------------------------------------\u001b[0m",
            "\u001b[0;31mRuntimeError\u001b[0m                              Traceback (most recent call last)",
            "\u001b[0;32m<ipython-input-53-ec802bf318ed>\u001b[0m in \u001b[0;36m<cell line: 3>\u001b[0;34m()\u001b[0m\n\u001b[1;32m      1\u001b[0m \u001b[0;31m#Save state dict\u001b[0m\u001b[0;34m\u001b[0m\u001b[0;34m\u001b[0m\u001b[0m\n\u001b[1;32m      2\u001b[0m \u001b[0msaved_model_path\u001b[0m \u001b[0;34m=\u001b[0m \u001b[0;34m\"./\"\u001b[0m \u001b[0;34m+\u001b[0m \u001b[0mlog_dir\u001b[0m\u001b[0;34m\u001b[0m\u001b[0;34m\u001b[0m\u001b[0m\n\u001b[0;32m----> 3\u001b[0;31m \u001b[0mtorch\u001b[0m\u001b[0;34m.\u001b[0m\u001b[0msave\u001b[0m\u001b[0;34m(\u001b[0m\u001b[0mmodel\u001b[0m\u001b[0;34m.\u001b[0m\u001b[0mstate_dict\u001b[0m\u001b[0;34m(\u001b[0m\u001b[0;34m)\u001b[0m\u001b[0;34m,\u001b[0m \u001b[0msaved_model_path\u001b[0m\u001b[0;34m)\u001b[0m\u001b[0;34m\u001b[0m\u001b[0;34m\u001b[0m\u001b[0m\n\u001b[0m",
            "\u001b[0;32m/usr/local/lib/python3.10/dist-packages/torch/serialization.py\u001b[0m in \u001b[0;36msave\u001b[0;34m(obj, f, pickle_module, pickle_protocol, _use_new_zipfile_serialization)\u001b[0m\n\u001b[1;32m    438\u001b[0m \u001b[0;34m\u001b[0m\u001b[0m\n\u001b[1;32m    439\u001b[0m     \u001b[0;32mif\u001b[0m \u001b[0m_use_new_zipfile_serialization\u001b[0m\u001b[0;34m:\u001b[0m\u001b[0;34m\u001b[0m\u001b[0;34m\u001b[0m\u001b[0m\n\u001b[0;32m--> 440\u001b[0;31m         \u001b[0;32mwith\u001b[0m \u001b[0m_open_zipfile_writer\u001b[0m\u001b[0;34m(\u001b[0m\u001b[0mf\u001b[0m\u001b[0;34m)\u001b[0m \u001b[0;32mas\u001b[0m \u001b[0mopened_zipfile\u001b[0m\u001b[0;34m:\u001b[0m\u001b[0;34m\u001b[0m\u001b[0;34m\u001b[0m\u001b[0m\n\u001b[0m\u001b[1;32m    441\u001b[0m             \u001b[0m_save\u001b[0m\u001b[0;34m(\u001b[0m\u001b[0mobj\u001b[0m\u001b[0;34m,\u001b[0m \u001b[0mopened_zipfile\u001b[0m\u001b[0;34m,\u001b[0m \u001b[0mpickle_module\u001b[0m\u001b[0;34m,\u001b[0m \u001b[0mpickle_protocol\u001b[0m\u001b[0;34m)\u001b[0m\u001b[0;34m\u001b[0m\u001b[0;34m\u001b[0m\u001b[0m\n\u001b[1;32m    442\u001b[0m             \u001b[0;32mreturn\u001b[0m\u001b[0;34m\u001b[0m\u001b[0;34m\u001b[0m\u001b[0m\n",
            "\u001b[0;32m/usr/local/lib/python3.10/dist-packages/torch/serialization.py\u001b[0m in \u001b[0;36m_open_zipfile_writer\u001b[0;34m(name_or_buffer)\u001b[0m\n\u001b[1;32m    313\u001b[0m     \u001b[0;32melse\u001b[0m\u001b[0;34m:\u001b[0m\u001b[0;34m\u001b[0m\u001b[0;34m\u001b[0m\u001b[0m\n\u001b[1;32m    314\u001b[0m         \u001b[0mcontainer\u001b[0m \u001b[0;34m=\u001b[0m \u001b[0m_open_zipfile_writer_buffer\u001b[0m\u001b[0;34m\u001b[0m\u001b[0;34m\u001b[0m\u001b[0m\n\u001b[0;32m--> 315\u001b[0;31m     \u001b[0;32mreturn\u001b[0m \u001b[0mcontainer\u001b[0m\u001b[0;34m(\u001b[0m\u001b[0mname_or_buffer\u001b[0m\u001b[0;34m)\u001b[0m\u001b[0;34m\u001b[0m\u001b[0;34m\u001b[0m\u001b[0m\n\u001b[0m\u001b[1;32m    316\u001b[0m \u001b[0;34m\u001b[0m\u001b[0m\n\u001b[1;32m    317\u001b[0m \u001b[0;34m\u001b[0m\u001b[0m\n",
            "\u001b[0;32m/usr/local/lib/python3.10/dist-packages/torch/serialization.py\u001b[0m in \u001b[0;36m__init__\u001b[0;34m(self, name)\u001b[0m\n\u001b[1;32m    286\u001b[0m \u001b[0;32mclass\u001b[0m \u001b[0m_open_zipfile_writer_file\u001b[0m\u001b[0;34m(\u001b[0m\u001b[0m_opener\u001b[0m\u001b[0;34m)\u001b[0m\u001b[0;34m:\u001b[0m\u001b[0;34m\u001b[0m\u001b[0;34m\u001b[0m\u001b[0m\n\u001b[1;32m    287\u001b[0m     \u001b[0;32mdef\u001b[0m \u001b[0m__init__\u001b[0m\u001b[0;34m(\u001b[0m\u001b[0mself\u001b[0m\u001b[0;34m,\u001b[0m \u001b[0mname\u001b[0m\u001b[0;34m)\u001b[0m \u001b[0;34m->\u001b[0m \u001b[0;32mNone\u001b[0m\u001b[0;34m:\u001b[0m\u001b[0;34m\u001b[0m\u001b[0;34m\u001b[0m\u001b[0m\n\u001b[0;32m--> 288\u001b[0;31m         \u001b[0msuper\u001b[0m\u001b[0;34m(\u001b[0m\u001b[0;34m)\u001b[0m\u001b[0;34m.\u001b[0m\u001b[0m__init__\u001b[0m\u001b[0;34m(\u001b[0m\u001b[0mtorch\u001b[0m\u001b[0;34m.\u001b[0m\u001b[0m_C\u001b[0m\u001b[0;34m.\u001b[0m\u001b[0mPyTorchFileWriter\u001b[0m\u001b[0;34m(\u001b[0m\u001b[0mstr\u001b[0m\u001b[0;34m(\u001b[0m\u001b[0mname\u001b[0m\u001b[0;34m)\u001b[0m\u001b[0;34m)\u001b[0m\u001b[0;34m)\u001b[0m\u001b[0;34m\u001b[0m\u001b[0;34m\u001b[0m\u001b[0m\n\u001b[0m\u001b[1;32m    289\u001b[0m \u001b[0;34m\u001b[0m\u001b[0m\n\u001b[1;32m    290\u001b[0m     \u001b[0;32mdef\u001b[0m \u001b[0m__exit__\u001b[0m\u001b[0;34m(\u001b[0m\u001b[0mself\u001b[0m\u001b[0;34m,\u001b[0m \u001b[0;34m*\u001b[0m\u001b[0margs\u001b[0m\u001b[0;34m)\u001b[0m \u001b[0;34m->\u001b[0m \u001b[0;32mNone\u001b[0m\u001b[0;34m:\u001b[0m\u001b[0;34m\u001b[0m\u001b[0;34m\u001b[0m\u001b[0m\n",
            "\u001b[0;31mRuntimeError\u001b[0m: File ./logs/fit/resnet18/20230712-082204 cannot be opened."
          ]
        }
      ]
    },
    {
      "cell_type": "code",
      "source": [
        "saved_model_path = \"./logs/fit/resnet18/20230712-082204.pt\"\n",
        "torch.save(model, saved_model_path)"
      ],
      "metadata": {
        "id": "l-P5caOWkxtz"
      },
      "execution_count": 56,
      "outputs": []
    },
    {
      "cell_type": "markdown",
      "source": [
        "#8. Explore model"
      ],
      "metadata": {
        "id": "CXnTXvylsxnB"
      }
    },
    {
      "cell_type": "code",
      "source": [
        "model_path_for_exploring = \"./models/1/model.pt\"\n",
        "model_x = torch.load(model_path_for_exploring)\n"
      ],
      "metadata": {
        "id": "rdvtDjUFswxJ"
      },
      "execution_count": null,
      "outputs": []
    },
    {
      "cell_type": "code",
      "source": [
        "model_x = model_x.to(cfg.device)"
      ],
      "metadata": {
        "id": "aJqr1_QyxOvQ"
      },
      "execution_count": null,
      "outputs": []
    },
    {
      "cell_type": "code",
      "source": [
        "# get some random training images\n",
        "dataiter = iter(valid_dataloader)\n",
        "images, labels = next(dataiter)"
      ],
      "metadata": {
        "id": "JkKNsJ_ux8Sk"
      },
      "execution_count": null,
      "outputs": []
    },
    {
      "cell_type": "code",
      "source": [
        "images.shape"
      ],
      "metadata": {
        "colab": {
          "base_uri": "https://localhost:8080/"
        },
        "id": "4Fkm4LSpy24E",
        "outputId": "b33c90e1-7907-4acd-ce5a-7a902a9ff98a"
      },
      "execution_count": null,
      "outputs": [
        {
          "output_type": "execute_result",
          "data": {
            "text/plain": [
              "torch.Size([32, 3, 224, 224])"
            ]
          },
          "metadata": {},
          "execution_count": 114
        }
      ]
    },
    {
      "cell_type": "code",
      "source": [
        "labels"
      ],
      "metadata": {
        "colab": {
          "base_uri": "https://localhost:8080/"
        },
        "id": "oFxsxT9FyNUi",
        "outputId": "7e25f895-dfcf-42b4-a312-a83eae681902"
      },
      "execution_count": null,
      "outputs": [
        {
          "output_type": "execute_result",
          "data": {
            "text/plain": [
              "tensor([[0., 0., 0.,  ..., 0., 0., 1.],\n",
              "        [0., 0., 0.,  ..., 0., 0., 0.],\n",
              "        [0., 0., 0.,  ..., 0., 0., 0.],\n",
              "        ...,\n",
              "        [0., 0., 0.,  ..., 0., 0., 0.],\n",
              "        [0., 0., 0.,  ..., 0., 0., 0.],\n",
              "        [0., 0., 0.,  ..., 0., 0., 0.]], dtype=torch.float64)"
            ]
          },
          "metadata": {},
          "execution_count": 113
        }
      ]
    },
    {
      "cell_type": "code",
      "source": [
        "len(images)"
      ],
      "metadata": {
        "colab": {
          "base_uri": "https://localhost:8080/"
        },
        "id": "5_YMyV4w0KXU",
        "outputId": "c526535a-d972-4eca-d3f0-92dc63fcf059"
      },
      "execution_count": null,
      "outputs": [
        {
          "output_type": "execute_result",
          "data": {
            "text/plain": [
              "32"
            ]
          },
          "metadata": {},
          "execution_count": 115
        }
      ]
    },
    {
      "cell_type": "code",
      "source": [
        "X = images.to(cfg.device)\n",
        "y = labels.to(cfg.device)\n",
        "\n",
        "with torch.no_grad():\n",
        "    # Forward: Get model outputs\n",
        "    y_pred = model_x(X)\n",
        "\n",
        "    # Forward: Calculate loss\n",
        "    loss = criterion(y_pred, y)\n",
        "\n",
        "    # Covert y and y_pred to lists\n",
        "    y =  y.detach().cpu().numpy().tolist()\n",
        "    y_pred =  y_pred.detach().cpu().numpy().tolist()\n",
        "\n",
        "    # Extend original list\n",
        "    final_y_pred_argmax = np.argmax(y_pred, axis=1)\n",
        "    final_y_argmax = np.argmax(y, axis = 1)\n",
        "    metric_test = calculate_metric(final_y_argmax, final_y_pred_argmax)"
      ],
      "metadata": {
        "id": "_ngJh9Rpysf9"
      },
      "execution_count": null,
      "outputs": []
    },
    {
      "cell_type": "code",
      "source": [
        "metric_test"
      ],
      "metadata": {
        "colab": {
          "base_uri": "https://localhost:8080/"
        },
        "id": "TkK4lYHB0ooX",
        "outputId": "e9e25051-c3a5-4530-fb01-1e96d6896a2c"
      },
      "execution_count": null,
      "outputs": [
        {
          "output_type": "execute_result",
          "data": {
            "text/plain": [
              "1.0"
            ]
          },
          "metadata": {},
          "execution_count": 117
        }
      ]
    },
    {
      "cell_type": "code",
      "source": [
        "final_y_pred_argmax"
      ],
      "metadata": {
        "colab": {
          "base_uri": "https://localhost:8080/"
        },
        "id": "fL2Vixi41B-k",
        "outputId": "71361065-427d-4222-e27e-bb0ff8a90020"
      },
      "execution_count": null,
      "outputs": [
        {
          "output_type": "execute_result",
          "data": {
            "text/plain": [
              "array([45, 30, 10, 19, 18,  7,  1, 17,  6, 14,  0, 10, 40, 45, 24,  8, 14,\n",
              "       30, 44, 15, 41,  5,  6, 19, 40, 11, 30,  8, 37, 31, 32,  3])"
            ]
          },
          "metadata": {},
          "execution_count": 118
        }
      ]
    },
    {
      "cell_type": "code",
      "source": [
        "final_y_argmax"
      ],
      "metadata": {
        "colab": {
          "base_uri": "https://localhost:8080/"
        },
        "id": "Gdsys86c1IS7",
        "outputId": "3c2b88f4-9fa0-4d48-dd9a-b7fcd6d6d2b8"
      },
      "execution_count": null,
      "outputs": [
        {
          "output_type": "execute_result",
          "data": {
            "text/plain": [
              "array([45, 30, 10, 19, 18,  7,  1, 17,  6, 14,  0, 10, 40, 45, 24,  8, 14,\n",
              "       30, 44, 15, 41,  5,  6, 19, 40, 11, 30,  8, 37, 31, 32,  3])"
            ]
          },
          "metadata": {},
          "execution_count": 119
        }
      ]
    },
    {
      "cell_type": "code",
      "source": [
        "test_df"
      ],
      "metadata": {
        "colab": {
          "base_uri": "https://localhost:8080/",
          "height": 423
        },
        "id": "7R7J_uEr2kx7",
        "outputId": "29bf3705-30f4-424e-8ab0-11df80b8596f"
      },
      "execution_count": null,
      "outputs": [
        {
          "output_type": "execute_result",
          "data": {
            "text/plain": [
              "                                file_name label\n",
              "310   ./data/hira_better_quality/ん/15.jpg     ん\n",
              "161   ./data/hira_better_quality/ま/11.jpg     ま\n",
              "70    ./data/hira_better_quality/さ/10.jpg     さ\n",
              "686   ./data/hira_better_quality/と/23.jpg     と\n",
              "986    ./data/hira_better_quality/て/9.jpg     て\n",
              "...                                   ...   ...\n",
              "1335  ./data/hira_better_quality/す/18.jpg     す\n",
              "920   ./data/hira_better_quality/ら/18.jpg     ら\n",
              "1092  ./data/hira_better_quality/い/16.jpg     い\n",
              "31    ./data/hira_better_quality/に/13.jpg     に\n",
              "1367  ./data/hira_better_quality/り/32.jpg     り\n",
              "\n",
              "[312 rows x 2 columns]"
            ],
            "text/html": [
              "\n",
              "  <div id=\"df-f3f7371a-7a44-4a51-a3c4-5c59d223abc2\">\n",
              "    <div class=\"colab-df-container\">\n",
              "      <div>\n",
              "<style scoped>\n",
              "    .dataframe tbody tr th:only-of-type {\n",
              "        vertical-align: middle;\n",
              "    }\n",
              "\n",
              "    .dataframe tbody tr th {\n",
              "        vertical-align: top;\n",
              "    }\n",
              "\n",
              "    .dataframe thead th {\n",
              "        text-align: right;\n",
              "    }\n",
              "</style>\n",
              "<table border=\"1\" class=\"dataframe\">\n",
              "  <thead>\n",
              "    <tr style=\"text-align: right;\">\n",
              "      <th></th>\n",
              "      <th>file_name</th>\n",
              "      <th>label</th>\n",
              "    </tr>\n",
              "  </thead>\n",
              "  <tbody>\n",
              "    <tr>\n",
              "      <th>310</th>\n",
              "      <td>./data/hira_better_quality/ん/15.jpg</td>\n",
              "      <td>ん</td>\n",
              "    </tr>\n",
              "    <tr>\n",
              "      <th>161</th>\n",
              "      <td>./data/hira_better_quality/ま/11.jpg</td>\n",
              "      <td>ま</td>\n",
              "    </tr>\n",
              "    <tr>\n",
              "      <th>70</th>\n",
              "      <td>./data/hira_better_quality/さ/10.jpg</td>\n",
              "      <td>さ</td>\n",
              "    </tr>\n",
              "    <tr>\n",
              "      <th>686</th>\n",
              "      <td>./data/hira_better_quality/と/23.jpg</td>\n",
              "      <td>と</td>\n",
              "    </tr>\n",
              "    <tr>\n",
              "      <th>986</th>\n",
              "      <td>./data/hira_better_quality/て/9.jpg</td>\n",
              "      <td>て</td>\n",
              "    </tr>\n",
              "    <tr>\n",
              "      <th>...</th>\n",
              "      <td>...</td>\n",
              "      <td>...</td>\n",
              "    </tr>\n",
              "    <tr>\n",
              "      <th>1335</th>\n",
              "      <td>./data/hira_better_quality/す/18.jpg</td>\n",
              "      <td>す</td>\n",
              "    </tr>\n",
              "    <tr>\n",
              "      <th>920</th>\n",
              "      <td>./data/hira_better_quality/ら/18.jpg</td>\n",
              "      <td>ら</td>\n",
              "    </tr>\n",
              "    <tr>\n",
              "      <th>1092</th>\n",
              "      <td>./data/hira_better_quality/い/16.jpg</td>\n",
              "      <td>い</td>\n",
              "    </tr>\n",
              "    <tr>\n",
              "      <th>31</th>\n",
              "      <td>./data/hira_better_quality/に/13.jpg</td>\n",
              "      <td>に</td>\n",
              "    </tr>\n",
              "    <tr>\n",
              "      <th>1367</th>\n",
              "      <td>./data/hira_better_quality/り/32.jpg</td>\n",
              "      <td>り</td>\n",
              "    </tr>\n",
              "  </tbody>\n",
              "</table>\n",
              "<p>312 rows × 2 columns</p>\n",
              "</div>\n",
              "      <button class=\"colab-df-convert\" onclick=\"convertToInteractive('df-f3f7371a-7a44-4a51-a3c4-5c59d223abc2')\"\n",
              "              title=\"Convert this dataframe to an interactive table.\"\n",
              "              style=\"display:none;\">\n",
              "        \n",
              "  <svg xmlns=\"http://www.w3.org/2000/svg\" height=\"24px\"viewBox=\"0 0 24 24\"\n",
              "       width=\"24px\">\n",
              "    <path d=\"M0 0h24v24H0V0z\" fill=\"none\"/>\n",
              "    <path d=\"M18.56 5.44l.94 2.06.94-2.06 2.06-.94-2.06-.94-.94-2.06-.94 2.06-2.06.94zm-11 1L8.5 8.5l.94-2.06 2.06-.94-2.06-.94L8.5 2.5l-.94 2.06-2.06.94zm10 10l.94 2.06.94-2.06 2.06-.94-2.06-.94-.94-2.06-.94 2.06-2.06.94z\"/><path d=\"M17.41 7.96l-1.37-1.37c-.4-.4-.92-.59-1.43-.59-.52 0-1.04.2-1.43.59L10.3 9.45l-7.72 7.72c-.78.78-.78 2.05 0 2.83L4 21.41c.39.39.9.59 1.41.59.51 0 1.02-.2 1.41-.59l7.78-7.78 2.81-2.81c.8-.78.8-2.07 0-2.86zM5.41 20L4 18.59l7.72-7.72 1.47 1.35L5.41 20z\"/>\n",
              "  </svg>\n",
              "      </button>\n",
              "      \n",
              "  <style>\n",
              "    .colab-df-container {\n",
              "      display:flex;\n",
              "      flex-wrap:wrap;\n",
              "      gap: 12px;\n",
              "    }\n",
              "\n",
              "    .colab-df-convert {\n",
              "      background-color: #E8F0FE;\n",
              "      border: none;\n",
              "      border-radius: 50%;\n",
              "      cursor: pointer;\n",
              "      display: none;\n",
              "      fill: #1967D2;\n",
              "      height: 32px;\n",
              "      padding: 0 0 0 0;\n",
              "      width: 32px;\n",
              "    }\n",
              "\n",
              "    .colab-df-convert:hover {\n",
              "      background-color: #E2EBFA;\n",
              "      box-shadow: 0px 1px 2px rgba(60, 64, 67, 0.3), 0px 1px 3px 1px rgba(60, 64, 67, 0.15);\n",
              "      fill: #174EA6;\n",
              "    }\n",
              "\n",
              "    [theme=dark] .colab-df-convert {\n",
              "      background-color: #3B4455;\n",
              "      fill: #D2E3FC;\n",
              "    }\n",
              "\n",
              "    [theme=dark] .colab-df-convert:hover {\n",
              "      background-color: #434B5C;\n",
              "      box-shadow: 0px 1px 3px 1px rgba(0, 0, 0, 0.15);\n",
              "      filter: drop-shadow(0px 1px 2px rgba(0, 0, 0, 0.3));\n",
              "      fill: #FFFFFF;\n",
              "    }\n",
              "  </style>\n",
              "\n",
              "      <script>\n",
              "        const buttonEl =\n",
              "          document.querySelector('#df-f3f7371a-7a44-4a51-a3c4-5c59d223abc2 button.colab-df-convert');\n",
              "        buttonEl.style.display =\n",
              "          google.colab.kernel.accessAllowed ? 'block' : 'none';\n",
              "\n",
              "        async function convertToInteractive(key) {\n",
              "          const element = document.querySelector('#df-f3f7371a-7a44-4a51-a3c4-5c59d223abc2');\n",
              "          const dataTable =\n",
              "            await google.colab.kernel.invokeFunction('convertToInteractive',\n",
              "                                                     [key], {});\n",
              "          if (!dataTable) return;\n",
              "\n",
              "          const docLinkHtml = 'Like what you see? Visit the ' +\n",
              "            '<a target=\"_blank\" href=https://colab.research.google.com/notebooks/data_table.ipynb>data table notebook</a>'\n",
              "            + ' to learn more about interactive tables.';\n",
              "          element.innerHTML = '';\n",
              "          dataTable['output_type'] = 'display_data';\n",
              "          await google.colab.output.renderOutput(dataTable, element);\n",
              "          const docLink = document.createElement('div');\n",
              "          docLink.innerHTML = docLinkHtml;\n",
              "          element.appendChild(docLink);\n",
              "        }\n",
              "      </script>\n",
              "    </div>\n",
              "  </div>\n",
              "  "
            ]
          },
          "metadata": {},
          "execution_count": 120
        }
      ]
    },
    {
      "cell_type": "code",
      "source": [
        "def inference_for_an_image(image_path = None, model_x = None):\n",
        "  image = cv2.imread(image_path)\n",
        "\n",
        "  # Convert the image to RGB color space.\n",
        "  image = cv2.cvtColor(image, cv2.COLOR_BGR2RGB)\n",
        "  # Apply augmentations\n",
        "  transform = A.Compose([A.Resize(cfg.image_size, cfg.image_size),\n",
        "                              ToTensorV2()])\n",
        "  augmented = transform(image=image)\n",
        "  image = augmented['image']\n",
        "\n",
        "  image = image/255\n",
        "  image = image.to(cfg.device)\n",
        "\n",
        "  image_tensor_batch1 = image.unsqueeze(0)\n",
        "\n",
        "  predict = model_x(image_tensor_batch1)\n",
        "  y_pred1 =  predict.detach().cpu().numpy()\n",
        "  character_label = labels[np.argmax(y_pred1)]\n",
        "\n",
        "  return character_label"
      ],
      "metadata": {
        "id": "Zrk0MBPLxqyt"
      },
      "execution_count": null,
      "outputs": []
    },
    {
      "cell_type": "code",
      "source": [
        "sort_df[\"predicted_labels\"] = sort_df[\"file_name\"].apply(lambda x : inference_for_an_image(str(x), model_x))"
      ],
      "metadata": {
        "id": "ukHcVCmALlOe"
      },
      "execution_count": null,
      "outputs": []
    },
    {
      "cell_type": "code",
      "source": [
        "comparison = sort_df[\"label\"] == sort_df[\"predicted_labels\"]\n",
        "sort_df[\"Correct\"] = comparison"
      ],
      "metadata": {
        "id": "H9K50vmxMbkP"
      },
      "execution_count": null,
      "outputs": []
    },
    {
      "cell_type": "code",
      "source": [
        "len(sort_df)"
      ],
      "metadata": {
        "colab": {
          "base_uri": "https://localhost:8080/"
        },
        "id": "V8yyK5WXMtqT",
        "outputId": "ab38126d-ed9f-4811-f132-6f13be3f08da"
      },
      "execution_count": null,
      "outputs": [
        {
          "output_type": "execute_result",
          "data": {
            "text/plain": [
              "1560"
            ]
          },
          "metadata": {},
          "execution_count": 26
        }
      ]
    },
    {
      "cell_type": "code",
      "source": [
        "sort_df[\"Correct\"].sum()"
      ],
      "metadata": {
        "colab": {
          "base_uri": "https://localhost:8080/"
        },
        "id": "3gc3nwyhMn4Z",
        "outputId": "7044116c-cebe-4cd8-8f1e-c8e8c9cdc9ea"
      },
      "execution_count": null,
      "outputs": [
        {
          "output_type": "execute_result",
          "data": {
            "text/plain": [
              "1549"
            ]
          },
          "metadata": {},
          "execution_count": 25
        }
      ]
    },
    {
      "cell_type": "code",
      "source": [
        "sort_df2 = sort_df[sort_df[\"Correct\"] == False]"
      ],
      "metadata": {
        "id": "4WABFc-dNFrA"
      },
      "execution_count": null,
      "outputs": []
    },
    {
      "cell_type": "code",
      "source": [
        "sort_df2"
      ],
      "metadata": {
        "colab": {
          "base_uri": "https://localhost:8080/",
          "height": 394
        },
        "id": "y0515PcFNcUm",
        "outputId": "d6404c19-bf54-4617-d43c-241dbc70f4e7"
      },
      "execution_count": null,
      "outputs": [
        {
          "output_type": "execute_result",
          "data": {
            "text/plain": [
              "                                file_name label predicted_labels  Correct\n",
              "1508  ./data/hira_better_quality/あ/28.jpg     あ                よ    False\n",
              "716   ./data/hira_better_quality/そ/16.jpg     そ                を    False\n",
              "964    ./data/hira_better_quality/つ/1.jpg     つ                ち    False\n",
              "577   ./data/hira_better_quality/ね/26.jpg     ね                れ    False\n",
              "1155  ./data/hira_better_quality/は/14.jpg     は                ほ    False\n",
              "1159  ./data/hira_better_quality/は/19.jpg     は                ほ    False\n",
              "1192  ./data/hira_better_quality/も/21.jpg     も                よ    False\n",
              "112   ./data/hira_better_quality/ゆ/24.jpg     ゆ                ぬ    False\n",
              "123   ./data/hira_better_quality/ゆ/25.jpg     ゆ                め    False\n",
              "1382   ./data/hira_better_quality/り/1.jpg     り                て    False\n",
              "399    ./data/hira_better_quality/を/5.jpg     を                そ    False"
            ],
            "text/html": [
              "\n",
              "  <div id=\"df-8e7df84b-a8ad-46f5-8ca5-14897ad907f8\">\n",
              "    <div class=\"colab-df-container\">\n",
              "      <div>\n",
              "<style scoped>\n",
              "    .dataframe tbody tr th:only-of-type {\n",
              "        vertical-align: middle;\n",
              "    }\n",
              "\n",
              "    .dataframe tbody tr th {\n",
              "        vertical-align: top;\n",
              "    }\n",
              "\n",
              "    .dataframe thead th {\n",
              "        text-align: right;\n",
              "    }\n",
              "</style>\n",
              "<table border=\"1\" class=\"dataframe\">\n",
              "  <thead>\n",
              "    <tr style=\"text-align: right;\">\n",
              "      <th></th>\n",
              "      <th>file_name</th>\n",
              "      <th>label</th>\n",
              "      <th>predicted_labels</th>\n",
              "      <th>Correct</th>\n",
              "    </tr>\n",
              "  </thead>\n",
              "  <tbody>\n",
              "    <tr>\n",
              "      <th>1508</th>\n",
              "      <td>./data/hira_better_quality/あ/28.jpg</td>\n",
              "      <td>あ</td>\n",
              "      <td>よ</td>\n",
              "      <td>False</td>\n",
              "    </tr>\n",
              "    <tr>\n",
              "      <th>716</th>\n",
              "      <td>./data/hira_better_quality/そ/16.jpg</td>\n",
              "      <td>そ</td>\n",
              "      <td>を</td>\n",
              "      <td>False</td>\n",
              "    </tr>\n",
              "    <tr>\n",
              "      <th>964</th>\n",
              "      <td>./data/hira_better_quality/つ/1.jpg</td>\n",
              "      <td>つ</td>\n",
              "      <td>ち</td>\n",
              "      <td>False</td>\n",
              "    </tr>\n",
              "    <tr>\n",
              "      <th>577</th>\n",
              "      <td>./data/hira_better_quality/ね/26.jpg</td>\n",
              "      <td>ね</td>\n",
              "      <td>れ</td>\n",
              "      <td>False</td>\n",
              "    </tr>\n",
              "    <tr>\n",
              "      <th>1155</th>\n",
              "      <td>./data/hira_better_quality/は/14.jpg</td>\n",
              "      <td>は</td>\n",
              "      <td>ほ</td>\n",
              "      <td>False</td>\n",
              "    </tr>\n",
              "    <tr>\n",
              "      <th>1159</th>\n",
              "      <td>./data/hira_better_quality/は/19.jpg</td>\n",
              "      <td>は</td>\n",
              "      <td>ほ</td>\n",
              "      <td>False</td>\n",
              "    </tr>\n",
              "    <tr>\n",
              "      <th>1192</th>\n",
              "      <td>./data/hira_better_quality/も/21.jpg</td>\n",
              "      <td>も</td>\n",
              "      <td>よ</td>\n",
              "      <td>False</td>\n",
              "    </tr>\n",
              "    <tr>\n",
              "      <th>112</th>\n",
              "      <td>./data/hira_better_quality/ゆ/24.jpg</td>\n",
              "      <td>ゆ</td>\n",
              "      <td>ぬ</td>\n",
              "      <td>False</td>\n",
              "    </tr>\n",
              "    <tr>\n",
              "      <th>123</th>\n",
              "      <td>./data/hira_better_quality/ゆ/25.jpg</td>\n",
              "      <td>ゆ</td>\n",
              "      <td>め</td>\n",
              "      <td>False</td>\n",
              "    </tr>\n",
              "    <tr>\n",
              "      <th>1382</th>\n",
              "      <td>./data/hira_better_quality/り/1.jpg</td>\n",
              "      <td>り</td>\n",
              "      <td>て</td>\n",
              "      <td>False</td>\n",
              "    </tr>\n",
              "    <tr>\n",
              "      <th>399</th>\n",
              "      <td>./data/hira_better_quality/を/5.jpg</td>\n",
              "      <td>を</td>\n",
              "      <td>そ</td>\n",
              "      <td>False</td>\n",
              "    </tr>\n",
              "  </tbody>\n",
              "</table>\n",
              "</div>\n",
              "      <button class=\"colab-df-convert\" onclick=\"convertToInteractive('df-8e7df84b-a8ad-46f5-8ca5-14897ad907f8')\"\n",
              "              title=\"Convert this dataframe to an interactive table.\"\n",
              "              style=\"display:none;\">\n",
              "        \n",
              "  <svg xmlns=\"http://www.w3.org/2000/svg\" height=\"24px\"viewBox=\"0 0 24 24\"\n",
              "       width=\"24px\">\n",
              "    <path d=\"M0 0h24v24H0V0z\" fill=\"none\"/>\n",
              "    <path d=\"M18.56 5.44l.94 2.06.94-2.06 2.06-.94-2.06-.94-.94-2.06-.94 2.06-2.06.94zm-11 1L8.5 8.5l.94-2.06 2.06-.94-2.06-.94L8.5 2.5l-.94 2.06-2.06.94zm10 10l.94 2.06.94-2.06 2.06-.94-2.06-.94-.94-2.06-.94 2.06-2.06.94z\"/><path d=\"M17.41 7.96l-1.37-1.37c-.4-.4-.92-.59-1.43-.59-.52 0-1.04.2-1.43.59L10.3 9.45l-7.72 7.72c-.78.78-.78 2.05 0 2.83L4 21.41c.39.39.9.59 1.41.59.51 0 1.02-.2 1.41-.59l7.78-7.78 2.81-2.81c.8-.78.8-2.07 0-2.86zM5.41 20L4 18.59l7.72-7.72 1.47 1.35L5.41 20z\"/>\n",
              "  </svg>\n",
              "      </button>\n",
              "      \n",
              "  <style>\n",
              "    .colab-df-container {\n",
              "      display:flex;\n",
              "      flex-wrap:wrap;\n",
              "      gap: 12px;\n",
              "    }\n",
              "\n",
              "    .colab-df-convert {\n",
              "      background-color: #E8F0FE;\n",
              "      border: none;\n",
              "      border-radius: 50%;\n",
              "      cursor: pointer;\n",
              "      display: none;\n",
              "      fill: #1967D2;\n",
              "      height: 32px;\n",
              "      padding: 0 0 0 0;\n",
              "      width: 32px;\n",
              "    }\n",
              "\n",
              "    .colab-df-convert:hover {\n",
              "      background-color: #E2EBFA;\n",
              "      box-shadow: 0px 1px 2px rgba(60, 64, 67, 0.3), 0px 1px 3px 1px rgba(60, 64, 67, 0.15);\n",
              "      fill: #174EA6;\n",
              "    }\n",
              "\n",
              "    [theme=dark] .colab-df-convert {\n",
              "      background-color: #3B4455;\n",
              "      fill: #D2E3FC;\n",
              "    }\n",
              "\n",
              "    [theme=dark] .colab-df-convert:hover {\n",
              "      background-color: #434B5C;\n",
              "      box-shadow: 0px 1px 3px 1px rgba(0, 0, 0, 0.15);\n",
              "      filter: drop-shadow(0px 1px 2px rgba(0, 0, 0, 0.3));\n",
              "      fill: #FFFFFF;\n",
              "    }\n",
              "  </style>\n",
              "\n",
              "      <script>\n",
              "        const buttonEl =\n",
              "          document.querySelector('#df-8e7df84b-a8ad-46f5-8ca5-14897ad907f8 button.colab-df-convert');\n",
              "        buttonEl.style.display =\n",
              "          google.colab.kernel.accessAllowed ? 'block' : 'none';\n",
              "\n",
              "        async function convertToInteractive(key) {\n",
              "          const element = document.querySelector('#df-8e7df84b-a8ad-46f5-8ca5-14897ad907f8');\n",
              "          const dataTable =\n",
              "            await google.colab.kernel.invokeFunction('convertToInteractive',\n",
              "                                                     [key], {});\n",
              "          if (!dataTable) return;\n",
              "\n",
              "          const docLinkHtml = 'Like what you see? Visit the ' +\n",
              "            '<a target=\"_blank\" href=https://colab.research.google.com/notebooks/data_table.ipynb>data table notebook</a>'\n",
              "            + ' to learn more about interactive tables.';\n",
              "          element.innerHTML = '';\n",
              "          dataTable['output_type'] = 'display_data';\n",
              "          await google.colab.output.renderOutput(dataTable, element);\n",
              "          const docLink = document.createElement('div');\n",
              "          docLink.innerHTML = docLinkHtml;\n",
              "          element.appendChild(docLink);\n",
              "        }\n",
              "      </script>\n",
              "    </div>\n",
              "  </div>\n",
              "  "
            ]
          },
          "metadata": {},
          "execution_count": 29
        }
      ]
    },
    {
      "cell_type": "code",
      "source": [
        "1549/1560"
      ],
      "metadata": {
        "colab": {
          "base_uri": "https://localhost:8080/"
        },
        "id": "drTX_8NbeoKK",
        "outputId": "17930e9f-829a-476a-f596-0f8cd4eb0adf"
      },
      "execution_count": null,
      "outputs": [
        {
          "output_type": "execute_result",
          "data": {
            "text/plain": [
              "0.992948717948718"
            ]
          },
          "metadata": {},
          "execution_count": 1
        }
      ]
    },
    {
      "cell_type": "code",
      "source": [
        "len(sort_df2)"
      ],
      "metadata": {
        "colab": {
          "base_uri": "https://localhost:8080/"
        },
        "id": "COUy8iG5Plj1",
        "outputId": "46b3f38a-2a88-4667-e0db-ea68df54a02b"
      },
      "execution_count": null,
      "outputs": [
        {
          "output_type": "execute_result",
          "data": {
            "text/plain": [
              "11"
            ]
          },
          "metadata": {},
          "execution_count": 33
        }
      ]
    },
    {
      "cell_type": "markdown",
      "source": [
        "Create a plot to view"
      ],
      "metadata": {
        "id": "12dzTO1LQyyz"
      }
    },
    {
      "cell_type": "code",
      "source": [
        "from PIL import Image\n"
      ],
      "metadata": {
        "id": "s1bZxMo1RDXK"
      },
      "execution_count": null,
      "outputs": []
    },
    {
      "cell_type": "code",
      "source": [
        "num_rows = len(sort_df)\n",
        "num_cols = 1"
      ],
      "metadata": {
        "id": "AIQYfBJuW3jJ"
      },
      "execution_count": null,
      "outputs": []
    },
    {
      "cell_type": "code",
      "source": [
        "fig, axs = plt.subplots(len(sort_df2)-1, 1, figsize=(2, 10))\n",
        "\n",
        "# Iterate over the rows of the DataFrame\n",
        "i = 0\n",
        "for index, row in sort_df2.iterrows():\n",
        "    # Get the image path, label, and predicted label\n",
        "    if index == 964: continue\n",
        "    image_path = row['file_name']\n",
        "    label = row['label']\n",
        "    predicted_label = row['predicted_labels']\n",
        "\n",
        "    # Load and display the image\n",
        "    image = Image.open(image_path)\n",
        "    plt.imshow(image)\n",
        "    # print(image)\n",
        "    axs[i].imshow(image)\n",
        "    axs[i].set_title(f'Label: {label} Predicted: {predicted_label}')\n",
        "    axs[i].axis('off')\n",
        "\n",
        "    axs[i].set_xticks([])\n",
        "    axs[i].set_yticks([])\n",
        "    i+= 1\n",
        "\n",
        "# Adjust the spacing between subplots\n",
        "# plt.tight_layout()\n",
        "plt.subplots_adjust(left=0.1, right=0.9, bottom=0.1, top=0.9, wspace=0.2, hspace=0.5)\n",
        "\n",
        "plt.savefig('./models/1/explore_model/wrong_results.jpg')\n",
        "# Show the plot\n",
        "plt.show()\n"
      ],
      "metadata": {
        "colab": {
          "base_uri": "https://localhost:8080/",
          "height": 858
        },
        "id": "ftdzzt8mQN6B",
        "outputId": "c503a292-76f9-4892-f3a4-0c5ae233ebfa"
      },
      "execution_count": null,
      "outputs": [
        {
          "output_type": "display_data",
          "data": {
            "text/plain": [
              "<Figure size 200x1000 with 10 Axes>"
            ],
            "image/png": "[encoded data removed]"
          },
          "metadata": {}
        }
      ]
    },
    {
      "cell_type": "code",
      "source": [
        "image_path = \"./data/hira_better_quality/ん/15.jpg\"\n",
        "a = inference_for_an_image(image_path = image_path, model_x = model_x)\n",
        "print(a)"
      ],
      "metadata": {
        "colab": {
          "base_uri": "https://localhost:8080/"
        },
        "id": "3rrqG6-k9Z2J",
        "outputId": "5da402af-11cd-4523-a0e5-14c1c0985933"
      },
      "execution_count": null,
      "outputs": [
        {
          "output_type": "stream",
          "name": "stdout",
          "text": [
            "./data/hira_better_quality/ん/15.jpg\n",
            "torch.Size([1, 3, 224, 224])\n",
            "ん\n"
          ]
        }
      ]
    },
    {
      "cell_type": "code",
      "source": [
        "test_df[\"predicted_labels\"] = df[\"file_name\"].apply(lambda x : inference_for_an_image(str(x), model_x))"
      ],
      "metadata": {
        "id": "IDQWNCyF-lLJ"
      },
      "execution_count": null,
      "outputs": []
    },
    {
      "cell_type": "code",
      "source": [
        "comparison = test_df[\"label\"] == test_df[\"predicted_labels\"]"
      ],
      "metadata": {
        "id": "wc7yqbWWA0pl"
      },
      "execution_count": null,
      "outputs": []
    },
    {
      "cell_type": "code",
      "source": [
        "test_df[\"Correct\"] = comparison"
      ],
      "metadata": {
        "id": "rdxrznAaBmV6"
      },
      "execution_count": null,
      "outputs": []
    },
    {
      "cell_type": "code",
      "source": [
        "len(test_df)"
      ],
      "metadata": {
        "colab": {
          "base_uri": "https://localhost:8080/"
        },
        "id": "vKhnTZFrDTCP",
        "outputId": "a3576a56-9a8a-49a7-adf6-1b86c1d55da7"
      },
      "execution_count": null,
      "outputs": [
        {
          "output_type": "execute_result",
          "data": {
            "text/plain": [
              "312"
            ]
          },
          "metadata": {},
          "execution_count": 160
        }
      ]
    },
    {
      "cell_type": "code",
      "source": [
        "test_df[\"Correct\"].sum()"
      ],
      "metadata": {
        "colab": {
          "base_uri": "https://localhost:8080/"
        },
        "id": "pEm-QuZFDFMA",
        "outputId": "79f58251-359c-4805-f7a7-fcad461d80d4"
      },
      "execution_count": null,
      "outputs": [
        {
          "output_type": "execute_result",
          "data": {
            "text/plain": [
              "301"
            ]
          },
          "metadata": {},
          "execution_count": 159
        }
      ]
    },
    {
      "cell_type": "code",
      "source": [
        "301/312"
      ],
      "metadata": {
        "colab": {
          "base_uri": "https://localhost:8080/"
        },
        "id": "ipefPOQzDVcf",
        "outputId": "e7f2d610-fe6e-4aff-b990-6a49ec118383"
      },
      "execution_count": null,
      "outputs": [
        {
          "output_type": "execute_result",
          "data": {
            "text/plain": [
              "0.9647435897435898"
            ]
          },
          "metadata": {},
          "execution_count": 161
        }
      ]
    },
    {
      "cell_type": "code",
      "source": [
        "test_df2 =  test_df[test_df[\"Correct\"] == False]"
      ],
      "metadata": {
        "id": "9j6b0FkYEXKZ"
      },
      "execution_count": null,
      "outputs": []
    },
    {
      "cell_type": "code",
      "source": [
        "test_df2"
      ],
      "metadata": {
        "id": "HXoH1wfzFf8o",
        "outputId": "894ee3a5-990d-430b-9710-38376fc87155",
        "colab": {
          "base_uri": "https://localhost:8080/",
          "height": 166
        }
      },
      "execution_count": null,
      "outputs": [
        {
          "output_type": "error",
          "ename": "NameError",
          "evalue": "ignored",
          "traceback": [
            "\u001b[0;31m---------------------------------------------------------------------------\u001b[0m",
            "\u001b[0;31mNameError\u001b[0m                                 Traceback (most recent call last)",
            "\u001b[0;32m<ipython-input-1-93ba4b14fa04>\u001b[0m in \u001b[0;36m<cell line: 1>\u001b[0;34m()\u001b[0m\n\u001b[0;32m----> 1\u001b[0;31m \u001b[0mtest_df2\u001b[0m\u001b[0;34m\u001b[0m\u001b[0;34m\u001b[0m\u001b[0m\n\u001b[0m",
            "\u001b[0;31mNameError\u001b[0m: name 'test_df2' is not defined"
          ]
        }
      ]
    },
    {
      "cell_type": "markdown",
      "source": [
        "##8.2. Save explored results"
      ],
      "metadata": {
        "id": "4Od1y12-CIVO"
      }
    },
    {
      "cell_type": "code",
      "source": [
        "explored_saved_results_path = \"./models/1/explore_model/all_data_results.xlsx\""
      ],
      "metadata": {
        "id": "v0dkIbdDCHLR"
      },
      "execution_count": null,
      "outputs": []
    },
    {
      "cell_type": "code",
      "source": [
        "sort_df.to_excel(explored_saved_results_path, index = False)"
      ],
      "metadata": {
        "id": "loa9d2ehCZ7V"
      },
      "execution_count": null,
      "outputs": []
    },
    {
      "cell_type": "markdown",
      "source": [
        "#9. References\n",
        "+ https://towardsdatascience.com/pytorch-image-classification-tutorial-for-beginners-94ea13f56f2"
      ],
      "metadata": {
        "id": "QLhG9cIriDh-"
      }
    },
    {
      "cell_type": "markdown",
      "source": [
        "#10. Draft code"
      ],
      "metadata": {
        "id": "93a7puMAK6i9"
      }
    },
    {
      "cell_type": "code",
      "source": [
        "import albumentations as A\n",
        "from albumentations.pytorch import ToTensorV2"
      ],
      "metadata": {
        "id": "MX-cva3tfPve"
      },
      "execution_count": null,
      "outputs": []
    },
    {
      "cell_type": "code",
      "source": [
        "image_path = \"./data/hira_better_quality/ん/15.jpg\""
      ],
      "metadata": {
        "id": "d9yiIs2rLCY9"
      },
      "execution_count": null,
      "outputs": []
    },
    {
      "cell_type": "code",
      "source": [
        "img = cv2.imread(image_path)"
      ],
      "metadata": {
        "id": "3-ZEa1TRLamm"
      },
      "execution_count": null,
      "outputs": []
    },
    {
      "cell_type": "code",
      "source": [
        "img.shape\n"
      ],
      "metadata": {
        "colab": {
          "base_uri": "https://localhost:8080/"
        },
        "id": "PAWKVxIALc1x",
        "outputId": "9ee5de3a-a4f5-41ea-9bd8-1dac17de6c3f"
      },
      "execution_count": null,
      "outputs": [
        {
          "output_type": "execute_result",
          "data": {
            "text/plain": [
              "(180, 180, 3)"
            ]
          },
          "metadata": {},
          "execution_count": 12
        }
      ]
    },
    {
      "cell_type": "code",
      "source": [
        "train_transform = A.Compose(\n",
        "    [\n",
        "        A.SmallestMaxSize(max_size=160),\n",
        "        A.ShiftScaleRotate(shift_limit=0.05, scale_limit=0.05, rotate_limit=15, p=0.5),\n",
        "        A.RandomCrop(height=128, width=128),\n",
        "        A.RGBShift(r_shift_limit=15, g_shift_limit=15, b_shift_limit=15, p=0.5),\n",
        "        A.RandomBrightnessContrast(p=0.5),\n",
        "        A.Normalize(mean=(0.485, 0.456, 0.406), std=(0.229, 0.224, 0.225)),\n",
        "        ToTensorV2(),\n",
        "    ]\n",
        ")"
      ],
      "metadata": {
        "id": "S4i3t1k0Ldia"
      },
      "execution_count": null,
      "outputs": []
    },
    {
      "cell_type": "code",
      "source": [
        "a = train_transform(image = img,)"
      ],
      "metadata": {
        "id": "a8LP-abUMBjO"
      },
      "execution_count": null,
      "outputs": []
    },
    {
      "cell_type": "code",
      "source": [
        "a"
      ],
      "metadata": {
        "colab": {
          "base_uri": "https://localhost:8080/"
        },
        "id": "m4Tdpc23MNqT",
        "outputId": "8e670d8b-2c08-4681-c2d9-d11a53a0c045"
      },
      "execution_count": null,
      "outputs": [
        {
          "output_type": "execute_result",
          "data": {
            "text/plain": [
              "{'image': tensor([[[0.8276, 0.8276, 0.8276,  ..., 0.8276, 0.8276, 0.8276],\n",
              "          [0.8276, 0.8276, 0.8276,  ..., 0.8276, 0.8276, 0.8276],\n",
              "          [0.8276, 0.8276, 0.8276,  ..., 0.8276, 0.8276, 0.8276],\n",
              "          ...,\n",
              "          [0.8276, 0.8276, 0.8276,  ..., 0.8276, 0.8276, 0.8276],\n",
              "          [0.8276, 0.8276, 0.8276,  ..., 0.8276, 0.8276, 0.8276],\n",
              "          [0.8276, 0.8276, 0.8276,  ..., 0.8276, 0.8276, 0.8276]],\n",
              " \n",
              "         [[0.9405, 0.9405, 0.9405,  ..., 0.9405, 0.9405, 0.9405],\n",
              "          [0.9405, 0.9405, 0.9405,  ..., 0.9405, 0.9405, 0.9405],\n",
              "          [0.9405, 0.9405, 0.9405,  ..., 0.9405, 0.9405, 0.9405],\n",
              "          ...,\n",
              "          [0.9405, 0.9405, 0.9405,  ..., 0.9405, 0.9405, 0.9405],\n",
              "          [0.9405, 0.9405, 0.9405,  ..., 0.9405, 0.9405, 0.9405],\n",
              "          [0.9405, 0.9405, 0.9405,  ..., 0.9405, 0.9405, 0.9405]],\n",
              " \n",
              "         [[1.0714, 1.0714, 1.0714,  ..., 1.0714, 1.0714, 1.0714],\n",
              "          [1.0714, 1.0714, 1.0714,  ..., 1.0714, 1.0714, 1.0714],\n",
              "          [1.0714, 1.0714, 1.0714,  ..., 1.0714, 1.0714, 1.0714],\n",
              "          ...,\n",
              "          [1.0714, 1.0714, 1.0714,  ..., 1.0714, 1.0714, 1.0714],\n",
              "          [1.0714, 1.0714, 1.0714,  ..., 1.0714, 1.0714, 1.0714],\n",
              "          [1.0714, 1.0714, 1.0714,  ..., 1.0714, 1.0714, 1.0714]]])}"
            ]
          },
          "metadata": {},
          "execution_count": 16
        }
      ]
    },
    {
      "cell_type": "code",
      "source": [],
      "metadata": {
        "id": "HehzwsQ-MSFq"
      },
      "execution_count": null,
      "outputs": []
    }
  ]
}