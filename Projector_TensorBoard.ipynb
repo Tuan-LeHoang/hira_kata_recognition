{
  "nbformat": 4,
  "nbformat_minor": 0,
  "metadata": {
    "colab": {
      "provenance": [],
      "machine_shape": "hm",
      "gpuType": "T4",
      "mount_file_id": "1vSXKBdZlgmlnOcvH4toJ-Fz9QlG3dnhM",
      "authorship_tag": "ABX9TyPXoVSiu4VpTseslEkeRRSZ",
      "include_colab_link": true
    },
    "kernelspec": {
      "name": "python3",
      "display_name": "Python 3"
    },
    "language_info": {
      "name": "python"
    },
    "accelerator": "GPU"
  },
  "cells": [
    {
      "cell_type": "markdown",
      "metadata": {
        "id": "view-in-github",
        "colab_type": "text"
      },
      "source": [
        "<a href=\"https://colab.research.google.com/github/Tuan-LeHoang/hira_kata_recognition/blob/main/Projector_TensorBoard.ipynb\" target=\"_parent\"><img src=\"https://colab.research.google.com/assets/colab-badge.svg\" alt=\"Open In Colab\"/></a>"
      ]
    },
    {
      "cell_type": "code",
      "execution_count": 1,
      "metadata": {
        "colab": {
          "base_uri": "https://localhost:8080/"
        },
        "id": "1ru93VD9ynCc",
        "outputId": "cc17b991-09a4-4cf0-d88c-1e66ea63c127"
      },
      "outputs": [
        {
          "output_type": "stream",
          "name": "stdout",
          "text": [
            "/content/drive/MyDrive/2023_Project/OCR\n"
          ]
        }
      ],
      "source": [
        "%cd /content/drive/MyDrive/2023_Project/OCR"
      ]
    },
    {
      "cell_type": "code",
      "source": [
        "# !pip install japanize_matplotlib\n",
        "# !pip install timm"
      ],
      "metadata": {
        "id": "Fym1qxt7zteT"
      },
      "execution_count": null,
      "outputs": []
    },
    {
      "cell_type": "markdown",
      "source": [
        "#1. Import libs"
      ],
      "metadata": {
        "id": "BXwK1fmYz2tI"
      }
    },
    {
      "cell_type": "code",
      "source": [
        "import torch\n",
        "import torch.nn as nn\n",
        "from torch.utils.data import Dataset, DataLoader\n",
        "\n",
        "import cv2\n",
        "\n",
        "import albumentations as A\n",
        "from albumentations.pytorch import ToTensorV2\n",
        "\n",
        "import numpy as np # data processing\n",
        "import matplotlib.pyplot as plt # Data visualization\n",
        "import japanize_matplotlib\n",
        "from tqdm import tqdm # Progress bar\n",
        "\n",
        "import os\n",
        "import pandas as pd\n",
        "import torch.nn.functional as F"
      ],
      "metadata": {
        "id": "7f7bpnWjz1-2"
      },
      "execution_count": 3,
      "outputs": []
    },
    {
      "cell_type": "markdown",
      "source": [
        "#2. Load data"
      ],
      "metadata": {
        "id": "WjVRz4oY064Y"
      }
    },
    {
      "cell_type": "code",
      "source": [
        "list_characters_folders = \"./git_lfs_handwritten_hira/hira_better_quality\""
      ],
      "metadata": {
        "id": "XLSU0uLI0C-1"
      },
      "execution_count": 4,
      "outputs": []
    },
    {
      "cell_type": "code",
      "source": [
        "data = []\n",
        "for folder in os.listdir(list_characters_folders):\n",
        "    if folder == \".DS_Store\":\n",
        "        continue\n",
        "    character_folder = os.path.join(list_characters_folders, folder)\n",
        "\n",
        "    for character_image in os.listdir(character_folder):\n",
        "        if character_image == \".DS_Store\":\n",
        "            continue\n",
        "        character_image_path = os.path.join(character_folder, character_image)\n",
        "        data.append([character_image_path, folder])\n",
        "\n",
        "df = pd.DataFrame(data, columns=['file_name','label'])"
      ],
      "metadata": {
        "id": "PP8KF5Cl04UA"
      },
      "execution_count": 5,
      "outputs": []
    },
    {
      "cell_type": "code",
      "source": [
        "sort_df = df.sort_values(by=[\"label\"])\n"
      ],
      "metadata": {
        "id": "ODnuCNjT1FpZ"
      },
      "execution_count": 6,
      "outputs": []
    },
    {
      "cell_type": "code",
      "source": [
        "labels = sort_df[\"label\"].unique()\n",
        "print(labels)"
      ],
      "metadata": {
        "colab": {
          "base_uri": "https://localhost:8080/"
        },
        "id": "5r9vGskP1NXp",
        "outputId": "42a0f2ea-03d3-4b31-fc17-3b7ef1ce8723"
      },
      "execution_count": 7,
      "outputs": [
        {
          "output_type": "stream",
          "name": "stdout",
          "text": [
            "['あ' 'い' 'う' 'え' 'お' 'か' 'き' 'く' 'け' 'こ' 'さ' 'し' 'す' 'せ' 'そ' 'た' 'ち' 'つ'\n",
            " 'て' 'と' 'な' 'に' 'ぬ' 'ね' 'の' 'は' 'ひ' 'ふ' 'へ' 'ほ' 'ま' 'み' 'む' 'め' 'も' 'や'\n",
            " 'ゆ' 'よ' 'ら' 'り' 'る' 'れ' 'ろ' 'わ' 'を' 'ん']\n"
          ]
        }
      ]
    },
    {
      "cell_type": "markdown",
      "source": [
        "##2.1. Split data"
      ],
      "metadata": {
        "id": "274oagpL1bMA"
      }
    },
    {
      "cell_type": "code",
      "source": [
        "from sklearn.model_selection import train_test_split\n",
        "\n",
        "train_df, test_df = train_test_split(sort_df,\n",
        "                                      test_size = 0.2,\n",
        "                                      random_state = 42)"
      ],
      "metadata": {
        "id": "JsxZDlEW1Q_g"
      },
      "execution_count": 8,
      "outputs": []
    },
    {
      "cell_type": "markdown",
      "source": [
        "##2.2. Convert one-hot"
      ],
      "metadata": {
        "id": "1pg9TJ-L1yoi"
      }
    },
    {
      "cell_type": "code",
      "source": [
        "from sklearn.preprocessing import LabelEncoder, OneHotEncoder\n"
      ],
      "metadata": {
        "id": "mNPPR7T_16at"
      },
      "execution_count": 9,
      "outputs": []
    },
    {
      "cell_type": "code",
      "source": [
        "# Convert labels to numeric representation\n",
        "def convert_to_one_hot_vector_labels(labels):\n",
        "  label_encoder = LabelEncoder()\n",
        "  numeric_labels = label_encoder.fit_transform(labels)\n",
        "  # print(\"Numeric labels:\", numeric_labels)\n",
        "\n",
        "  # Convert numeric labels to one-hot vectors\n",
        "  onehot_encoder = OneHotEncoder(sparse=False)\n",
        "  onehot_labels = onehot_encoder.fit_transform(numeric_labels.reshape(-1, 1))\n",
        "\n",
        "  return onehot_labels"
      ],
      "metadata": {
        "id": "XA4ROARO1-Y8"
      },
      "execution_count": 10,
      "outputs": []
    },
    {
      "cell_type": "markdown",
      "source": [
        "##2.3. Dataset and Dataloader"
      ],
      "metadata": {
        "id": "PW2IRA-H1kD7"
      }
    },
    {
      "cell_type": "code",
      "source": [
        "from types import SimpleNamespace\n",
        "\n",
        "cfg = SimpleNamespace(**{})"
      ],
      "metadata": {
        "id": "kcmhnSbF1e03"
      },
      "execution_count": 11,
      "outputs": []
    },
    {
      "cell_type": "code",
      "source": [
        "cfg.root_dir = list_characters_folders\n",
        "cfg.image_size = 224\n",
        "cfg.batch_size = 32\n",
        "cfg.device = torch.device(\"cuda:0\" if torch.cuda.is_available() else \"cpu\")"
      ],
      "metadata": {
        "id": "NTNsg3jz1oLv"
      },
      "execution_count": 12,
      "outputs": []
    },
    {
      "cell_type": "code",
      "source": [
        "cfg.len_embedding_space = len(labels)"
      ],
      "metadata": {
        "id": "PrsFhiKI-S-F"
      },
      "execution_count": 26,
      "outputs": []
    },
    {
      "cell_type": "code",
      "source": [
        "cfg.len_embedding_space"
      ],
      "metadata": {
        "id": "L6kfpfOF-fqa"
      },
      "execution_count": null,
      "outputs": []
    },
    {
      "cell_type": "code",
      "source": [
        "class CustomDataset(Dataset):\n",
        "    def __init__(self,\n",
        "                 cfg,\n",
        "                 df,\n",
        "                 transform=None,\n",
        "                  mode = None):\n",
        "        self.root_dir = cfg.root_dir\n",
        "        self.df = df\n",
        "        self.file_names = df['file_name'].values\n",
        "        self.labels = convert_to_one_hot_vector_labels(df['label'].values)\n",
        "\n",
        "        if transform and mode != \"val\":\n",
        "          self.transform = transform\n",
        "        elif mode == \"train\":\n",
        "          self.transform = A.Compose([A.Resize(cfg.image_size, cfg.image_size),\n",
        "                             A.Rotate(p=0.6, limit=[-20,20]),\n",
        "                            #  A.HorizontalFlip(p = 0.6),\n",
        "                             A.CoarseDropout(max_holes = 1, max_height = 32, max_width = 32, p = 0.3),\n",
        "                             ToTensorV2()])\n",
        "        elif mode == \"val\":\n",
        "          self.transform = A.Compose([A.Resize(cfg.image_size, cfg.image_size),\n",
        "                             ToTensorV2()])\n",
        "\n",
        "\n",
        "    def __len__(self):\n",
        "        return len(self.df)\n",
        "\n",
        "    def __getitem__(self, idx):\n",
        "        # Get file_path and label for index\n",
        "        label = self.labels[idx]\n",
        "        file_path = self.file_names[idx]\n",
        "        # file_path = os.path.join(self.root_dir, self.file_names[idx])\n",
        "\n",
        "        # Read an image with OpenCV\n",
        "        image = cv2.imread(file_path)\n",
        "\n",
        "        # Convert the image to RGB color space.\n",
        "        image = cv2.cvtColor(image, cv2.COLOR_BGR2RGB)\n",
        "        # Apply augmentations\n",
        "        augmented = self.transform(image=image)\n",
        "        image = augmented['image']\n",
        "\n",
        "        # Normalize because ToTensorV2() doesn't normalize the image\n",
        "        image = image/255\n",
        "\n",
        "        return image, label"
      ],
      "metadata": {
        "id": "15hHpkaV1qh2"
      },
      "execution_count": 13,
      "outputs": []
    },
    {
      "cell_type": "code",
      "source": [
        "train_dataset = CustomDataset(cfg, train_df, mode = \"train\")\n",
        "valid_dataset = CustomDataset(cfg, test_df, mode = \"val\")\n",
        "\n",
        "train_dataloader = DataLoader(train_dataset,\n",
        "                          batch_size = cfg.batch_size,\n",
        "                          shuffle = True)\n",
        "\n",
        "valid_dataloader = DataLoader(valid_dataset,\n",
        "                          batch_size = cfg.batch_size,\n",
        "                          shuffle = False,\n",
        "                              )"
      ],
      "metadata": {
        "colab": {
          "base_uri": "https://localhost:8080/"
        },
        "id": "5B_dwjKD1te9",
        "outputId": "fb87d433-d346-4fe8-ac0b-32ec76ba3f19"
      },
      "execution_count": 14,
      "outputs": [
        {
          "output_type": "stream",
          "name": "stderr",
          "text": [
            "/usr/local/lib/python3.10/dist-packages/sklearn/preprocessing/_encoders.py:868: FutureWarning: `sparse` was renamed to `sparse_output` in version 1.2 and will be removed in 1.4. `sparse_output` is ignored unless you leave `sparse` to its default value.\n",
            "  warnings.warn(\n",
            "/usr/local/lib/python3.10/dist-packages/sklearn/preprocessing/_encoders.py:868: FutureWarning: `sparse` was renamed to `sparse_output` in version 1.2 and will be removed in 1.4. `sparse_output` is ignored unless you leave `sparse` to its default value.\n",
            "  warnings.warn(\n"
          ]
        }
      ]
    },
    {
      "cell_type": "markdown",
      "source": [
        "#3. Model"
      ],
      "metadata": {
        "id": "VJ67w_in2iV1"
      }
    },
    {
      "cell_type": "code",
      "source": [
        "# import timm\n",
        "\n",
        "# cfg.n_classes = len(labels)\n",
        "# cfg.backbone = 'resnet18'\n",
        "\n",
        "# model = timm.create_model(cfg.backbone,\n",
        "#                           pretrained = False,\n",
        "#                           num_classes = cfg.n_classes)"
      ],
      "metadata": {
        "id": "_lkcqFeU2Ohj"
      },
      "execution_count": 15,
      "outputs": []
    },
    {
      "cell_type": "code",
      "source": [
        "model_path_for_exploring = \"./models/1/model.pt\"\n",
        "model_x = torch.load(model_path_for_exploring)"
      ],
      "metadata": {
        "id": "fmVeLwpV24Y-"
      },
      "execution_count": 16,
      "outputs": []
    },
    {
      "cell_type": "code",
      "source": [
        "model_x = model_x.to(cfg.device)"
      ],
      "metadata": {
        "id": "yD8bsuGC25Fn"
      },
      "execution_count": 17,
      "outputs": []
    },
    {
      "cell_type": "code",
      "source": [
        "model_x.fc = torch.nn.Identity()"
      ],
      "metadata": {
        "id": "99amf6ei7XVc"
      },
      "execution_count": 24,
      "outputs": []
    },
    {
      "cell_type": "markdown",
      "source": [
        "#4. Get data"
      ],
      "metadata": {
        "id": "uslktj7b3sBe"
      }
    },
    {
      "cell_type": "code",
      "source": [
        "# get some random training images\n",
        "dataiter = iter(valid_dataloader)\n",
        "images, labels = next(dataiter)"
      ],
      "metadata": {
        "id": "iuoK9NSg3oLK"
      },
      "execution_count": 18,
      "outputs": []
    },
    {
      "cell_type": "markdown",
      "source": [
        "#5. Set up tensor board"
      ],
      "metadata": {
        "id": "NpuTiVB6Cmyj"
      }
    },
    {
      "cell_type": "code",
      "source": [
        "from torch.utils.tensorboard import SummaryWriter\n",
        "import datetime"
      ],
      "metadata": {
        "id": "sTWyhe9jCpU_"
      },
      "execution_count": 35,
      "outputs": []
    },
    {
      "cell_type": "code",
      "source": [
        "log_dir = \"logs/tensorboard_learning/projector/\" + datetime.datetime.now().strftime(\"%Y%m%d-%H%M%S\")"
      ],
      "metadata": {
        "id": "8Az5udgQCrZb"
      },
      "execution_count": 37,
      "outputs": []
    },
    {
      "cell_type": "code",
      "source": [
        "writer = SummaryWriter(log_dir = log_dir)"
      ],
      "metadata": {
        "id": "xi9HZGK0C3sS"
      },
      "execution_count": 38,
      "outputs": []
    },
    {
      "cell_type": "markdown",
      "source": [
        "#5. Caculate embedding space"
      ],
      "metadata": {
        "id": "tFA2vlfC80rW"
      }
    },
    {
      "cell_type": "code",
      "source": [
        "def caculate_embedding_vectors(dataloader, model, cfg):\n",
        "    # Validation mode\n",
        "    model.eval()\n",
        "\n",
        "    embedding_vector_list = []\n",
        "\n",
        "    # Iterate over data\n",
        "    for step, batch in tqdm(enumerate(dataloader), total=len(dataloader)):\n",
        "        X = batch[0].to(cfg.device)\n",
        "        y = batch[1].to(cfg.device)\n",
        "\n",
        "        with torch.no_grad():\n",
        "            # Forward: Get model outputs\n",
        "            y_pred = model(X)\n",
        "            embedding_vector_list.append(y_pred)\n",
        "\n",
        "    embedding_vector_tensor = torch.cat(embedding_vector_list)\n",
        "\n",
        "    return embedding_vector_tensor\n"
      ],
      "metadata": {
        "id": "4610OZRx83P7"
      },
      "execution_count": 32,
      "outputs": []
    },
    {
      "cell_type": "code",
      "source": [
        "embedding_vector_tensor = caculate_embedding_vectors(valid_dataloader, model_x, cfg)"
      ],
      "metadata": {
        "colab": {
          "base_uri": "https://localhost:8080/"
        },
        "id": "UNn1jakU-94u",
        "outputId": "1c5257dc-428b-4f8f-a21b-b2939d7b92dd"
      },
      "execution_count": 33,
      "outputs": [
        {
          "output_type": "stream",
          "name": "stderr",
          "text": [
            "100%|██████████| 16/16 [00:01<00:00, 11.78it/s]\n"
          ]
        }
      ]
    },
    {
      "cell_type": "code",
      "source": [
        "embedding_vector_tensor.shape"
      ],
      "metadata": {
        "colab": {
          "base_uri": "https://localhost:8080/"
        },
        "id": "-aNAWxgp_Klj",
        "outputId": "e15561cc-5e2b-481a-84dd-9ec1a38bad90"
      },
      "execution_count": 34,
      "outputs": [
        {
          "output_type": "execute_result",
          "data": {
            "text/plain": [
              "torch.Size([496, 512])"
            ]
          },
          "metadata": {},
          "execution_count": 34
        }
      ]
    },
    {
      "cell_type": "markdown",
      "source": [
        "#6. Get the lables for each images"
      ],
      "metadata": {
        "id": "HP2X3pfpEa_F"
      }
    },
    {
      "cell_type": "code",
      "source": [
        "images_labels = test_df[\"label\"].values"
      ],
      "metadata": {
        "id": "CGv6vhrfEesP"
      },
      "execution_count": 43,
      "outputs": []
    },
    {
      "cell_type": "code",
      "source": [
        "len(images_labels)"
      ],
      "metadata": {
        "colab": {
          "base_uri": "https://localhost:8080/"
        },
        "id": "FV-FQM1lE1N4",
        "outputId": "8db626c4-96ae-4bc9-8570-9b1acbc563f6"
      },
      "execution_count": 45,
      "outputs": [
        {
          "output_type": "execute_result",
          "data": {
            "text/plain": [
              "496"
            ]
          },
          "metadata": {},
          "execution_count": 45
        }
      ]
    },
    {
      "cell_type": "markdown",
      "source": [
        "#7. Create a sprite image"
      ],
      "metadata": {
        "id": "odbx3zrHCPU2"
      }
    },
    {
      "cell_type": "code",
      "source": [
        "def load_images(dataloader):\n",
        "    # Validation mode\n",
        "\n",
        "    list_images = []\n",
        "\n",
        "    # Iterate over data\n",
        "    for step, batch in tqdm(enumerate(dataloader), total=len(dataloader)):\n",
        "      X = batch[0]\n",
        "      list_images.append(X)\n",
        "    list_images_tensor = torch.cat(list_images)\n",
        "\n",
        "    return list_images_tensor\n"
      ],
      "metadata": {
        "id": "AXrug2s7BwwJ"
      },
      "execution_count": 48,
      "outputs": []
    },
    {
      "cell_type": "code",
      "source": [
        "list_images_tensor = load_images(valid_dataloader)"
      ],
      "metadata": {
        "colab": {
          "base_uri": "https://localhost:8080/"
        },
        "id": "uyAuYenTHGWg",
        "outputId": "5eada107-0e33-4bf9-822b-580f429b30ca"
      },
      "execution_count": 49,
      "outputs": [
        {
          "output_type": "stream",
          "name": "stderr",
          "text": [
            "100%|██████████| 16/16 [00:01<00:00, 12.06it/s]\n"
          ]
        }
      ]
    },
    {
      "cell_type": "code",
      "source": [
        "list_images_tensor.shape"
      ],
      "metadata": {
        "colab": {
          "base_uri": "https://localhost:8080/"
        },
        "id": "ONF-1TgDHhxl",
        "outputId": "98ca7a28-d1f0-415d-bca9-fcda630067f7"
      },
      "execution_count": 50,
      "outputs": [
        {
          "output_type": "execute_result",
          "data": {
            "text/plain": [
              "torch.Size([496, 3, 224, 224])"
            ]
          },
          "metadata": {},
          "execution_count": 50
        }
      ]
    },
    {
      "cell_type": "code",
      "source": [
        "a = list_images_tensor.unsqueeze(1)"
      ],
      "metadata": {
        "id": "8Ys_ajQgH9DL"
      },
      "execution_count": 51,
      "outputs": []
    },
    {
      "cell_type": "code",
      "source": [
        "a.shape\n"
      ],
      "metadata": {
        "colab": {
          "base_uri": "https://localhost:8080/"
        },
        "id": "d1b07G2DICQ4",
        "outputId": "2f8a73c0-bd45-4da8-b88e-966b4dd103ac"
      },
      "execution_count": 52,
      "outputs": [
        {
          "output_type": "execute_result",
          "data": {
            "text/plain": [
              "torch.Size([496, 1, 3, 224, 224])"
            ]
          },
          "metadata": {},
          "execution_count": 52
        }
      ]
    },
    {
      "cell_type": "markdown",
      "source": [
        "#8. Create embedding"
      ],
      "metadata": {
        "id": "lPvDPZ7sHodl"
      }
    },
    {
      "cell_type": "code",
      "source": [
        "writer.add_embedding(embedding_vector_tensor, metadata=images_labels, label_img = list_images_tensor)\n"
      ],
      "metadata": {
        "id": "UGNGil9aHrg9"
      },
      "execution_count": 53,
      "outputs": []
    },
    {
      "cell_type": "code",
      "source": [
        "writer.flush()"
      ],
      "metadata": {
        "id": "28sk9_T8Hj4D"
      },
      "execution_count": 54,
      "outputs": []
    },
    {
      "cell_type": "markdown",
      "source": [
        "#9. Upload to dev"
      ],
      "metadata": {
        "id": "Sm1G5uiVJbDP"
      }
    },
    {
      "cell_type": "code",
      "source": [
        "!tensorboard dev upload --logdir {log_dir} \\\n",
        "  --name \"Projector 1\" \\\n",
        "  --description \"Hiragana\" \\\n",
        "  --one_shot"
      ],
      "metadata": {
        "colab": {
          "base_uri": "https://localhost:8080/"
        },
        "id": "vi0zEEFsIfgv",
        "outputId": "56e3dee2-f784-40fa-ebd0-157e05d15217"
      },
      "execution_count": 55,
      "outputs": [
        {
          "output_type": "stream",
          "name": "stdout",
          "text": [
            "2023-07-14 06:46:06.566694: W tensorflow/compiler/tf2tensorrt/utils/py_utils.cc:38] TF-TRT Warning: Could not find TensorRT\n",
            "\n",
            "***** TensorBoard Uploader *****\n",
            "\n",
            "This will upload your TensorBoard logs to https://tensorboard.dev/ from\n",
            "the following directory:\n",
            "\n",
            "logs/tensorboard_learning/projector/20230714-061741\n",
            "\n",
            "This TensorBoard will be visible to everyone. Do not upload sensitive\n",
            "data.\n",
            "\n",
            "Your use of this service is subject to Google's Terms of Service\n",
            "<https://policies.google.com/terms> and Privacy Policy\n",
            "<https://policies.google.com/privacy>, and TensorBoard.dev's Terms of Service\n",
            "<https://tensorboard.dev/policy/terms/>.\n",
            "\n",
            "This notice will not be shown again while you are logged into the uploader.\n",
            "To log out, run `tensorboard dev auth revoke`.\n",
            "\n",
            "Continue? (yes/NO) y\n",
            "\n",
            "To sign in with the TensorBoard uploader:\n",
            "\n",
            "1. On your computer or phone, visit:\n",
            "\n",
            "   https://www.google.com/device\n",
            "\n",
            "2. Sign in with your Google account, then enter:\n",
            "\n",
            "   LKM-SNZ-BWZ\n",
            "\n",
            "\n",
            "\n",
            "New experiment created. View your TensorBoard at: https://tensorboard.dev/experiment/a1cZDMvzRY2xwREOlNNXCA/\n",
            "\n",
            "\u001b[1m[2023-07-14T06:46:38]\u001b[0m Started scanning logdir.\n",
            "\u001b[1m[2023-07-14T06:46:38]\u001b[0m Done scanning logdir.\n",
            "TensorBoard was run in `one_shot` mode, but did not find any uploadable data in the specified logdir: logs/tensorboard_learning/projector/20230714-061741\n",
            "An empty experiment was created. To delete the empty experiment you can execute the following\n",
            "\n",
            "    tensorboard dev delete --experiment_id=a1cZDMvzRY2xwREOlNNXCA\n",
            "\n",
            "\n",
            "Done.\n"
          ]
        }
      ]
    },
    {
      "cell_type": "code",
      "source": [
        "!tensorboard dev upload --logdir logs/tensorboard_learning/projector/20230714-061741 \\\n",
        "  --name \"Projector 1\" \\\n",
        "  --description \"Hiragana\" \\\n",
        "  --one_shot"
      ],
      "metadata": {
        "colab": {
          "base_uri": "https://localhost:8080/"
        },
        "id": "ZSqKnnqlJkIc",
        "outputId": "c6e6ae44-6a56-4647-b0e7-ebb6be34b925"
      },
      "execution_count": 59,
      "outputs": [
        {
          "output_type": "stream",
          "name": "stdout",
          "text": [
            "2023-07-14 06:59:25.877074: W tensorflow/compiler/tf2tensorrt/utils/py_utils.cc:38] TF-TRT Warning: Could not find TensorRT\n",
            "\n",
            "New experiment created. View your TensorBoard at: https://tensorboard.dev/experiment/c1BNQIWpRWeaM3bwVOKmSQ/\n",
            "\n",
            "\u001b[1m[2023-07-14T06:59:28]\u001b[0m Started scanning logdir.\n",
            "\u001b[1m[2023-07-14T06:59:28]\u001b[0m Done scanning logdir.\n",
            "TensorBoard was run in `one_shot` mode, but did not find any uploadable data in the specified logdir: logs/tensorboard_learning/projector/20230714-061741\n",
            "An empty experiment was created. To delete the empty experiment you can execute the following\n",
            "\n",
            "    tensorboard dev delete --experiment_id=c1BNQIWpRWeaM3bwVOKmSQ\n",
            "\n",
            "\n",
            "Done.\n"
          ]
        }
      ]
    },
    {
      "cell_type": "code",
      "source": [
        "%load_ext tensorboard\n",
        "!tensorboard --logdir logs/tensorboard_learning/projector/20230714-061741\n",
        "# Control TensorBoard display. If no port is provided,\n",
        "# the most recently launched TensorBoard is used\n",
        "from tensorboard import notebook\n",
        "notebook.list() # V\n",
        "\n",
        "notebook.display(port=6006, height=1000)"
      ],
      "metadata": {
        "id": "0saqBU9-MYJP"
      },
      "execution_count": null,
      "outputs": []
    },
    {
      "cell_type": "code",
      "source": [
        "!pip install setup_google_colab"
      ],
      "metadata": {
        "colab": {
          "base_uri": "https://localhost:8080/"
        },
        "id": "65Z7aUefSK_o",
        "outputId": "5dc38813-fe52-49b4-e33c-9305ac295154"
      },
      "execution_count": 64,
      "outputs": [
        {
          "output_type": "stream",
          "name": "stdout",
          "text": [
            "\u001b[31mERROR: Could not find a version that satisfies the requirement setup_google_colab (from versions: none)\u001b[0m\u001b[31m\n",
            "\u001b[0m\u001b[31mERROR: No matching distribution found for setup_google_colab\u001b[0m\u001b[31m\n",
            "\u001b[0m"
          ]
        }
      ]
    },
    {
      "cell_type": "code",
      "source": [],
      "metadata": {
        "id": "b3NeHCd9T8SB"
      },
      "execution_count": null,
      "outputs": []
    }
  ]
}